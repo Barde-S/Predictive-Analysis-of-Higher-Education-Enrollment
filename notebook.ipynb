{
 "cells": [
  {
   "cell_type": "markdown",
   "id": "54e27824-c2cc-4050-8e8c-223036fe9b78",
   "metadata": {},
   "source": [
    "# **Exploring Higher Education Enrollment Trends: Data Analysis and Modeling**\n",
    "\n",
    "## Project Overview:\n",
    "\n",
    "Welcome to the exploration of Higher Education Enrollment Trends, a comprehensive endeavor aimed at deciphering the factors influencing student participation and course preferences within our local University. This project encompasses a range of tasks, from data analysis and visualization to predictive modeling. We'll undertake a step-by-step journey to extract meaningful insights and develop predictive models that inform strategic decisions.\n",
    "\n",
    "## Tasks:\n",
    "\n",
    "### Task 1: Data Understanding and Preprocessing\n",
    "\n",
    "For each column in the dataset:\n",
    "a. We will assess whether the values match the predefined descriptions.\n",
    "b. Identify the number of missing values present.\n",
    "c. Detail the steps taken to align values with the provided descriptions if discrepancies were found.\n",
    "\n",
    "### Task 2: Distribution of Enrollment Counts\n",
    "\n",
    "We will delve into the distribution of enrollment counts and present it through a visualization, offering an intuitive understanding of the enrollment patterns.\n",
    "\n",
    "### Task 3: Visualization of Course Types\n",
    "\n",
    "We will create a visualization showcasing the distribution of course types and leverage it to:\n",
    "a. Identify the type of course with the highest frequency of observations.\n",
    "b. Evaluate whether the observations are balanced across different course types.\n",
    "\n",
    "### Task 4: Relationship between Course Type and Enrollment\n",
    "\n",
    "We will analyze the relationship between course type and enrollment counts, using an illustrative visualization to portray this connection.\n",
    "\n",
    "### Task 5: Predictive Modeling - Type of Machine Learning Problem\n",
    "\n",
    "We'll determine the nature of the predictive task for estimating student enrollments. In this case, it involves predicting a numerical value, which corresponds to a regression problem.\n",
    "\n",
    "### Task 6: Baseline Model for Enrollment Prediction\n",
    "\n",
    "We will develop and fit a baseline model to predict student enrollments using the provided data. The code implementing this baseline model will be included.\n",
    "\n",
    "### Task 7: Comparison Model for Enrollment Prediction\n",
    "\n",
    "We will go a step further and create a comparison model for enrollment prediction, employing a different approach. The code for this comparison model will also be provided.\n",
    "\n",
    "### Task 8: Model Selection Rationale\n",
    "\n",
    "An explanation will be offered for the selection of the baseline and comparison models, outlining the reasoning behind our choices.\n",
    "\n",
    "### Task 9: Model Performance Comparison\n",
    "\n",
    "We will compare the performance of the baseline and comparison models using suitable evaluation methods. The code for this performance evaluation will be shared.\n",
    "\n",
    "### Task 10: Model Performance Analysis\n",
    "\n",
    "Based on the performance comparison, we will elucidate which model outperforms the other and provide reasoning for the observed results.\n",
    "\n",
    "Through these tasks, we aim to unravel the intricate landscape of higher education enrollment trends, offering valuable insights and predictive capabilities that empower our University to make informed decisions and foster a more enriching learning experience. Stay tuned for a data-driven journey that illuminates the path forward."
   ]
  },
  {
   "cell_type": "markdown",
   "id": "836353de-534f-460d-b9ce-e92cc3646c65",
   "metadata": {},
   "source": [
    " \n",
    "## Importing Packages"
   ]
  },
  {
   "cell_type": "code",
   "execution_count": 68,
   "id": "6e2fa30c-ac34-4e65-841c-20baf6b9a751",
   "metadata": {
    "executionCancelledAt": null,
    "executionTime": 47,
    "lastExecutedAt": 1691831407572,
    "lastScheduledRunId": null,
    "lastSuccessfullyExecutedCode": "# Libraries for data loading, data manipulation and data visulisation\nimport pandas as pd\nimport numpy as np\nimport matplotlib.pyplot as plt\nimport seaborn as sns\n%matplotlib inline\nimport plotly.express as px\n\n\n\n# Libraries for data preparation and model building\nimport sklearn\nfrom sklearn.model_selection import train_test_split\nfrom sklearn.model_selection import GridSearchCV\nfrom sklearn.linear_model import LinearRegression\nfrom sklearn.metrics import mean_absolute_error as mae, mean_squared_error as mse, r2_score\nfrom sklearn.linear_model import Lasso\nfrom sklearn.model_selection import cross_val_score, KFold\nfrom sklearn.metrics import confusion_matrix, classification_report, f1_score, accuracy_score\nfrom sklearn.preprocessing import StandardScaler, LabelEncoder\nfrom sklearn.ensemble import RandomForestRegressor\nfrom sklearn.tree import DecisionTreeRegressor\nfrom sklearn.feature_selection import chi2, SelectKBest\nfrom sklearn.linear_model import ElasticNet\nfrom sklearn.preprocessing import PolynomialFeatures\nfrom sklearn.linear_model import LogisticRegression\nfrom sklearn.tree import DecisionTreeClassifier\nfrom sklearn.ensemble import RandomForestClassifier\nfrom sklearn.svm import SVC\nfrom sklearn.naive_bayes import GaussianNB\nfrom sklearn.ensemble import GradientBoostingClassifier\nfrom sklearn.neural_network import MLPClassifier\nfrom sklearn.metrics import accuracy_score\nfrom sklearn.svm import SVR\nfrom sklearn.ensemble import RandomForestRegressor, GradientBoostingRegressor\nfrom sklearn.neural_network import MLPRegressor\nfrom sklearn.gaussian_process import GaussianProcessRegressor\nfrom sklearn.neighbors import KNeighborsClassifier\nfrom sklearn.ensemble import VotingClassifier \nfrom sklearn.neighbors import KNeighborsRegressor\nfrom sklearn.gaussian_process.kernels import WhiteKernel, RBF\nimport xgboost as xgb\nimport catboost as cb\nfrom catboost import CatBoostClassifier\nfrom sklearn.linear_model import HuberRegressor, TheilSenRegressor\nfrom sklearn.model_selection import GridSearchCV\n\n\n\n\n# enhanced stats functions\nfrom scipy import stats\nfrom statsmodels.graphics.correlation import plot_corr\nimport statsmodels.formula.api as sm\nfrom statsmodels.formula.api import ols\nfrom scipy.stats import pearsonr\nfrom sklearn.linear_model import Lasso\nfrom sklearn.linear_model import Ridge\n\n\n# Setting global constants to ensure notebook results are reproducible\nPARAMETER_CONSTANT = 42\nimport warnings\nwarnings.filterwarnings('ignore')"
   },
   "outputs": [],
   "source": [
    "# Libraries for data loading, data manipulation and data visulisation\n",
    "import pandas as pd\n",
    "import numpy as np\n",
    "import matplotlib.pyplot as plt\n",
    "import seaborn as sns\n",
    "%matplotlib inline\n",
    "import plotly.express as px\n",
    "\n",
    "\n",
    "\n",
    "# Libraries for data preparation and model building\n",
    "import sklearn\n",
    "from sklearn.model_selection import train_test_split\n",
    "from sklearn.model_selection import GridSearchCV\n",
    "from sklearn.linear_model import LinearRegression\n",
    "from sklearn.metrics import mean_absolute_error as mae, mean_squared_error as mse, r2_score\n",
    "from sklearn.linear_model import Lasso\n",
    "from sklearn.model_selection import cross_val_score, KFold\n",
    "from sklearn.metrics import confusion_matrix, classification_report, f1_score, accuracy_score\n",
    "from sklearn.preprocessing import StandardScaler, LabelEncoder\n",
    "from sklearn.ensemble import RandomForestRegressor\n",
    "from sklearn.tree import DecisionTreeRegressor\n",
    "from sklearn.feature_selection import chi2, SelectKBest\n",
    "from sklearn.linear_model import ElasticNet\n",
    "from sklearn.preprocessing import PolynomialFeatures\n",
    "from sklearn.linear_model import LogisticRegression\n",
    "from sklearn.tree import DecisionTreeClassifier\n",
    "from sklearn.ensemble import RandomForestClassifier\n",
    "from sklearn.svm import SVC\n",
    "from sklearn.naive_bayes import GaussianNB\n",
    "from sklearn.ensemble import GradientBoostingClassifier\n",
    "from sklearn.neural_network import MLPClassifier\n",
    "from sklearn.metrics import accuracy_score\n",
    "from sklearn.svm import SVR\n",
    "from sklearn.ensemble import RandomForestRegressor, GradientBoostingRegressor\n",
    "from sklearn.neural_network import MLPRegressor\n",
    "from sklearn.gaussian_process import GaussianProcessRegressor\n",
    "from sklearn.neighbors import KNeighborsClassifier\n",
    "from sklearn.ensemble import VotingClassifier \n",
    "from sklearn.neighbors import KNeighborsRegressor\n",
    "from sklearn.gaussian_process.kernels import WhiteKernel, RBF\n",
    "import xgboost as xgb\n",
    "import catboost as cb\n",
    "from catboost import CatBoostClassifier\n",
    "from sklearn.linear_model import HuberRegressor, TheilSenRegressor\n",
    "from sklearn.model_selection import GridSearchCV\n",
    "\n",
    "\n",
    "\n",
    "\n",
    "# enhanced stats functions\n",
    "from scipy import stats\n",
    "from statsmodels.graphics.correlation import plot_corr\n",
    "import statsmodels.formula.api as sm\n",
    "from statsmodels.formula.api import ols\n",
    "from scipy.stats import pearsonr\n",
    "from sklearn.linear_model import Lasso\n",
    "from sklearn.linear_model import Ridge\n",
    "\n",
    "\n",
    "# Setting global constants to ensure notebook results are reproducible\n",
    "PARAMETER_CONSTANT = 42\n",
    "import warnings\n",
    "warnings.filterwarnings('ignore')"
   ]
  },
  {
   "cell_type": "markdown",
   "id": "0944d9ab-ff5a-4dd3-bd52-e27b91d68581",
   "metadata": {},
   "source": [
    "## Loading the Data"
   ]
  },
  {
   "cell_type": "code",
   "execution_count": 69,
   "id": "a043a85d-b295-4f4b-acd1-0b2468ac1f0a",
   "metadata": {
    "executionCancelledAt": null,
    "executionTime": 48,
    "lastExecutedAt": 1691831407621,
    "lastScheduledRunId": null,
    "lastSuccessfullyExecutedCode": "df = pd.read_csv('university_enrollment_2306.csv')\ndf.head()",
    "outputsMetadata": {
     "0": {
      "height": 196,
      "type": "dataFrame"
     }
    }
   },
   "outputs": [
    {
     "data": {
      "application/com.datacamp.data-table.v1+json": {
       "table": {
        "data": [
         {
          "course_id": 1,
          "course_type": "classroom",
          "department": "Science",
          "enrollment_count": 165,
          "index": 0,
          "post_score": 73,
          "pre_requirement": "Beginner",
          "pre_score": "28.14",
          "year": 2018
         },
         {
          "course_id": 2,
          "course_type": "classroom",
          "department": "Science",
          "enrollment_count": 175,
          "index": 1,
          "post_score": 86,
          "pre_requirement": "None",
          "pre_score": "79.68",
          "year": 2020
         },
         {
          "course_id": 3,
          "course_type": "online",
          "department": "Mathematics",
          "enrollment_count": 257,
          "index": 2,
          "post_score": 80,
          "pre_requirement": null,
          "pre_score": "57.24",
          "year": 2016
         },
         {
          "course_id": 4,
          "course_type": "online",
          "department": "Technology",
          "enrollment_count": 251,
          "index": 3,
          "post_score": 75,
          "pre_requirement": "Beginner",
          "pre_score": "97.67",
          "year": 2013
         },
         {
          "course_id": 5,
          "course_type": "classroom",
          "department": "Science",
          "enrollment_count": 165,
          "index": 4,
          "post_score": 76,
          "pre_requirement": "Beginner",
          "pre_score": "39.75",
          "year": 2019
         }
        ],
        "schema": {
         "fields": [
          {
           "name": "index",
           "type": "integer"
          },
          {
           "name": "course_id",
           "type": "integer"
          },
          {
           "name": "course_type",
           "type": "string"
          },
          {
           "name": "year",
           "type": "integer"
          },
          {
           "name": "enrollment_count",
           "type": "integer"
          },
          {
           "name": "pre_score",
           "type": "string"
          },
          {
           "name": "post_score",
           "type": "number"
          },
          {
           "name": "pre_requirement",
           "type": "string"
          },
          {
           "name": "department",
           "type": "string"
          }
         ],
         "pandas_version": "1.4.0",
         "primaryKey": [
          "index"
         ]
        }
       },
       "total_rows": 5,
       "truncation_type": null
      },
      "text/html": [
       "<div>\n",
       "<style scoped>\n",
       "    .dataframe tbody tr th:only-of-type {\n",
       "        vertical-align: middle;\n",
       "    }\n",
       "\n",
       "    .dataframe tbody tr th {\n",
       "        vertical-align: top;\n",
       "    }\n",
       "\n",
       "    .dataframe thead th {\n",
       "        text-align: right;\n",
       "    }\n",
       "</style>\n",
       "<table border=\"1\" class=\"dataframe\">\n",
       "  <thead>\n",
       "    <tr style=\"text-align: right;\">\n",
       "      <th></th>\n",
       "      <th>course_id</th>\n",
       "      <th>course_type</th>\n",
       "      <th>year</th>\n",
       "      <th>enrollment_count</th>\n",
       "      <th>pre_score</th>\n",
       "      <th>post_score</th>\n",
       "      <th>pre_requirement</th>\n",
       "      <th>department</th>\n",
       "    </tr>\n",
       "  </thead>\n",
       "  <tbody>\n",
       "    <tr>\n",
       "      <th>0</th>\n",
       "      <td>1</td>\n",
       "      <td>classroom</td>\n",
       "      <td>2018</td>\n",
       "      <td>165</td>\n",
       "      <td>28.14</td>\n",
       "      <td>73.0</td>\n",
       "      <td>Beginner</td>\n",
       "      <td>Science</td>\n",
       "    </tr>\n",
       "    <tr>\n",
       "      <th>1</th>\n",
       "      <td>2</td>\n",
       "      <td>classroom</td>\n",
       "      <td>2020</td>\n",
       "      <td>175</td>\n",
       "      <td>79.68</td>\n",
       "      <td>86.0</td>\n",
       "      <td>None</td>\n",
       "      <td>Science</td>\n",
       "    </tr>\n",
       "    <tr>\n",
       "      <th>2</th>\n",
       "      <td>3</td>\n",
       "      <td>online</td>\n",
       "      <td>2016</td>\n",
       "      <td>257</td>\n",
       "      <td>57.24</td>\n",
       "      <td>80.0</td>\n",
       "      <td>NaN</td>\n",
       "      <td>Mathematics</td>\n",
       "    </tr>\n",
       "    <tr>\n",
       "      <th>3</th>\n",
       "      <td>4</td>\n",
       "      <td>online</td>\n",
       "      <td>2013</td>\n",
       "      <td>251</td>\n",
       "      <td>97.67</td>\n",
       "      <td>75.0</td>\n",
       "      <td>Beginner</td>\n",
       "      <td>Technology</td>\n",
       "    </tr>\n",
       "    <tr>\n",
       "      <th>4</th>\n",
       "      <td>5</td>\n",
       "      <td>classroom</td>\n",
       "      <td>2019</td>\n",
       "      <td>165</td>\n",
       "      <td>39.75</td>\n",
       "      <td>76.0</td>\n",
       "      <td>Beginner</td>\n",
       "      <td>Science</td>\n",
       "    </tr>\n",
       "  </tbody>\n",
       "</table>\n",
       "</div>"
      ],
      "text/plain": [
       "   course_id course_type  year  ...  post_score pre_requirement   department\n",
       "0          1   classroom  2018  ...        73.0        Beginner      Science\n",
       "1          2   classroom  2020  ...        86.0            None      Science\n",
       "2          3      online  2016  ...        80.0             NaN  Mathematics\n",
       "3          4      online  2013  ...        75.0        Beginner   Technology\n",
       "4          5   classroom  2019  ...        76.0        Beginner      Science\n",
       "\n",
       "[5 rows x 8 columns]"
      ]
     },
     "execution_count": 69,
     "metadata": {},
     "output_type": "execute_result"
    }
   ],
   "source": [
    "df = pd.read_csv('university_enrollment_2306.csv')\n",
    "df.head()"
   ]
  },
  {
   "cell_type": "markdown",
   "id": "c509bc83-41a5-42cf-a865-08dcf8229a16",
   "metadata": {},
   "source": [
    "## **Exploratory** Data Analysis"
   ]
  },
  {
   "cell_type": "markdown",
   "id": "e77de166-5be2-493f-8533-b8e1357bff9b",
   "metadata": {},
   "source": [
    "## Task 1\n",
    "### Data Understanding and Preprocessing"
   ]
  },
  {
   "cell_type": "code",
   "execution_count": 70,
   "id": "6394fcd1-7b3b-40f2-a2a3-11a71f21df41",
   "metadata": {
    "executionCancelledAt": null,
    "executionTime": 52,
    "lastExecutedAt": 1691831407673,
    "lastScheduledRunId": null,
    "lastSuccessfullyExecutedCode": "df.info()",
    "outputsMetadata": {
     "0": {
      "height": 310,
      "type": "stream"
     }
    }
   },
   "outputs": [
    {
     "name": "stdout",
     "output_type": "stream",
     "text": [
      "<class 'pandas.core.frame.DataFrame'>\n",
      "RangeIndex: 1850 entries, 0 to 1849\n",
      "Data columns (total 8 columns):\n",
      " #   Column            Non-Null Count  Dtype  \n",
      "---  ------            --------------  -----  \n",
      " 0   course_id         1850 non-null   int64  \n",
      " 1   course_type       1850 non-null   object \n",
      " 2   year              1850 non-null   int64  \n",
      " 3   enrollment_count  1850 non-null   int64  \n",
      " 4   pre_score         1850 non-null   object \n",
      " 5   post_score        1665 non-null   float64\n",
      " 6   pre_requirement   1761 non-null   object \n",
      " 7   department        1850 non-null   object \n",
      "dtypes: float64(1), int64(3), object(4)\n",
      "memory usage: 115.8+ KB\n"
     ]
    }
   ],
   "source": [
    "df.info()"
   ]
  },
  {
   "cell_type": "markdown",
   "id": "5ed51ae4-04ce-4554-83eb-f3d5936735c5",
   "metadata": {},
   "source": [
    "There are four numerical columns and also four object columns in the dataset. However, the pre_score column is in object data type which is supposed to be be in numerical data type"
   ]
  },
  {
   "cell_type": "code",
   "execution_count": 71,
   "id": "e8894343-c535-48fb-8d37-02b4bf5c0b70",
   "metadata": {
    "executionCancelledAt": null,
    "executionTime": 52,
    "lastExecutedAt": 1691831407725,
    "lastScheduledRunId": null,
    "lastSuccessfullyExecutedCode": "df.describe(include='all')",
    "outputsMetadata": {
     "0": {
      "height": 341,
      "type": "dataFrame"
     }
    }
   },
   "outputs": [
    {
     "data": {
      "application/com.datacamp.data-table.v1+json": {
       "table": {
        "data": [
         {
          "course_id": 1850,
          "course_type": 1850,
          "department": 1850,
          "enrollment_count": 1850,
          "index": "count",
          "post_score": 1665,
          "pre_requirement": 1761,
          "pre_score": 1850,
          "year": 1850
         },
         {
          "course_id": null,
          "course_type": 2,
          "department": 5,
          "enrollment_count": null,
          "index": "unique",
          "post_score": null,
          "pre_requirement": 3,
          "pre_score": 1594,
          "year": null
         },
         {
          "course_id": null,
          "course_type": "online",
          "department": "Technology",
          "enrollment_count": null,
          "index": "top",
          "post_score": null,
          "pre_requirement": "None",
          "pre_score": "-",
          "year": null
         },
         {
          "course_id": null,
          "course_type": 1375,
          "department": 719,
          "enrollment_count": null,
          "index": "freq",
          "post_score": null,
          "pre_requirement": 802,
          "pre_score": 130,
          "year": null
         },
         {
          "course_id": 925.5,
          "course_type": null,
          "department": null,
          "enrollment_count": 231.5654054054,
          "index": "mean",
          "post_score": 75.2048048048,
          "pre_requirement": null,
          "pre_score": null,
          "year": 2016.4237837838
         },
         {
          "course_id": 534.1933170679,
          "course_type": null,
          "department": null,
          "enrollment_count": 36.9870293283,
          "index": "std",
          "post_score": 8.5119811474,
          "pre_requirement": null,
          "pre_score": null,
          "year": 3.4482776062
         },
         {
          "course_id": 1,
          "course_type": null,
          "department": null,
          "enrollment_count": 154,
          "index": "min",
          "post_score": 51,
          "pre_requirement": null,
          "pre_score": null,
          "year": 2011
         },
         {
          "course_id": 463.25,
          "course_type": null,
          "department": null,
          "enrollment_count": 185,
          "index": "25%",
          "post_score": 69,
          "pre_requirement": null,
          "pre_score": null,
          "year": 2013
         },
         {
          "course_id": 925.5,
          "course_type": null,
          "department": null,
          "enrollment_count": 251,
          "index": "50%",
          "post_score": 75,
          "pre_requirement": null,
          "pre_score": null,
          "year": 2016
         },
         {
          "course_id": 1387.75,
          "course_type": null,
          "department": null,
          "enrollment_count": 261,
          "index": "75%",
          "post_score": 81,
          "pre_requirement": null,
          "pre_score": null,
          "year": 2019
         },
         {
          "course_id": 1850,
          "course_type": null,
          "department": null,
          "enrollment_count": 267,
          "index": "max",
          "post_score": 105,
          "pre_requirement": null,
          "pre_score": null,
          "year": 2022
         }
        ],
        "schema": {
         "fields": [
          {
           "name": "index",
           "type": "string"
          },
          {
           "name": "course_id",
           "type": "number"
          },
          {
           "name": "course_type",
           "type": "string"
          },
          {
           "name": "year",
           "type": "number"
          },
          {
           "name": "enrollment_count",
           "type": "number"
          },
          {
           "name": "pre_score",
           "type": "string"
          },
          {
           "name": "post_score",
           "type": "number"
          },
          {
           "name": "pre_requirement",
           "type": "string"
          },
          {
           "name": "department",
           "type": "string"
          }
         ],
         "pandas_version": "1.4.0",
         "primaryKey": [
          "index"
         ]
        }
       },
       "total_rows": 11,
       "truncation_type": null
      },
      "text/html": [
       "<div>\n",
       "<style scoped>\n",
       "    .dataframe tbody tr th:only-of-type {\n",
       "        vertical-align: middle;\n",
       "    }\n",
       "\n",
       "    .dataframe tbody tr th {\n",
       "        vertical-align: top;\n",
       "    }\n",
       "\n",
       "    .dataframe thead th {\n",
       "        text-align: right;\n",
       "    }\n",
       "</style>\n",
       "<table border=\"1\" class=\"dataframe\">\n",
       "  <thead>\n",
       "    <tr style=\"text-align: right;\">\n",
       "      <th></th>\n",
       "      <th>course_id</th>\n",
       "      <th>course_type</th>\n",
       "      <th>year</th>\n",
       "      <th>enrollment_count</th>\n",
       "      <th>pre_score</th>\n",
       "      <th>post_score</th>\n",
       "      <th>pre_requirement</th>\n",
       "      <th>department</th>\n",
       "    </tr>\n",
       "  </thead>\n",
       "  <tbody>\n",
       "    <tr>\n",
       "      <th>count</th>\n",
       "      <td>1850.000000</td>\n",
       "      <td>1850</td>\n",
       "      <td>1850.000000</td>\n",
       "      <td>1850.000000</td>\n",
       "      <td>1850</td>\n",
       "      <td>1665.000000</td>\n",
       "      <td>1761</td>\n",
       "      <td>1850</td>\n",
       "    </tr>\n",
       "    <tr>\n",
       "      <th>unique</th>\n",
       "      <td>NaN</td>\n",
       "      <td>2</td>\n",
       "      <td>NaN</td>\n",
       "      <td>NaN</td>\n",
       "      <td>1594</td>\n",
       "      <td>NaN</td>\n",
       "      <td>3</td>\n",
       "      <td>5</td>\n",
       "    </tr>\n",
       "    <tr>\n",
       "      <th>top</th>\n",
       "      <td>NaN</td>\n",
       "      <td>online</td>\n",
       "      <td>NaN</td>\n",
       "      <td>NaN</td>\n",
       "      <td>-</td>\n",
       "      <td>NaN</td>\n",
       "      <td>None</td>\n",
       "      <td>Technology</td>\n",
       "    </tr>\n",
       "    <tr>\n",
       "      <th>freq</th>\n",
       "      <td>NaN</td>\n",
       "      <td>1375</td>\n",
       "      <td>NaN</td>\n",
       "      <td>NaN</td>\n",
       "      <td>130</td>\n",
       "      <td>NaN</td>\n",
       "      <td>802</td>\n",
       "      <td>719</td>\n",
       "    </tr>\n",
       "    <tr>\n",
       "      <th>mean</th>\n",
       "      <td>925.500000</td>\n",
       "      <td>NaN</td>\n",
       "      <td>2016.423784</td>\n",
       "      <td>231.565405</td>\n",
       "      <td>NaN</td>\n",
       "      <td>75.204805</td>\n",
       "      <td>NaN</td>\n",
       "      <td>NaN</td>\n",
       "    </tr>\n",
       "    <tr>\n",
       "      <th>std</th>\n",
       "      <td>534.193317</td>\n",
       "      <td>NaN</td>\n",
       "      <td>3.448278</td>\n",
       "      <td>36.987029</td>\n",
       "      <td>NaN</td>\n",
       "      <td>8.511981</td>\n",
       "      <td>NaN</td>\n",
       "      <td>NaN</td>\n",
       "    </tr>\n",
       "    <tr>\n",
       "      <th>min</th>\n",
       "      <td>1.000000</td>\n",
       "      <td>NaN</td>\n",
       "      <td>2011.000000</td>\n",
       "      <td>154.000000</td>\n",
       "      <td>NaN</td>\n",
       "      <td>51.000000</td>\n",
       "      <td>NaN</td>\n",
       "      <td>NaN</td>\n",
       "    </tr>\n",
       "    <tr>\n",
       "      <th>25%</th>\n",
       "      <td>463.250000</td>\n",
       "      <td>NaN</td>\n",
       "      <td>2013.000000</td>\n",
       "      <td>185.000000</td>\n",
       "      <td>NaN</td>\n",
       "      <td>69.000000</td>\n",
       "      <td>NaN</td>\n",
       "      <td>NaN</td>\n",
       "    </tr>\n",
       "    <tr>\n",
       "      <th>50%</th>\n",
       "      <td>925.500000</td>\n",
       "      <td>NaN</td>\n",
       "      <td>2016.000000</td>\n",
       "      <td>251.000000</td>\n",
       "      <td>NaN</td>\n",
       "      <td>75.000000</td>\n",
       "      <td>NaN</td>\n",
       "      <td>NaN</td>\n",
       "    </tr>\n",
       "    <tr>\n",
       "      <th>75%</th>\n",
       "      <td>1387.750000</td>\n",
       "      <td>NaN</td>\n",
       "      <td>2019.000000</td>\n",
       "      <td>261.000000</td>\n",
       "      <td>NaN</td>\n",
       "      <td>81.000000</td>\n",
       "      <td>NaN</td>\n",
       "      <td>NaN</td>\n",
       "    </tr>\n",
       "    <tr>\n",
       "      <th>max</th>\n",
       "      <td>1850.000000</td>\n",
       "      <td>NaN</td>\n",
       "      <td>2022.000000</td>\n",
       "      <td>267.000000</td>\n",
       "      <td>NaN</td>\n",
       "      <td>105.000000</td>\n",
       "      <td>NaN</td>\n",
       "      <td>NaN</td>\n",
       "    </tr>\n",
       "  </tbody>\n",
       "</table>\n",
       "</div>"
      ],
      "text/plain": [
       "          course_id course_type  ...  pre_requirement  department\n",
       "count   1850.000000        1850  ...             1761        1850\n",
       "unique          NaN           2  ...                3           5\n",
       "top             NaN      online  ...             None  Technology\n",
       "freq            NaN        1375  ...              802         719\n",
       "mean     925.500000         NaN  ...              NaN         NaN\n",
       "std      534.193317         NaN  ...              NaN         NaN\n",
       "min        1.000000         NaN  ...              NaN         NaN\n",
       "25%      463.250000         NaN  ...              NaN         NaN\n",
       "50%      925.500000         NaN  ...              NaN         NaN\n",
       "75%     1387.750000         NaN  ...              NaN         NaN\n",
       "max     1850.000000         NaN  ...              NaN         NaN\n",
       "\n",
       "[11 rows x 8 columns]"
      ]
     },
     "execution_count": 71,
     "metadata": {},
     "output_type": "execute_result"
    }
   ],
   "source": [
    "df.describe(include='all')"
   ]
  },
  {
   "cell_type": "code",
   "execution_count": 72,
   "id": "fd3ab81d-9589-4fbb-9b4a-da4a8ec88334",
   "metadata": {
    "executionCancelledAt": null,
    "executionTime": 48,
    "lastExecutedAt": 1691831407773,
    "lastScheduledRunId": null,
    "lastSuccessfullyExecutedCode": "df.duplicated().sum()"
   },
   "outputs": [
    {
     "data": {
      "text/plain": [
       "0"
      ]
     },
     "execution_count": 72,
     "metadata": {},
     "output_type": "execute_result"
    }
   ],
   "source": [
    "df.duplicated().sum()"
   ]
  },
  {
   "cell_type": "markdown",
   "id": "495295e9-2d43-4094-b311-1d9bd4353ad1",
   "metadata": {},
   "source": [
    "There isn't any redundant entry across the rows in the dataset"
   ]
  },
  {
   "cell_type": "code",
   "execution_count": 73,
   "id": "28dfae0b-18a3-4298-ad22-a9bafa1244e7",
   "metadata": {
    "executionCancelledAt": null,
    "executionTime": 56,
    "lastExecutedAt": 1691831407829,
    "lastScheduledRunId": null,
    "lastSuccessfullyExecutedCode": "df.isna().sum()"
   },
   "outputs": [
    {
     "data": {
      "text/plain": [
       "course_id             0\n",
       "course_type           0\n",
       "year                  0\n",
       "enrollment_count      0\n",
       "pre_score             0\n",
       "post_score          185\n",
       "pre_requirement      89\n",
       "department            0\n",
       "dtype: int64"
      ]
     },
     "execution_count": 73,
     "metadata": {},
     "output_type": "execute_result"
    }
   ],
   "source": [
    "df.isna().sum()"
   ]
  },
  {
   "cell_type": "markdown",
   "id": "1492c4cd-6cd0-40d4-81cc-0ba5b8163b47",
   "metadata": {},
   "source": [
    "All except two columns has missing or null entries. The first column is post_score which has 186 missing entries. Pre_requirement column also has 89 missing values. Some data processing is needed to be done to ensure the data is clean"
   ]
  },
  {
   "cell_type": "code",
   "execution_count": 74,
   "id": "6aa71feb-f047-45c6-b458-f1dd469f1817",
   "metadata": {
    "executionCancelledAt": null,
    "executionTime": 51,
    "lastExecutedAt": 1691831407880,
    "lastScheduledRunId": null,
    "lastSuccessfullyExecutedCode": "df['pre_score'] = df['pre_score'].replace(\"-\", 0)\ndf['post_score'] = df['post_score'].fillna(0)\ndf['pre_score'] = df['pre_score'].astype('float')\ndf['pre_score'] = df['pre_score'].fillna(0)\ndf['pre_requirement'] = df['pre_requirement'].fillna('None')\n"
   },
   "outputs": [],
   "source": [
    "df['pre_score'] = df['pre_score'].replace(\"-\", 0)\n",
    "df['post_score'] = df['post_score'].fillna(0)\n",
    "df['pre_score'] = df['pre_score'].astype('float')\n",
    "df['pre_score'] = df['pre_score'].fillna(0)\n",
    "df['pre_requirement'] = df['pre_requirement'].fillna('None')\n"
   ]
  },
  {
   "cell_type": "markdown",
   "id": "9cec6008-d82a-4ef2-9981-3a1540e93026",
   "metadata": {},
   "source": [
    "The pre_score column has some characters iin it, which was replaced with zero. It was then converted into numeric data type, together with post_score column they were both filled with zero where there is missing value. Pre_requirement column however, was filled with 'None' where there is missing entry as it is of object data type."
   ]
  },
  {
   "cell_type": "code",
   "execution_count": 75,
   "id": "09b5008b-8ba0-4209-8bed-16a074893029",
   "metadata": {
    "executionCancelledAt": null,
    "executionTime": 48,
    "lastExecutedAt": 1691831407929,
    "lastScheduledRunId": null,
    "lastSuccessfullyExecutedCode": "for column in df.columns:\n    unique_entries = df[column].unique()\n    print(f\"Unique entries in column '{column}':\")\n    print(unique_entries)\n    print(\"=\" * 50)",
    "outputsMetadata": {
     "0": {
      "height": 583,
      "type": "stream"
     }
    }
   },
   "outputs": [
    {
     "name": "stdout",
     "output_type": "stream",
     "text": [
      "Unique entries in column 'course_id':\n",
      "[   1    2    3 ... 1848 1849 1850]\n",
      "==================================================\n",
      "Unique entries in column 'course_type':\n",
      "['classroom' 'online']\n",
      "==================================================\n",
      "Unique entries in column 'year':\n",
      "[2018 2020 2016 2013 2019 2014 2021 2022 2011 2015 2012 2017]\n",
      "==================================================\n",
      "Unique entries in column 'enrollment_count':\n",
      "[165 175 257 251 246 241 261 180 170 256 231 181 236 185 247 155 160 161\n",
      " 266 237 242 255 245 248 252 238 232 235 171 258 240 169 190 267 156 182\n",
      " 176 179 154 250 249 159 166 164 262]\n",
      "==================================================\n",
      "Unique entries in column 'pre_score':\n",
      "[28.14 79.68 57.24 ... 76.   20.67 17.57]\n",
      "==================================================\n",
      "Unique entries in column 'post_score':\n",
      "[ 73.  86.  80.  75.  76.  84.  88.  87.  79.  74.  85.  81.  70.  65.\n",
      "   0.  72.  77.  83.  67.  96.  82.  94.  66.  91.  63.  61.  78.  62.\n",
      "  90.  69.  60.  71.  95.  68.  54.  64. 105.  57.  98.  55.  56.  59.\n",
      "  93.  51.  89.  92.  58.  97.  99. 100.  53. 102. 101. 103.]\n",
      "==================================================\n",
      "Unique entries in column 'pre_requirement':\n",
      "['Beginner' 'None' 'Intermediate']\n",
      "==================================================\n",
      "Unique entries in column 'department':\n",
      "['Science' 'Mathematics' 'Technology' 'Math' 'Engineering']\n",
      "==================================================\n"
     ]
    }
   ],
   "source": [
    "for column in df.columns:\n",
    "    unique_entries = df[column].unique()\n",
    "    print(f\"Unique entries in column '{column}':\")\n",
    "    print(unique_entries)\n",
    "    print(\"=\" * 50)"
   ]
  },
  {
   "cell_type": "markdown",
   "id": "9a72d494-094f-4126-b65d-9352cef43048",
   "metadata": {},
   "source": [
    "The unique entries in each column got printed in order to be sure that there are no any anomalous data entered."
   ]
  },
  {
   "cell_type": "code",
   "execution_count": 76,
   "id": "74c79102-d3b9-432b-9789-b511ce058139",
   "metadata": {
    "executionCancelledAt": null,
    "executionTime": 48,
    "lastExecutedAt": 1691831407977,
    "lastScheduledRunId": null,
    "lastSuccessfullyExecutedCode": "df['department'] = df['department'].replace('Math', 'Mathematics')\ndf['department'].unique()"
   },
   "outputs": [
    {
     "data": {
      "text/plain": [
       "array(['Science', 'Mathematics', 'Technology', 'Engineering'],\n",
       "      dtype=object)"
      ]
     },
     "execution_count": 76,
     "metadata": {},
     "output_type": "execute_result"
    }
   ],
   "source": [
    "df['department'] = df['department'].replace('Math', 'Mathematics')\n",
    "df['department'].unique()"
   ]
  },
  {
   "cell_type": "markdown",
   "id": "079ea6fa-1ee2-4e33-9085-d17e2b1e967d",
   "metadata": {},
   "source": [
    "The department column has anomalous entry which got corrected. This is done by replacing 'Math' with 'Mathematics' "
   ]
  },
  {
   "cell_type": "code",
   "execution_count": 77,
   "id": "0bf74c35-0bda-4674-a098-b83a5deb7275",
   "metadata": {
    "executionCancelledAt": null,
    "executionTime": 99,
    "lastExecutedAt": 1691831408076,
    "lastScheduledRunId": null,
    "lastSuccessfullyExecutedCode": "sns.boxplot(df['enrollment_count'])"
   },
   "outputs": [
    {
     "data": {
      "text/plain": [
       "<AxesSubplot: >"
      ]
     },
     "execution_count": 77,
     "metadata": {},
     "output_type": "execute_result"
    },
    {
     "data": {
      "image/png": "[encoded data removed]",
      "text/plain": [
       "<Figure size 640x480 with 1 Axes>"
      ]
     },
     "metadata": {},
     "output_type": "display_data"
    }
   ],
   "source": [
    "sns.boxplot(df['enrollment_count'])"
   ]
  },
  {
   "cell_type": "markdown",
   "id": "c0a2ee6b-3d07-4143-895b-dc81f808821a",
   "metadata": {},
   "source": [
    "There are no outliers in the enrollment_count column"
   ]
  },
  {
   "cell_type": "code",
   "execution_count": 78,
   "id": "c0878699-6635-4a11-8eee-d411e7fdc914",
   "metadata": {
    "executionCancelledAt": null,
    "executionTime": 336,
    "lastExecutedAt": 1691831408412,
    "lastScheduledRunId": null,
    "lastSuccessfullyExecutedCode": "correlation = df.corr()\nsns.heatmap(correlation, annot=True, cmap=plt.cm.PuBu)"
   },
   "outputs": [
    {
     "data": {
      "text/plain": [
       "<AxesSubplot: >"
      ]
     },
     "execution_count": 78,
     "metadata": {},
     "output_type": "execute_result"
    },
    {
     "data": {
      "image/png": "[encoded data removed]",
      "text/plain": [
       "<Figure size 640x480 with 2 Axes>"
      ]
     },
     "metadata": {},
     "output_type": "display_data"
    }
   ],
   "source": [
    "correlation = df.corr()\n",
    "sns.heatmap(correlation, annot=True, cmap=plt.cm.PuBu)"
   ]
  },
  {
   "cell_type": "markdown",
   "id": "17cca003-71ad-4d7e-989b-09aa51ae0aba",
   "metadata": {},
   "source": [
    "## Task 2\n",
    "### *Distribution of Enrollment Counts*"
   ]
  },
  {
   "cell_type": "code",
   "execution_count": 79,
   "id": "c5ec732c-01ff-462f-a80e-d421358a3b81",
   "metadata": {
    "executionCancelledAt": null,
    "executionTime": 187,
    "lastExecutedAt": 1691831408600,
    "lastScheduledRunId": null,
    "lastSuccessfullyExecutedCode": "enrollment_counts = df['enrollment_count']\n\n# Create a histogram\nplt.figure(figsize=(10, 6))\nplt.hist(enrollment_counts, bins=20, color='skyblue', edgecolor='black')\nplt.title('Distribution of Enrollment Counts')\nplt.xlabel('Enrollment Counts')\nplt.ylabel('Frequency')\nplt.grid(True)\nplt.show()"
   },
   "outputs": [
    {
     "data": {
      "image/png": "[encoded data removed]",
      "text/plain": [
       "<Figure size 1000x600 with 1 Axes>"
      ]
     },
     "metadata": {},
     "output_type": "display_data"
    }
   ],
   "source": [
    "enrollment_counts = df['enrollment_count']\n",
    "\n",
    "# Create a histogram\n",
    "plt.figure(figsize=(10, 6))\n",
    "plt.hist(enrollment_counts, bins=20, color='skyblue', edgecolor='black')\n",
    "plt.title('Distribution of Enrollment Counts')\n",
    "plt.xlabel('Enrollment Counts')\n",
    "plt.ylabel('Frequency')\n",
    "plt.grid(True)\n",
    "plt.show()"
   ]
  },
  {
   "cell_type": "markdown",
   "id": "b7e6383e-1065-4d09-beb2-e79c9690181f",
   "metadata": {},
   "source": [
    "Around 255 to 260 people enrol mostly for the courses"
   ]
  },
  {
   "cell_type": "code",
   "execution_count": 80,
   "id": "fd3ace7c-3ffb-4704-89d6-237fdf886138",
   "metadata": {
    "executionCancelledAt": null,
    "executionTime": 240,
    "lastExecutedAt": 1691831408840,
    "lastScheduledRunId": null,
    "lastSuccessfullyExecutedCode": "# Group the data by course_type and year, and sum the enrollment counts\ncourse_type_year_grouped = df.groupby(['course_type', 'year'])['enrollment_count'].sum().reset_index()\n\n# Create a line plot for each course type\nplt.figure(figsize=(10, 6))\nfor course_type in course_type_year_grouped['course_type'].unique():\n    course_type_data = course_type_year_grouped[course_type_year_grouped['course_type'] == course_type]\n    plt.plot(course_type_data['year'], course_type_data['enrollment_count'], marker='o', label=course_type)\n\nplt.title('Enrollment Count Across Years by Course Type')\nplt.xlabel('Year')\nplt.ylabel('Enrollment Count')\nplt.legend()\nplt.grid(True)\nplt.show()"
   },
   "outputs": [
    {
     "data": {
      "image/png": "[encoded data removed]",
      "text/plain": [
       "<Figure size 1000x600 with 1 Axes>"
      ]
     },
     "metadata": {},
     "output_type": "display_data"
    }
   ],
   "source": [
    "# Group the data by course_type and year, and sum the enrollment counts\n",
    "course_type_year_grouped = df.groupby(['course_type', 'year'])['enrollment_count'].sum().reset_index()\n",
    "\n",
    "# Create a line plot for each course type\n",
    "plt.figure(figsize=(10, 6))\n",
    "for course_type in course_type_year_grouped['course_type'].unique():\n",
    "    course_type_data = course_type_year_grouped[course_type_year_grouped['course_type'] == course_type]\n",
    "    plt.plot(course_type_data['year'], course_type_data['enrollment_count'], marker='o', label=course_type)\n",
    "\n",
    "plt.title('Enrollment Count Across Years by Course Type')\n",
    "plt.xlabel('Year')\n",
    "plt.ylabel('Enrollment Count')\n",
    "plt.legend()\n",
    "plt.grid(True)\n",
    "plt.show()"
   ]
  },
  {
   "cell_type": "markdown",
   "id": "99460783-6603-4ed3-a788-f7bd86befd52",
   "metadata": {},
   "source": [
    "Significant number of eople enrol mostly for online course type across the years. There were more online enrollment in 2012 and least in 2014. As for classroom, 2017 has least enrollment even though the figure seem to be kind of identical, while 2014 is the year that has most classroom enrollment. "
   ]
  },
  {
   "cell_type": "markdown",
   "id": "66e07a44-f276-4516-87ce-e460d3f1a33a",
   "metadata": {},
   "source": [
    "## Task 3\n",
    "### *Visualization of Course Types*"
   ]
  },
  {
   "cell_type": "code",
   "execution_count": 81,
   "id": "21b0c03c-b647-4b23-86f0-79a0ee4b7c1b",
   "metadata": {
    "executionCancelledAt": null,
    "executionTime": 221,
    "lastExecutedAt": 1691831409062,
    "lastScheduledRunId": null,
    "lastSuccessfullyExecutedCode": "# Create a count plot for course types\nplt.figure(figsize=(10, 6))\nsns.countplot(x='course_type', data=df, palette='viridis')\n\nplt.title('Distribution of Course Types')\nplt.xlabel('Course Type')\nplt.ylabel('Frequency')\nplt.xticks(rotation=45)\nplt.show()\n\n# Identify the type of course with the highest frequency\nmost_common_course_type = df['course_type'].value_counts().idxmax()\nprint(f\"Course type with the highest frequency: {most_common_course_type}\")\n\n# Evaluate the balance of observations across different course types\ncourse_type_counts = df['course_type'].value_counts()\ncourse_type_balance = course_type_counts / course_type_counts.sum()\nprint(\"\\nBalance of observations across different course types:\")\nprint(course_type_balance)",
    "outputsMetadata": {
     "1": {
      "height": 134,
      "type": "stream"
     }
    }
   },
   "outputs": [
    {
     "data": {
      "image/png": "[encoded data removed]",
      "text/plain": [
       "<Figure size 1000x600 with 1 Axes>"
      ]
     },
     "metadata": {},
     "output_type": "display_data"
    },
    {
     "name": "stdout",
     "output_type": "stream",
     "text": [
      "Course type with the highest frequency: online\n",
      "\n",
      "Balance of observations across different course types:\n",
      "online       0.743243\n",
      "classroom    0.256757\n",
      "Name: course_type, dtype: float64\n"
     ]
    }
   ],
   "source": [
    "# Create a count plot for course types\n",
    "plt.figure(figsize=(10, 6))\n",
    "sns.countplot(x='course_type', data=df, palette='viridis')\n",
    "\n",
    "plt.title('Distribution of Course Types')\n",
    "plt.xlabel('Course Type')\n",
    "plt.ylabel('Frequency')\n",
    "plt.xticks(rotation=45)\n",
    "plt.show()\n",
    "\n",
    "# Identify the type of course with the highest frequency\n",
    "most_common_course_type = df['course_type'].value_counts().idxmax()\n",
    "print(f\"Course type with the highest frequency: {most_common_course_type}\")\n",
    "\n",
    "# Evaluate the balance of observations across different course types\n",
    "course_type_counts = df['course_type'].value_counts()\n",
    "course_type_balance = course_type_counts / course_type_counts.sum()\n",
    "print(\"\\nBalance of observations across different course types:\")\n",
    "print(course_type_balance)"
   ]
  },
  {
   "cell_type": "markdown",
   "id": "c86ac018-ee38-4741-beac-c44cf9c8fbae",
   "metadata": {},
   "source": [
    "More than 74% of course enrollment are online. From this, it is clearly identifiable that the observation is significantly imbalance between online enrollment with more than 74%, compared to classroom that has about 26% enrollment."
   ]
  },
  {
   "cell_type": "markdown",
   "id": "8b20fa2e-da87-4cf4-9591-157a0837891e",
   "metadata": {},
   "source": [
    "## Task 4\n",
    "### *Relationship between Course Type and Enrollment*"
   ]
  },
  {
   "cell_type": "code",
   "execution_count": 82,
   "id": "76b4446c-9c17-4aa7-8119-8d33c51a6593",
   "metadata": {
    "executionCancelledAt": null,
    "executionTime": 178,
    "lastExecutedAt": 1691831409240,
    "lastScheduledRunId": null,
    "lastSuccessfullyExecutedCode": "enrollment_by_type = df.groupby('course_type')['enrollment_count'].sum()\n\n# Create a pie plot\nplt.figure(figsize=(8, 8))\nplt.pie(enrollment_by_type, labels=enrollment_by_type.index, autopct='%1.1f%%', startangle=140, explode=[0.2,.0], shadow=True)\nplt.title('Distribution of Enrollment Counts by Course Type')\nplt.axis('equal')  \nplt.show()"
   },
   "outputs": [
    {
     "data": {
      "image/png": "[encoded data removed]",
      "text/plain": [
       "<Figure size 800x800 with 1 Axes>"
      ]
     },
     "metadata": {},
     "output_type": "display_data"
    }
   ],
   "source": [
    "enrollment_by_type = df.groupby('course_type')['enrollment_count'].sum()\n",
    "\n",
    "# Create a pie plot\n",
    "plt.figure(figsize=(8, 8))\n",
    "plt.pie(enrollment_by_type, labels=enrollment_by_type.index, autopct='%1.1f%%', startangle=140, explode=[0.2,.0], shadow=True)\n",
    "plt.title('Distribution of Enrollment Counts by Course Type')\n",
    "plt.axis('equal')  \n",
    "plt.show()"
   ]
  },
  {
   "cell_type": "code",
   "execution_count": 83,
   "id": "6c3aa9d4-9f84-49d5-8911-e9c5f8ec6fde",
   "metadata": {
    "executionCancelledAt": null,
    "executionTime": 193,
    "lastExecutedAt": 1691831409434,
    "lastScheduledRunId": null,
    "lastSuccessfullyExecutedCode": "plt.figure(figsize=(10, 6))\nsns.scatterplot(data=df, x='course_type', y='enrollment_count')\nplt.xlabel('Course Type')\nplt.ylabel('Enrollment Count')\nplt.title('Relationship between Course Type and Enrollment Count')\nplt.xticks(rotation=45)\nplt.tight_layout()\nplt.show()"
   },
   "outputs": [
    {
     "data": {
      "image/png": "[encoded data removed]",
      "text/plain": [
       "<Figure size 1000x600 with 1 Axes>"
      ]
     },
     "metadata": {},
     "output_type": "display_data"
    }
   ],
   "source": [
    "plt.figure(figsize=(10, 6))\n",
    "sns.scatterplot(data=df, x='course_type', y='enrollment_count')\n",
    "plt.xlabel('Course Type')\n",
    "plt.ylabel('Enrollment Count')\n",
    "plt.title('Relationship between Course Type and Enrollment Count')\n",
    "plt.xticks(rotation=45)\n",
    "plt.tight_layout()\n",
    "plt.show()"
   ]
  },
  {
   "cell_type": "markdown",
   "id": "a1a3e73d-259e-4ecc-919e-5e21d996d59f",
   "metadata": {},
   "source": [
    "The least number of people that enrolled for online is more than 220 people which is largely greater than the highest number of people that enrolled for classroom (arounnd 190 people). It is clearly evident that people prefer enrolling for online courses over class courses."
   ]
  },
  {
   "cell_type": "markdown",
   "id": "b7f0dcc4-98c7-43fe-8ee2-629aac60c421",
   "metadata": {},
   "source": [
    "## Task 5\n",
    "### *Predictive Modeling*"
   ]
  },
  {
   "cell_type": "code",
   "execution_count": 84,
   "id": "3d5953c8-9f51-426c-a597-b41bd742e4d1",
   "metadata": {
    "executionCancelledAt": null,
    "executionTime": 50,
    "lastExecutedAt": 1691831409484,
    "lastScheduledRunId": null,
    "lastSuccessfullyExecutedCode": "# Convert categorical columns to numerical using label encoding\nlabel_encoder = LabelEncoder()\ncategorical_cols = ['course_type']\n\nfor col in categorical_cols:\n    df[col] = label_encoder.fit_transform(df[col])\ndf.head()",
    "outputsMetadata": {
     "0": {
      "height": 193,
      "type": "dataFrame"
     }
    }
   },
   "outputs": [
    {
     "data": {
      "application/com.datacamp.data-table.v1+json": {
       "table": {
        "data": [
         {
          "course_id": 1,
          "course_type": 0,
          "department": "Science",
          "enrollment_count": 165,
          "index": 0,
          "post_score": 73,
          "pre_requirement": "Beginner",
          "pre_score": 28.14,
          "year": 2018
         },
         {
          "course_id": 2,
          "course_type": 0,
          "department": "Science",
          "enrollment_count": 175,
          "index": 1,
          "post_score": 86,
          "pre_requirement": "None",
          "pre_score": 79.68,
          "year": 2020
         },
         {
          "course_id": 3,
          "course_type": 1,
          "department": "Mathematics",
          "enrollment_count": 257,
          "index": 2,
          "post_score": 80,
          "pre_requirement": "None",
          "pre_score": 57.24,
          "year": 2016
         },
         {
          "course_id": 4,
          "course_type": 1,
          "department": "Technology",
          "enrollment_count": 251,
          "index": 3,
          "post_score": 75,
          "pre_requirement": "Beginner",
          "pre_score": 97.67,
          "year": 2013
         },
         {
          "course_id": 5,
          "course_type": 0,
          "department": "Science",
          "enrollment_count": 165,
          "index": 4,
          "post_score": 76,
          "pre_requirement": "Beginner",
          "pre_score": 39.75,
          "year": 2019
         }
        ],
        "schema": {
         "fields": [
          {
           "name": "index",
           "type": "integer"
          },
          {
           "name": "course_id",
           "type": "integer"
          },
          {
           "name": "course_type",
           "type": "integer"
          },
          {
           "name": "year",
           "type": "integer"
          },
          {
           "name": "enrollment_count",
           "type": "integer"
          },
          {
           "name": "pre_score",
           "type": "number"
          },
          {
           "name": "post_score",
           "type": "number"
          },
          {
           "name": "pre_requirement",
           "type": "string"
          },
          {
           "name": "department",
           "type": "string"
          }
         ],
         "pandas_version": "1.4.0",
         "primaryKey": [
          "index"
         ]
        }
       },
       "total_rows": 5,
       "truncation_type": null
      },
      "text/html": [
       "<div>\n",
       "<style scoped>\n",
       "    .dataframe tbody tr th:only-of-type {\n",
       "        vertical-align: middle;\n",
       "    }\n",
       "\n",
       "    .dataframe tbody tr th {\n",
       "        vertical-align: top;\n",
       "    }\n",
       "\n",
       "    .dataframe thead th {\n",
       "        text-align: right;\n",
       "    }\n",
       "</style>\n",
       "<table border=\"1\" class=\"dataframe\">\n",
       "  <thead>\n",
       "    <tr style=\"text-align: right;\">\n",
       "      <th></th>\n",
       "      <th>course_id</th>\n",
       "      <th>course_type</th>\n",
       "      <th>year</th>\n",
       "      <th>enrollment_count</th>\n",
       "      <th>pre_score</th>\n",
       "      <th>post_score</th>\n",
       "      <th>pre_requirement</th>\n",
       "      <th>department</th>\n",
       "    </tr>\n",
       "  </thead>\n",
       "  <tbody>\n",
       "    <tr>\n",
       "      <th>0</th>\n",
       "      <td>1</td>\n",
       "      <td>0</td>\n",
       "      <td>2018</td>\n",
       "      <td>165</td>\n",
       "      <td>28.14</td>\n",
       "      <td>73.0</td>\n",
       "      <td>Beginner</td>\n",
       "      <td>Science</td>\n",
       "    </tr>\n",
       "    <tr>\n",
       "      <th>1</th>\n",
       "      <td>2</td>\n",
       "      <td>0</td>\n",
       "      <td>2020</td>\n",
       "      <td>175</td>\n",
       "      <td>79.68</td>\n",
       "      <td>86.0</td>\n",
       "      <td>None</td>\n",
       "      <td>Science</td>\n",
       "    </tr>\n",
       "    <tr>\n",
       "      <th>2</th>\n",
       "      <td>3</td>\n",
       "      <td>1</td>\n",
       "      <td>2016</td>\n",
       "      <td>257</td>\n",
       "      <td>57.24</td>\n",
       "      <td>80.0</td>\n",
       "      <td>None</td>\n",
       "      <td>Mathematics</td>\n",
       "    </tr>\n",
       "    <tr>\n",
       "      <th>3</th>\n",
       "      <td>4</td>\n",
       "      <td>1</td>\n",
       "      <td>2013</td>\n",
       "      <td>251</td>\n",
       "      <td>97.67</td>\n",
       "      <td>75.0</td>\n",
       "      <td>Beginner</td>\n",
       "      <td>Technology</td>\n",
       "    </tr>\n",
       "    <tr>\n",
       "      <th>4</th>\n",
       "      <td>5</td>\n",
       "      <td>0</td>\n",
       "      <td>2019</td>\n",
       "      <td>165</td>\n",
       "      <td>39.75</td>\n",
       "      <td>76.0</td>\n",
       "      <td>Beginner</td>\n",
       "      <td>Science</td>\n",
       "    </tr>\n",
       "  </tbody>\n",
       "</table>\n",
       "</div>"
      ],
      "text/plain": [
       "   course_id  course_type  year  ...  post_score  pre_requirement   department\n",
       "0          1            0  2018  ...        73.0         Beginner      Science\n",
       "1          2            0  2020  ...        86.0             None      Science\n",
       "2          3            1  2016  ...        80.0             None  Mathematics\n",
       "3          4            1  2013  ...        75.0         Beginner   Technology\n",
       "4          5            0  2019  ...        76.0         Beginner      Science\n",
       "\n",
       "[5 rows x 8 columns]"
      ]
     },
     "execution_count": 84,
     "metadata": {},
     "output_type": "execute_result"
    }
   ],
   "source": [
    "# Convert categorical columns to numerical using label encoding\n",
    "label_encoder = LabelEncoder()\n",
    "categorical_cols = ['course_type']\n",
    "\n",
    "for col in categorical_cols:\n",
    "    df[col] = label_encoder.fit_transform(df[col])\n",
    "df.head()"
   ]
  },
  {
   "cell_type": "markdown",
   "id": "7c7765da-232e-4392-bac5-78b7ac6fdb79",
   "metadata": {},
   "source": [
    "The course_type column was encoded into 0, and 1 since it is between two entries (online, classroom)."
   ]
  },
  {
   "cell_type": "code",
   "execution_count": 85,
   "id": "57f99d58-eaf7-4266-bd1f-915a7c5459a0",
   "metadata": {
    "executionCancelledAt": null,
    "executionTime": 53,
    "lastExecutedAt": 1691831409537,
    "lastScheduledRunId": null,
    "lastSuccessfullyExecutedCode": "df = pd.get_dummies(df, columns=['pre_requirement', 'department'], drop_first=True)\ndf.head()",
    "outputsMetadata": {
     "0": {
      "height": 210,
      "type": "dataFrame"
     }
    }
   },
   "outputs": [
    {
     "data": {
      "application/com.datacamp.data-table.v1+json": {
       "table": {
        "data": [
         {
          "course_id": 1,
          "course_type": 0,
          "department_Mathematics": 0,
          "department_Science": 1,
          "department_Technology": 0,
          "enrollment_count": 165,
          "index": 0,
          "post_score": 73,
          "pre_requirement_Intermediate": 0,
          "pre_requirement_None": 0,
          "pre_score": 28.14,
          "year": 2018
         },
         {
          "course_id": 2,
          "course_type": 0,
          "department_Mathematics": 0,
          "department_Science": 1,
          "department_Technology": 0,
          "enrollment_count": 175,
          "index": 1,
          "post_score": 86,
          "pre_requirement_Intermediate": 0,
          "pre_requirement_None": 1,
          "pre_score": 79.68,
          "year": 2020
         },
         {
          "course_id": 3,
          "course_type": 1,
          "department_Mathematics": 1,
          "department_Science": 0,
          "department_Technology": 0,
          "enrollment_count": 257,
          "index": 2,
          "post_score": 80,
          "pre_requirement_Intermediate": 0,
          "pre_requirement_None": 1,
          "pre_score": 57.24,
          "year": 2016
         },
         {
          "course_id": 4,
          "course_type": 1,
          "department_Mathematics": 0,
          "department_Science": 0,
          "department_Technology": 1,
          "enrollment_count": 251,
          "index": 3,
          "post_score": 75,
          "pre_requirement_Intermediate": 0,
          "pre_requirement_None": 0,
          "pre_score": 97.67,
          "year": 2013
         },
         {
          "course_id": 5,
          "course_type": 0,
          "department_Mathematics": 0,
          "department_Science": 1,
          "department_Technology": 0,
          "enrollment_count": 165,
          "index": 4,
          "post_score": 76,
          "pre_requirement_Intermediate": 0,
          "pre_requirement_None": 0,
          "pre_score": 39.75,
          "year": 2019
         }
        ],
        "schema": {
         "fields": [
          {
           "name": "index",
           "type": "integer"
          },
          {
           "name": "course_id",
           "type": "integer"
          },
          {
           "name": "course_type",
           "type": "integer"
          },
          {
           "name": "year",
           "type": "integer"
          },
          {
           "name": "enrollment_count",
           "type": "integer"
          },
          {
           "name": "pre_score",
           "type": "number"
          },
          {
           "name": "post_score",
           "type": "number"
          },
          {
           "name": "pre_requirement_Intermediate",
           "type": "integer"
          },
          {
           "name": "pre_requirement_None",
           "type": "integer"
          },
          {
           "name": "department_Mathematics",
           "type": "integer"
          },
          {
           "name": "department_Science",
           "type": "integer"
          },
          {
           "name": "department_Technology",
           "type": "integer"
          }
         ],
         "pandas_version": "1.4.0",
         "primaryKey": [
          "index"
         ]
        }
       },
       "total_rows": 5,
       "truncation_type": null
      },
      "text/html": [
       "<div>\n",
       "<style scoped>\n",
       "    .dataframe tbody tr th:only-of-type {\n",
       "        vertical-align: middle;\n",
       "    }\n",
       "\n",
       "    .dataframe tbody tr th {\n",
       "        vertical-align: top;\n",
       "    }\n",
       "\n",
       "    .dataframe thead th {\n",
       "        text-align: right;\n",
       "    }\n",
       "</style>\n",
       "<table border=\"1\" class=\"dataframe\">\n",
       "  <thead>\n",
       "    <tr style=\"text-align: right;\">\n",
       "      <th></th>\n",
       "      <th>course_id</th>\n",
       "      <th>course_type</th>\n",
       "      <th>year</th>\n",
       "      <th>enrollment_count</th>\n",
       "      <th>pre_score</th>\n",
       "      <th>post_score</th>\n",
       "      <th>pre_requirement_Intermediate</th>\n",
       "      <th>pre_requirement_None</th>\n",
       "      <th>department_Mathematics</th>\n",
       "      <th>department_Science</th>\n",
       "      <th>department_Technology</th>\n",
       "    </tr>\n",
       "  </thead>\n",
       "  <tbody>\n",
       "    <tr>\n",
       "      <th>0</th>\n",
       "      <td>1</td>\n",
       "      <td>0</td>\n",
       "      <td>2018</td>\n",
       "      <td>165</td>\n",
       "      <td>28.14</td>\n",
       "      <td>73.0</td>\n",
       "      <td>0</td>\n",
       "      <td>0</td>\n",
       "      <td>0</td>\n",
       "      <td>1</td>\n",
       "      <td>0</td>\n",
       "    </tr>\n",
       "    <tr>\n",
       "      <th>1</th>\n",
       "      <td>2</td>\n",
       "      <td>0</td>\n",
       "      <td>2020</td>\n",
       "      <td>175</td>\n",
       "      <td>79.68</td>\n",
       "      <td>86.0</td>\n",
       "      <td>0</td>\n",
       "      <td>1</td>\n",
       "      <td>0</td>\n",
       "      <td>1</td>\n",
       "      <td>0</td>\n",
       "    </tr>\n",
       "    <tr>\n",
       "      <th>2</th>\n",
       "      <td>3</td>\n",
       "      <td>1</td>\n",
       "      <td>2016</td>\n",
       "      <td>257</td>\n",
       "      <td>57.24</td>\n",
       "      <td>80.0</td>\n",
       "      <td>0</td>\n",
       "      <td>1</td>\n",
       "      <td>1</td>\n",
       "      <td>0</td>\n",
       "      <td>0</td>\n",
       "    </tr>\n",
       "    <tr>\n",
       "      <th>3</th>\n",
       "      <td>4</td>\n",
       "      <td>1</td>\n",
       "      <td>2013</td>\n",
       "      <td>251</td>\n",
       "      <td>97.67</td>\n",
       "      <td>75.0</td>\n",
       "      <td>0</td>\n",
       "      <td>0</td>\n",
       "      <td>0</td>\n",
       "      <td>0</td>\n",
       "      <td>1</td>\n",
       "    </tr>\n",
       "    <tr>\n",
       "      <th>4</th>\n",
       "      <td>5</td>\n",
       "      <td>0</td>\n",
       "      <td>2019</td>\n",
       "      <td>165</td>\n",
       "      <td>39.75</td>\n",
       "      <td>76.0</td>\n",
       "      <td>0</td>\n",
       "      <td>0</td>\n",
       "      <td>0</td>\n",
       "      <td>1</td>\n",
       "      <td>0</td>\n",
       "    </tr>\n",
       "  </tbody>\n",
       "</table>\n",
       "</div>"
      ],
      "text/plain": [
       "   course_id  course_type  ...  department_Science  department_Technology\n",
       "0          1            0  ...                   1                      0\n",
       "1          2            0  ...                   1                      0\n",
       "2          3            1  ...                   0                      0\n",
       "3          4            1  ...                   0                      1\n",
       "4          5            0  ...                   1                      0\n",
       "\n",
       "[5 rows x 11 columns]"
      ]
     },
     "execution_count": 85,
     "metadata": {},
     "output_type": "execute_result"
    }
   ],
   "source": [
    "df = pd.get_dummies(df, columns=['pre_requirement', 'department'], drop_first=True)\n",
    "df.head()"
   ]
  },
  {
   "cell_type": "markdown",
   "id": "f71e20e0-325c-4601-97c8-08300956976f",
   "metadata": {},
   "source": [
    "The rest of the object columns were then encoded using the one-hot encoding technique. This is done in order to make it possibble for the model to be able to train and perform the task required."
   ]
  },
  {
   "cell_type": "code",
   "execution_count": 86,
   "id": "947a81e3-cf17-4c54-8fab-b323581fdaa9",
   "metadata": {
    "executionCancelledAt": null,
    "executionTime": 48,
    "lastExecutedAt": 1691831409585,
    "lastScheduledRunId": null,
    "lastSuccessfullyExecutedCode": "df.head()",
    "outputsMetadata": {
     "0": {
      "height": 210,
      "type": "dataFrame"
     }
    }
   },
   "outputs": [
    {
     "data": {
      "application/com.datacamp.data-table.v1+json": {
       "table": {
        "data": [
         {
          "course_id": 1,
          "course_type": 0,
          "department_Mathematics": 0,
          "department_Science": 1,
          "department_Technology": 0,
          "enrollment_count": 165,
          "index": 0,
          "post_score": 73,
          "pre_requirement_Intermediate": 0,
          "pre_requirement_None": 0,
          "pre_score": 28.14,
          "year": 2018
         },
         {
          "course_id": 2,
          "course_type": 0,
          "department_Mathematics": 0,
          "department_Science": 1,
          "department_Technology": 0,
          "enrollment_count": 175,
          "index": 1,
          "post_score": 86,
          "pre_requirement_Intermediate": 0,
          "pre_requirement_None": 1,
          "pre_score": 79.68,
          "year": 2020
         },
         {
          "course_id": 3,
          "course_type": 1,
          "department_Mathematics": 1,
          "department_Science": 0,
          "department_Technology": 0,
          "enrollment_count": 257,
          "index": 2,
          "post_score": 80,
          "pre_requirement_Intermediate": 0,
          "pre_requirement_None": 1,
          "pre_score": 57.24,
          "year": 2016
         },
         {
          "course_id": 4,
          "course_type": 1,
          "department_Mathematics": 0,
          "department_Science": 0,
          "department_Technology": 1,
          "enrollment_count": 251,
          "index": 3,
          "post_score": 75,
          "pre_requirement_Intermediate": 0,
          "pre_requirement_None": 0,
          "pre_score": 97.67,
          "year": 2013
         },
         {
          "course_id": 5,
          "course_type": 0,
          "department_Mathematics": 0,
          "department_Science": 1,
          "department_Technology": 0,
          "enrollment_count": 165,
          "index": 4,
          "post_score": 76,
          "pre_requirement_Intermediate": 0,
          "pre_requirement_None": 0,
          "pre_score": 39.75,
          "year": 2019
         }
        ],
        "schema": {
         "fields": [
          {
           "name": "index",
           "type": "integer"
          },
          {
           "name": "course_id",
           "type": "integer"
          },
          {
           "name": "course_type",
           "type": "integer"
          },
          {
           "name": "year",
           "type": "integer"
          },
          {
           "name": "enrollment_count",
           "type": "integer"
          },
          {
           "name": "pre_score",
           "type": "number"
          },
          {
           "name": "post_score",
           "type": "number"
          },
          {
           "name": "pre_requirement_Intermediate",
           "type": "integer"
          },
          {
           "name": "pre_requirement_None",
           "type": "integer"
          },
          {
           "name": "department_Mathematics",
           "type": "integer"
          },
          {
           "name": "department_Science",
           "type": "integer"
          },
          {
           "name": "department_Technology",
           "type": "integer"
          }
         ],
         "pandas_version": "1.4.0",
         "primaryKey": [
          "index"
         ]
        }
       },
       "total_rows": 5,
       "truncation_type": null
      },
      "text/html": [
       "<div>\n",
       "<style scoped>\n",
       "    .dataframe tbody tr th:only-of-type {\n",
       "        vertical-align: middle;\n",
       "    }\n",
       "\n",
       "    .dataframe tbody tr th {\n",
       "        vertical-align: top;\n",
       "    }\n",
       "\n",
       "    .dataframe thead th {\n",
       "        text-align: right;\n",
       "    }\n",
       "</style>\n",
       "<table border=\"1\" class=\"dataframe\">\n",
       "  <thead>\n",
       "    <tr style=\"text-align: right;\">\n",
       "      <th></th>\n",
       "      <th>course_id</th>\n",
       "      <th>course_type</th>\n",
       "      <th>year</th>\n",
       "      <th>enrollment_count</th>\n",
       "      <th>pre_score</th>\n",
       "      <th>post_score</th>\n",
       "      <th>pre_requirement_Intermediate</th>\n",
       "      <th>pre_requirement_None</th>\n",
       "      <th>department_Mathematics</th>\n",
       "      <th>department_Science</th>\n",
       "      <th>department_Technology</th>\n",
       "    </tr>\n",
       "  </thead>\n",
       "  <tbody>\n",
       "    <tr>\n",
       "      <th>0</th>\n",
       "      <td>1</td>\n",
       "      <td>0</td>\n",
       "      <td>2018</td>\n",
       "      <td>165</td>\n",
       "      <td>28.14</td>\n",
       "      <td>73.0</td>\n",
       "      <td>0</td>\n",
       "      <td>0</td>\n",
       "      <td>0</td>\n",
       "      <td>1</td>\n",
       "      <td>0</td>\n",
       "    </tr>\n",
       "    <tr>\n",
       "      <th>1</th>\n",
       "      <td>2</td>\n",
       "      <td>0</td>\n",
       "      <td>2020</td>\n",
       "      <td>175</td>\n",
       "      <td>79.68</td>\n",
       "      <td>86.0</td>\n",
       "      <td>0</td>\n",
       "      <td>1</td>\n",
       "      <td>0</td>\n",
       "      <td>1</td>\n",
       "      <td>0</td>\n",
       "    </tr>\n",
       "    <tr>\n",
       "      <th>2</th>\n",
       "      <td>3</td>\n",
       "      <td>1</td>\n",
       "      <td>2016</td>\n",
       "      <td>257</td>\n",
       "      <td>57.24</td>\n",
       "      <td>80.0</td>\n",
       "      <td>0</td>\n",
       "      <td>1</td>\n",
       "      <td>1</td>\n",
       "      <td>0</td>\n",
       "      <td>0</td>\n",
       "    </tr>\n",
       "    <tr>\n",
       "      <th>3</th>\n",
       "      <td>4</td>\n",
       "      <td>1</td>\n",
       "      <td>2013</td>\n",
       "      <td>251</td>\n",
       "      <td>97.67</td>\n",
       "      <td>75.0</td>\n",
       "      <td>0</td>\n",
       "      <td>0</td>\n",
       "      <td>0</td>\n",
       "      <td>0</td>\n",
       "      <td>1</td>\n",
       "    </tr>\n",
       "    <tr>\n",
       "      <th>4</th>\n",
       "      <td>5</td>\n",
       "      <td>0</td>\n",
       "      <td>2019</td>\n",
       "      <td>165</td>\n",
       "      <td>39.75</td>\n",
       "      <td>76.0</td>\n",
       "      <td>0</td>\n",
       "      <td>0</td>\n",
       "      <td>0</td>\n",
       "      <td>1</td>\n",
       "      <td>0</td>\n",
       "    </tr>\n",
       "  </tbody>\n",
       "</table>\n",
       "</div>"
      ],
      "text/plain": [
       "   course_id  course_type  ...  department_Science  department_Technology\n",
       "0          1            0  ...                   1                      0\n",
       "1          2            0  ...                   1                      0\n",
       "2          3            1  ...                   0                      0\n",
       "3          4            1  ...                   0                      1\n",
       "4          5            0  ...                   1                      0\n",
       "\n",
       "[5 rows x 11 columns]"
      ]
     },
     "execution_count": 86,
     "metadata": {},
     "output_type": "execute_result"
    }
   ],
   "source": [
    "df.head()"
   ]
  },
  {
   "cell_type": "code",
   "execution_count": 87,
   "id": "40273027-622a-4aa2-831d-70d9cdec4c39",
   "metadata": {
    "executionCancelledAt": null,
    "executionTime": 48,
    "lastExecutedAt": 1691831409633,
    "lastScheduledRunId": null,
    "lastSuccessfullyExecutedCode": "\ndf.columns"
   },
   "outputs": [
    {
     "data": {
      "text/plain": [
       "Index(['course_id', 'course_type', 'year', 'enrollment_count', 'pre_score',\n",
       "       'post_score', 'pre_requirement_Intermediate', 'pre_requirement_None',\n",
       "       'department_Mathematics', 'department_Science',\n",
       "       'department_Technology'],\n",
       "      dtype='object')"
      ]
     },
     "execution_count": 87,
     "metadata": {},
     "output_type": "execute_result"
    }
   ],
   "source": [
    "\n",
    "df.columns"
   ]
  },
  {
   "cell_type": "code",
   "execution_count": 88,
   "id": "80ee4efb-282d-47bd-beaa-7325bd6c4942",
   "metadata": {
    "executionCancelledAt": null,
    "executionTime": 55,
    "lastExecutedAt": 1691831409688,
    "lastScheduledRunId": null,
    "lastSuccessfullyExecutedCode": "# defining predictor and target variables\nX = df.drop(columns=['course_id', 'enrollment_count'])\ny = df['enrollment_count']"
   },
   "outputs": [],
   "source": [
    "# defining predictor and target variables\n",
    "X = df.drop(columns=['course_id', 'enrollment_count'])\n",
    "y = df['enrollment_count']"
   ]
  },
  {
   "cell_type": "markdown",
   "id": "c0e7b78c-c6f2-445b-b114-3f847fdd0b8e",
   "metadata": {},
   "source": [
    "The predictor variables X and the target variable y were both created. This is done by dropping the course_id and the enrollment_count (target) columns then assigning y to enrollment_count."
   ]
  },
  {
   "cell_type": "markdown",
   "id": "5cec4b2d-86fd-4ce3-9f9c-e9ab2ec0e436",
   "metadata": {},
   "source": [
    "## Task 6\n",
    "### *Baseline Model for Enrollment Prediction*"
   ]
  },
  {
   "cell_type": "code",
   "execution_count": 89,
   "id": "5e939ae5-5827-4ecc-8d35-427e2ece49b1",
   "metadata": {
    "executionCancelledAt": null,
    "executionTime": 51,
    "lastExecutedAt": 1691831409740,
    "lastScheduledRunId": null,
    "lastSuccessfullyExecutedCode": "# train test splitting\nX_train, X_test, y_train, y_test = train_test_split(X, y, test_size=0.2, random_state=42)"
   },
   "outputs": [],
   "source": [
    "# train test splitting\n",
    "X_train, X_test, y_train, y_test = train_test_split(X, y, test_size=0.2, random_state=42)"
   ]
  },
  {
   "cell_type": "code",
   "execution_count": 90,
   "id": "c5a1df8d-bb9b-4e0a-b036-3dd0e5ef1512",
   "metadata": {
    "executionCancelledAt": null,
    "executionTime": 64,
    "lastExecutedAt": 1691831409805,
    "lastScheduledRunId": null,
    "lastSuccessfullyExecutedCode": "X_train.head(12)",
    "outputsMetadata": {
     "0": {
      "height": 332,
      "type": "dataFrame"
     }
    }
   },
   "outputs": [
    {
     "data": {
      "application/com.datacamp.data-table.v1+json": {
       "table": {
        "data": [
         {
          "course_type": 1,
          "department_Mathematics": 0,
          "department_Science": 0,
          "department_Technology": 1,
          "index": 819,
          "post_score": 76,
          "pre_requirement_Intermediate": 0,
          "pre_requirement_None": 1,
          "pre_score": 22.06,
          "year": 2015
         },
         {
          "course_type": 1,
          "department_Mathematics": 0,
          "department_Science": 0,
          "department_Technology": 1,
          "index": 244,
          "post_score": 81,
          "pre_requirement_Intermediate": 0,
          "pre_requirement_None": 1,
          "pre_score": 80.64,
          "year": 2016
         },
         {
          "course_type": 1,
          "department_Mathematics": 1,
          "department_Science": 0,
          "department_Technology": 0,
          "index": 1101,
          "post_score": 86,
          "pre_requirement_Intermediate": 0,
          "pre_requirement_None": 0,
          "pre_score": 90.11,
          "year": 2013
         },
         {
          "course_type": 1,
          "department_Mathematics": 1,
          "department_Science": 0,
          "department_Technology": 0,
          "index": 1265,
          "post_score": 63,
          "pre_requirement_Intermediate": 0,
          "pre_requirement_None": 1,
          "pre_score": 47.07,
          "year": 2014
         },
         {
          "course_type": 1,
          "department_Mathematics": 0,
          "department_Science": 0,
          "department_Technology": 1,
          "index": 1244,
          "post_score": 69,
          "pre_requirement_Intermediate": 0,
          "pre_requirement_None": 0,
          "pre_score": 0,
          "year": 2021
         },
         {
          "course_type": 0,
          "department_Mathematics": 1,
          "department_Science": 0,
          "department_Technology": 0,
          "index": 1253,
          "post_score": 64,
          "pre_requirement_Intermediate": 0,
          "pre_requirement_None": 1,
          "pre_score": 48.25,
          "year": 2016
         },
         {
          "course_type": 0,
          "department_Mathematics": 0,
          "department_Science": 1,
          "department_Technology": 0,
          "index": 575,
          "post_score": 82,
          "pre_requirement_Intermediate": 0,
          "pre_requirement_None": 1,
          "pre_score": 86.13,
          "year": 2011
         },
         {
          "course_type": 0,
          "department_Mathematics": 0,
          "department_Science": 1,
          "department_Technology": 0,
          "index": 966,
          "post_score": 73,
          "pre_requirement_Intermediate": 0,
          "pre_requirement_None": 1,
          "pre_score": 70.96,
          "year": 2013
         },
         {
          "course_type": 1,
          "department_Mathematics": 0,
          "department_Science": 0,
          "department_Technology": 1,
          "index": 962,
          "post_score": 82,
          "pre_requirement_Intermediate": 0,
          "pre_requirement_None": 0,
          "pre_score": 57.47,
          "year": 2014
         },
         {
          "course_type": 1,
          "department_Mathematics": 0,
          "department_Science": 0,
          "department_Technology": 1,
          "index": 834,
          "post_score": 0,
          "pre_requirement_Intermediate": 0,
          "pre_requirement_None": 1,
          "pre_score": 52.84,
          "year": 2012
         },
         {
          "course_type": 1,
          "department_Mathematics": 0,
          "department_Science": 0,
          "department_Technology": 1,
          "index": 1376,
          "post_score": 75,
          "pre_requirement_Intermediate": 0,
          "pre_requirement_None": 0,
          "pre_score": 25.95,
          "year": 2015
         },
         {
          "course_type": 0,
          "department_Mathematics": 0,
          "department_Science": 0,
          "department_Technology": 1,
          "index": 1347,
          "post_score": 63,
          "pre_requirement_Intermediate": 0,
          "pre_requirement_None": 1,
          "pre_score": 47.07,
          "year": 2021
         }
        ],
        "schema": {
         "fields": [
          {
           "name": "index",
           "type": "integer"
          },
          {
           "name": "course_type",
           "type": "integer"
          },
          {
           "name": "year",
           "type": "integer"
          },
          {
           "name": "pre_score",
           "type": "number"
          },
          {
           "name": "post_score",
           "type": "number"
          },
          {
           "name": "pre_requirement_Intermediate",
           "type": "integer"
          },
          {
           "name": "pre_requirement_None",
           "type": "integer"
          },
          {
           "name": "department_Mathematics",
           "type": "integer"
          },
          {
           "name": "department_Science",
           "type": "integer"
          },
          {
           "name": "department_Technology",
           "type": "integer"
          }
         ],
         "pandas_version": "1.4.0",
         "primaryKey": [
          "index"
         ]
        }
       },
       "total_rows": 12,
       "truncation_type": null
      },
      "text/html": [
       "<div>\n",
       "<style scoped>\n",
       "    .dataframe tbody tr th:only-of-type {\n",
       "        vertical-align: middle;\n",
       "    }\n",
       "\n",
       "    .dataframe tbody tr th {\n",
       "        vertical-align: top;\n",
       "    }\n",
       "\n",
       "    .dataframe thead th {\n",
       "        text-align: right;\n",
       "    }\n",
       "</style>\n",
       "<table border=\"1\" class=\"dataframe\">\n",
       "  <thead>\n",
       "    <tr style=\"text-align: right;\">\n",
       "      <th></th>\n",
       "      <th>course_type</th>\n",
       "      <th>year</th>\n",
       "      <th>pre_score</th>\n",
       "      <th>post_score</th>\n",
       "      <th>pre_requirement_Intermediate</th>\n",
       "      <th>pre_requirement_None</th>\n",
       "      <th>department_Mathematics</th>\n",
       "      <th>department_Science</th>\n",
       "      <th>department_Technology</th>\n",
       "    </tr>\n",
       "  </thead>\n",
       "  <tbody>\n",
       "    <tr>\n",
       "      <th>819</th>\n",
       "      <td>1</td>\n",
       "      <td>2015</td>\n",
       "      <td>22.06</td>\n",
       "      <td>76.0</td>\n",
       "      <td>0</td>\n",
       "      <td>1</td>\n",
       "      <td>0</td>\n",
       "      <td>0</td>\n",
       "      <td>1</td>\n",
       "    </tr>\n",
       "    <tr>\n",
       "      <th>244</th>\n",
       "      <td>1</td>\n",
       "      <td>2016</td>\n",
       "      <td>80.64</td>\n",
       "      <td>81.0</td>\n",
       "      <td>0</td>\n",
       "      <td>1</td>\n",
       "      <td>0</td>\n",
       "      <td>0</td>\n",
       "      <td>1</td>\n",
       "    </tr>\n",
       "    <tr>\n",
       "      <th>1101</th>\n",
       "      <td>1</td>\n",
       "      <td>2013</td>\n",
       "      <td>90.11</td>\n",
       "      <td>86.0</td>\n",
       "      <td>0</td>\n",
       "      <td>0</td>\n",
       "      <td>1</td>\n",
       "      <td>0</td>\n",
       "      <td>0</td>\n",
       "    </tr>\n",
       "    <tr>\n",
       "      <th>1265</th>\n",
       "      <td>1</td>\n",
       "      <td>2014</td>\n",
       "      <td>47.07</td>\n",
       "      <td>63.0</td>\n",
       "      <td>0</td>\n",
       "      <td>1</td>\n",
       "      <td>1</td>\n",
       "      <td>0</td>\n",
       "      <td>0</td>\n",
       "    </tr>\n",
       "    <tr>\n",
       "      <th>1244</th>\n",
       "      <td>1</td>\n",
       "      <td>2021</td>\n",
       "      <td>0.00</td>\n",
       "      <td>69.0</td>\n",
       "      <td>0</td>\n",
       "      <td>0</td>\n",
       "      <td>0</td>\n",
       "      <td>0</td>\n",
       "      <td>1</td>\n",
       "    </tr>\n",
       "    <tr>\n",
       "      <th>1253</th>\n",
       "      <td>0</td>\n",
       "      <td>2016</td>\n",
       "      <td>48.25</td>\n",
       "      <td>64.0</td>\n",
       "      <td>0</td>\n",
       "      <td>1</td>\n",
       "      <td>1</td>\n",
       "      <td>0</td>\n",
       "      <td>0</td>\n",
       "    </tr>\n",
       "    <tr>\n",
       "      <th>575</th>\n",
       "      <td>0</td>\n",
       "      <td>2011</td>\n",
       "      <td>86.13</td>\n",
       "      <td>82.0</td>\n",
       "      <td>0</td>\n",
       "      <td>1</td>\n",
       "      <td>0</td>\n",
       "      <td>1</td>\n",
       "      <td>0</td>\n",
       "    </tr>\n",
       "    <tr>\n",
       "      <th>966</th>\n",
       "      <td>0</td>\n",
       "      <td>2013</td>\n",
       "      <td>70.96</td>\n",
       "      <td>73.0</td>\n",
       "      <td>0</td>\n",
       "      <td>1</td>\n",
       "      <td>0</td>\n",
       "      <td>1</td>\n",
       "      <td>0</td>\n",
       "    </tr>\n",
       "    <tr>\n",
       "      <th>962</th>\n",
       "      <td>1</td>\n",
       "      <td>2014</td>\n",
       "      <td>57.47</td>\n",
       "      <td>82.0</td>\n",
       "      <td>0</td>\n",
       "      <td>0</td>\n",
       "      <td>0</td>\n",
       "      <td>0</td>\n",
       "      <td>1</td>\n",
       "    </tr>\n",
       "    <tr>\n",
       "      <th>834</th>\n",
       "      <td>1</td>\n",
       "      <td>2012</td>\n",
       "      <td>52.84</td>\n",
       "      <td>0.0</td>\n",
       "      <td>0</td>\n",
       "      <td>1</td>\n",
       "      <td>0</td>\n",
       "      <td>0</td>\n",
       "      <td>1</td>\n",
       "    </tr>\n",
       "    <tr>\n",
       "      <th>1376</th>\n",
       "      <td>1</td>\n",
       "      <td>2015</td>\n",
       "      <td>25.95</td>\n",
       "      <td>75.0</td>\n",
       "      <td>0</td>\n",
       "      <td>0</td>\n",
       "      <td>0</td>\n",
       "      <td>0</td>\n",
       "      <td>1</td>\n",
       "    </tr>\n",
       "    <tr>\n",
       "      <th>1347</th>\n",
       "      <td>0</td>\n",
       "      <td>2021</td>\n",
       "      <td>47.07</td>\n",
       "      <td>63.0</td>\n",
       "      <td>0</td>\n",
       "      <td>1</td>\n",
       "      <td>0</td>\n",
       "      <td>0</td>\n",
       "      <td>1</td>\n",
       "    </tr>\n",
       "  </tbody>\n",
       "</table>\n",
       "</div>"
      ],
      "text/plain": [
       "      course_type  year  ...  department_Science  department_Technology\n",
       "819             1  2015  ...                   0                      1\n",
       "244             1  2016  ...                   0                      1\n",
       "1101            1  2013  ...                   0                      0\n",
       "1265            1  2014  ...                   0                      0\n",
       "1244            1  2021  ...                   0                      1\n",
       "1253            0  2016  ...                   0                      0\n",
       "575             0  2011  ...                   1                      0\n",
       "966             0  2013  ...                   1                      0\n",
       "962             1  2014  ...                   0                      1\n",
       "834             1  2012  ...                   0                      1\n",
       "1376            1  2015  ...                   0                      1\n",
       "1347            0  2021  ...                   0                      1\n",
       "\n",
       "[12 rows x 9 columns]"
      ]
     },
     "execution_count": 90,
     "metadata": {},
     "output_type": "execute_result"
    }
   ],
   "source": [
    "X_train.head(12)"
   ]
  },
  {
   "cell_type": "code",
   "execution_count": 91,
   "id": "94ff7449-82b3-484a-8108-1b3f07129052",
   "metadata": {
    "executionCancelledAt": null,
    "executionTime": null,
    "lastExecutedAt": null,
    "lastScheduledRunId": null,
    "lastSuccessfullyExecutedCode": null,
    "outputsMetadata": {
     "0": {
      "height": 290,
      "type": "stream"
     }
    }
   },
   "outputs": [
    {
     "name": "stdout",
     "output_type": "stream",
     "text": [
      "Linear Regression : 1.000\n",
      "Lasso Regression : 0.984\n",
      "Ridge Regression : 1.000\n",
      "Decision Tree : 1.000\n",
      "Random Forest : 1.000\n",
      "ElasticNet : 0.549\n",
      "SVR : -0.263\n",
      "Gradient Boosting : 1.000\n",
      "Neural Network : 0.498\n",
      "Bayesian Regression : -28.600\n",
      "KNN Regression : 0.007\n",
      "XGBoost : 1.000\n",
      "Huber Regression : 0.989\n",
      "Theil-Sen Regression : 0.987\n"
     ]
    }
   ],
   "source": [
    "regs = LinearRegression()\n",
    "lassos = Lasso()\n",
    "ridges = Ridge()\n",
    "trees = DecisionTreeRegressor()\n",
    "rfs = RandomForestRegressor()\n",
    "elastic_nets = ElasticNet()\n",
    "svrs = SVR()\n",
    "gradient_boostings = GradientBoostingRegressor()\n",
    "neural_networks = MLPRegressor()\n",
    "bayesian_regressions = GaussianProcessRegressor()\n",
    "knn_regressions = KNeighborsRegressor()\n",
    "xgboosts = xgb.XGBRegressor()\n",
    "huber_regressions = HuberRegressor()\n",
    "theil_sen_regressions = TheilSenRegressor()\n",
    "\n",
    "# Add all the models to the `regressors` list\n",
    "regressors = [\n",
    "    ('Linear Regression', regs),\n",
    "    ('Lasso Regression', lassos),\n",
    "    ('Ridge Regression', ridges),\n",
    "    ('Decision Tree', trees),\n",
    "    ('Random Forest', rfs),\n",
    "    ('ElasticNet', elastic_nets),\n",
    "    ('SVR', svrs),\n",
    "    ('Gradient Boosting', gradient_boostings),\n",
    "    ('Neural Network', neural_networks),\n",
    "    ('Bayesian Regression', bayesian_regressions),\n",
    "    ('KNN Regression', knn_regressions),\n",
    "    ('XGBoost', xgboosts),\n",
    "    ('Huber Regression', huber_regressions),\n",
    "    ('Theil-Sen Regression', theil_sen_regressions)\n",
    "]\n",
    "\n",
    "\n",
    "\n",
    "# Best hyperparameters: {'depth': 4, 'iterations': 100, 'learning_rate': 0.5}\n",
    "for clf_name, clf in regressors:    \n",
    "  \n",
    "    # Fit clf to the training set\n",
    "    clf.fit(X_train, y_train)    \n",
    "  \n",
    "    # Predict y_pred\n",
    "    y_pred = clf.predict(X_test)\n",
    "    \n",
    "    \n",
    "    score = clf.score(X_test, y_test)\n",
    "  \n",
    "\n",
    "    # Evaluate clf's accuracy on the test set\n",
    "    print('{:s} : {:.3f}'.format(clf_name, score))\n"
   ]
  },
  {
   "cell_type": "code",
   "execution_count": 92,
   "id": "cb746ec5-7867-440f-a586-f2281247e559",
   "metadata": {
    "executionCancelledAt": null,
    "executionTime": null,
    "lastExecutedAt": null,
    "lastScheduledRunId": null,
    "lastSuccessfullyExecutedCode": null,
    "outputsMetadata": {
     "0": {
      "height": 290,
      "type": "stream"
     }
    }
   },
   "outputs": [
    {
     "name": "stdout",
     "output_type": "stream",
     "text": [
      "Linear Regression - MSE: 0.099\n",
      "Lasso Regression - MSE: 19.937\n",
      "Ridge Regression - MSE: 0.112\n",
      "Decision Tree - MSE: 0.205\n",
      "Random Forest - MSE: 0.122\n",
      "ElasticNet - MSE: 570.193\n",
      "SVR - MSE: 1596.504\n",
      "Gradient Boosting - MSE: 0.359\n",
      "Neural Network - MSE: 556.900\n",
      "Bayesian Regression - MSE: 37420.561\n",
      "KNN Regression - MSE: 1255.504\n",
      "XGBoost - MSE: 0.133\n",
      "Huber Regression - MSE: 14.141\n",
      "Theil-Sen Regression - MSE: 20.880\n"
     ]
    }
   ],
   "source": [
    "for clf_name, clf in regressors:\n",
    "    # Fit clf to the training set\n",
    "    clf.fit(X_train, y_train)\n",
    "\n",
    "    # Predict y_pred\n",
    "    y_pred = clf.predict(X_test)\n",
    "\n",
    "    mse_score = mse(y_test, y_pred)\n",
    "\n",
    "    # Display MSE score for each model\n",
    "    print('{:s} - MSE: {:.3f}'.format(clf_name, mse_score))"
   ]
  },
  {
   "cell_type": "code",
   "execution_count": 93,
   "id": "e85bc00b-6b38-480a-b36c-f760805251ed",
   "metadata": {
    "executionCancelledAt": null,
    "executionTime": null,
    "lastExecutedAt": null,
    "lastScheduledRunId": null,
    "lastSuccessfullyExecutedCode": null,
    "outputsMetadata": {
     "0": {
      "height": 467,
      "type": "plotly"
     }
    }
   },
   "outputs": [
    {
     "data": {
      "application/vnd.plotly.v1+json": {
       "config": {
        "plotlyServerURL": "https://plot.ly"
       },
       "data": [
        {
         "alignmentgroup": "True",
         "hovertemplate": "Model=%{x}<br>MSE Score=%{y}<extra></extra>",
         "legendgroup": "Linear Regression",
         "marker": {
          "color": "#636efa",
          "pattern": {
           "shape": ""
          }
         },
         "name": "Linear Regression",
         "offsetgroup": "Linear Regression",
         "orientation": "v",
         "showlegend": true,
         "textposition": "auto",
         "type": "bar",
         "x": [
          "Linear Regression"
         ],
         "xaxis": "x",
         "y": [
          0.09915773246139627
         ],
         "yaxis": "y"
        },
        {
         "alignmentgroup": "True",
         "hovertemplate": "Model=%{x}<br>MSE Score=%{y}<extra></extra>",
         "legendgroup": "Lasso Regression",
         "marker": {
          "color": "#EF553B",
          "pattern": {
           "shape": ""
          }
         },
         "name": "Lasso Regression",
         "offsetgroup": "Lasso Regression",
         "orientation": "v",
         "showlegend": true,
         "textposition": "auto",
         "type": "bar",
         "x": [
          "Lasso Regression"
         ],
         "xaxis": "x",
         "y": [
          19.936706426880725
         ],
         "yaxis": "y"
        },
        {
         "alignmentgroup": "True",
         "hovertemplate": "Model=%{x}<br>MSE Score=%{y}<extra></extra>",
         "legendgroup": "Ridge Regression",
         "marker": {
          "color": "#00cc96",
          "pattern": {
           "shape": ""
          }
         },
         "name": "Ridge Regression",
         "offsetgroup": "Ridge Regression",
         "orientation": "v",
         "showlegend": true,
         "textposition": "auto",
         "type": "bar",
         "x": [
          "Ridge Regression"
         ],
         "xaxis": "x",
         "y": [
          0.1123567754935499
         ],
         "yaxis": "y"
        },
        {
         "alignmentgroup": "True",
         "hovertemplate": "Model=%{x}<br>MSE Score=%{y}<extra></extra>",
         "legendgroup": "Decision Tree",
         "marker": {
          "color": "#ab63fa",
          "pattern": {
           "shape": ""
          }
         },
         "name": "Decision Tree",
         "offsetgroup": "Decision Tree",
         "orientation": "v",
         "showlegend": true,
         "textposition": "auto",
         "type": "bar",
         "x": [
          "Decision Tree"
         ],
         "xaxis": "x",
         "y": [
          0.1810810810810811
         ],
         "yaxis": "y"
        },
        {
         "alignmentgroup": "True",
         "hovertemplate": "Model=%{x}<br>MSE Score=%{y}<extra></extra>",
         "legendgroup": "Random Forest",
         "marker": {
          "color": "#FFA15A",
          "pattern": {
           "shape": ""
          }
         },
         "name": "Random Forest",
         "offsetgroup": "Random Forest",
         "orientation": "v",
         "showlegend": true,
         "textposition": "auto",
         "type": "bar",
         "x": [
          "Random Forest"
         ],
         "xaxis": "x",
         "y": [
          0.12490054054054012
         ],
         "yaxis": "y"
        },
        {
         "alignmentgroup": "True",
         "hovertemplate": "Model=%{x}<br>MSE Score=%{y}<extra></extra>",
         "legendgroup": "ElasticNet",
         "marker": {
          "color": "#19d3f3",
          "pattern": {
           "shape": ""
          }
         },
         "name": "ElasticNet",
         "offsetgroup": "ElasticNet",
         "orientation": "v",
         "showlegend": true,
         "textposition": "auto",
         "type": "bar",
         "x": [
          "ElasticNet"
         ],
         "xaxis": "x",
         "y": [
          570.1927770775571
         ],
         "yaxis": "y"
        },
        {
         "alignmentgroup": "True",
         "hovertemplate": "Model=%{x}<br>MSE Score=%{y}<extra></extra>",
         "legendgroup": "SVR",
         "marker": {
          "color": "#FF6692",
          "pattern": {
           "shape": ""
          }
         },
         "name": "SVR",
         "offsetgroup": "SVR",
         "orientation": "v",
         "showlegend": true,
         "textposition": "auto",
         "type": "bar",
         "x": [
          "SVR"
         ],
         "xaxis": "x",
         "y": [
          1596.503669847446
         ],
         "yaxis": "y"
        },
        {
         "alignmentgroup": "True",
         "hovertemplate": "Model=%{x}<br>MSE Score=%{y}<extra></extra>",
         "legendgroup": "Gradient Boosting",
         "marker": {
          "color": "#B6E880",
          "pattern": {
           "shape": ""
          }
         },
         "name": "Gradient Boosting",
         "offsetgroup": "Gradient Boosting",
         "orientation": "v",
         "showlegend": true,
         "textposition": "auto",
         "type": "bar",
         "x": [
          "Gradient Boosting"
         ],
         "xaxis": "x",
         "y": [
          0.35879288401516823
         ],
         "yaxis": "y"
        },
        {
         "alignmentgroup": "True",
         "hovertemplate": "Model=%{x}<br>MSE Score=%{y}<extra></extra>",
         "legendgroup": "Neural Network",
         "marker": {
          "color": "#FF97FF",
          "pattern": {
           "shape": ""
          }
         },
         "name": "Neural Network",
         "offsetgroup": "Neural Network",
         "orientation": "v",
         "showlegend": true,
         "textposition": "auto",
         "type": "bar",
         "x": [
          "Neural Network"
         ],
         "xaxis": "x",
         "y": [
          706.9139660703092
         ],
         "yaxis": "y"
        },
        {
         "alignmentgroup": "True",
         "hovertemplate": "Model=%{x}<br>MSE Score=%{y}<extra></extra>",
         "legendgroup": "Bayesian Regression",
         "marker": {
          "color": "#FECB52",
          "pattern": {
           "shape": ""
          }
         },
         "name": "Bayesian Regression",
         "offsetgroup": "Bayesian Regression",
         "orientation": "v",
         "showlegend": true,
         "textposition": "auto",
         "type": "bar",
         "x": [
          "Bayesian Regression"
         ],
         "xaxis": "x",
         "y": [
          37420.56141938075
         ],
         "yaxis": "y"
        },
        {
         "alignmentgroup": "True",
         "hovertemplate": "Model=%{x}<br>MSE Score=%{y}<extra></extra>",
         "legendgroup": "KNN Regression",
         "marker": {
          "color": "#636efa",
          "pattern": {
           "shape": ""
          }
         },
         "name": "KNN Regression",
         "offsetgroup": "KNN Regression",
         "orientation": "v",
         "showlegend": true,
         "textposition": "auto",
         "type": "bar",
         "x": [
          "KNN Regression"
         ],
         "xaxis": "x",
         "y": [
          1255.5037837837838
         ],
         "yaxis": "y"
        },
        {
         "alignmentgroup": "True",
         "hovertemplate": "Model=%{x}<br>MSE Score=%{y}<extra></extra>",
         "legendgroup": "XGBoost",
         "marker": {
          "color": "#EF553B",
          "pattern": {
           "shape": ""
          }
         },
         "name": "XGBoost",
         "offsetgroup": "XGBoost",
         "orientation": "v",
         "showlegend": true,
         "textposition": "auto",
         "type": "bar",
         "x": [
          "XGBoost"
         ],
         "xaxis": "x",
         "y": [
          0.1328844677071666
         ],
         "yaxis": "y"
        },
        {
         "alignmentgroup": "True",
         "hovertemplate": "Model=%{x}<br>MSE Score=%{y}<extra></extra>",
         "legendgroup": "Huber Regression",
         "marker": {
          "color": "#00cc96",
          "pattern": {
           "shape": ""
          }
         },
         "name": "Huber Regression",
         "offsetgroup": "Huber Regression",
         "orientation": "v",
         "showlegend": true,
         "textposition": "auto",
         "type": "bar",
         "x": [
          "Huber Regression"
         ],
         "xaxis": "x",
         "y": [
          14.140636318150772
         ],
         "yaxis": "y"
        },
        {
         "alignmentgroup": "True",
         "hovertemplate": "Model=%{x}<br>MSE Score=%{y}<extra></extra>",
         "legendgroup": "Theil-Sen Regression",
         "marker": {
          "color": "#ab63fa",
          "pattern": {
           "shape": ""
          }
         },
         "name": "Theil-Sen Regression",
         "offsetgroup": "Theil-Sen Regression",
         "orientation": "v",
         "showlegend": true,
         "textposition": "auto",
         "type": "bar",
         "x": [
          "Theil-Sen Regression"
         ],
         "xaxis": "x",
         "y": [
          21.516970793108904
         ],
         "yaxis": "y"
        }
       ],
       "layout": {
        "barmode": "relative",
        "height": 400,
        "legend": {
         "title": {
          "text": "Model"
         },
         "tracegroupgap": 0
        },
        "template": {
         "data": {
          "bar": [
           {
            "error_x": {
             "color": "#2a3f5f"
            },
            "error_y": {
             "color": "#2a3f5f"
            },
            "marker": {
             "line": {
              "color": "#E5ECF6",
              "width": 0.5
             },
             "pattern": {
              "fillmode": "overlay",
              "size": 10,
              "solidity": 0.2
             }
            },
            "type": "bar"
           }
          ],
          "barpolar": [
           {
            "marker": {
             "line": {
              "color": "#E5ECF6",
              "width": 0.5
             },
             "pattern": {
              "fillmode": "overlay",
              "size": 10,
              "solidity": 0.2
             }
            },
            "type": "barpolar"
           }
          ],
          "carpet": [
           {
            "aaxis": {
             "endlinecolor": "#2a3f5f",
             "gridcolor": "white",
             "linecolor": "white",
             "minorgridcolor": "white",
             "startlinecolor": "#2a3f5f"
            },
            "baxis": {
             "endlinecolor": "#2a3f5f",
             "gridcolor": "white",
             "linecolor": "white",
             "minorgridcolor": "white",
             "startlinecolor": "#2a3f5f"
            },
            "type": "carpet"
           }
          ],
          "choropleth": [
           {
            "colorbar": {
             "outlinewidth": 0,
             "ticks": ""
            },
            "type": "choropleth"
           }
          ],
          "contour": [
           {
            "colorbar": {
             "outlinewidth": 0,
             "ticks": ""
            },
            "colorscale": [
             [
              0,
              "#0d0887"
             ],
             [
              0.1111111111111111,
              "#46039f"
             ],
             [
              0.2222222222222222,
              "#7201a8"
             ],
             [
              0.3333333333333333,
              "#9c179e"
             ],
             [
              0.4444444444444444,
              "#bd3786"
             ],
             [
              0.5555555555555556,
              "#d8576b"
             ],
             [
              0.6666666666666666,
              "#ed7953"
             ],
             [
              0.7777777777777778,
              "#fb9f3a"
             ],
             [
              0.8888888888888888,
              "#fdca26"
             ],
             [
              1,
              "#f0f921"
             ]
            ],
            "type": "contour"
           }
          ],
          "contourcarpet": [
           {
            "colorbar": {
             "outlinewidth": 0,
             "ticks": ""
            },
            "type": "contourcarpet"
           }
          ],
          "heatmap": [
           {
            "colorbar": {
             "outlinewidth": 0,
             "ticks": ""
            },
            "colorscale": [
             [
              0,
              "#0d0887"
             ],
             [
              0.1111111111111111,
              "#46039f"
             ],
             [
              0.2222222222222222,
              "#7201a8"
             ],
             [
              0.3333333333333333,
              "#9c179e"
             ],
             [
              0.4444444444444444,
              "#bd3786"
             ],
             [
              0.5555555555555556,
              "#d8576b"
             ],
             [
              0.6666666666666666,
              "#ed7953"
             ],
             [
              0.7777777777777778,
              "#fb9f3a"
             ],
             [
              0.8888888888888888,
              "#fdca26"
             ],
             [
              1,
              "#f0f921"
             ]
            ],
            "type": "heatmap"
           }
          ],
          "heatmapgl": [
           {
            "colorbar": {
             "outlinewidth": 0,
             "ticks": ""
            },
            "colorscale": [
             [
              0,
              "#0d0887"
             ],
             [
              0.1111111111111111,
              "#46039f"
             ],
             [
              0.2222222222222222,
              "#7201a8"
             ],
             [
              0.3333333333333333,
              "#9c179e"
             ],
             [
              0.4444444444444444,
              "#bd3786"
             ],
             [
              0.5555555555555556,
              "#d8576b"
             ],
             [
              0.6666666666666666,
              "#ed7953"
             ],
             [
              0.7777777777777778,
              "#fb9f3a"
             ],
             [
              0.8888888888888888,
              "#fdca26"
             ],
             [
              1,
              "#f0f921"
             ]
            ],
            "type": "heatmapgl"
           }
          ],
          "histogram": [
           {
            "marker": {
             "pattern": {
              "fillmode": "overlay",
              "size": 10,
              "solidity": 0.2
             }
            },
            "type": "histogram"
           }
          ],
          "histogram2d": [
           {
            "colorbar": {
             "outlinewidth": 0,
             "ticks": ""
            },
            "colorscale": [
             [
              0,
              "#0d0887"
             ],
             [
              0.1111111111111111,
              "#46039f"
             ],
             [
              0.2222222222222222,
              "#7201a8"
             ],
             [
              0.3333333333333333,
              "#9c179e"
             ],
             [
              0.4444444444444444,
              "#bd3786"
             ],
             [
              0.5555555555555556,
              "#d8576b"
             ],
             [
              0.6666666666666666,
              "#ed7953"
             ],
             [
              0.7777777777777778,
              "#fb9f3a"
             ],
             [
              0.8888888888888888,
              "#fdca26"
             ],
             [
              1,
              "#f0f921"
             ]
            ],
            "type": "histogram2d"
           }
          ],
          "histogram2dcontour": [
           {
            "colorbar": {
             "outlinewidth": 0,
             "ticks": ""
            },
            "colorscale": [
             [
              0,
              "#0d0887"
             ],
             [
              0.1111111111111111,
              "#46039f"
             ],
             [
              0.2222222222222222,
              "#7201a8"
             ],
             [
              0.3333333333333333,
              "#9c179e"
             ],
             [
              0.4444444444444444,
              "#bd3786"
             ],
             [
              0.5555555555555556,
              "#d8576b"
             ],
             [
              0.6666666666666666,
              "#ed7953"
             ],
             [
              0.7777777777777778,
              "#fb9f3a"
             ],
             [
              0.8888888888888888,
              "#fdca26"
             ],
             [
              1,
              "#f0f921"
             ]
            ],
            "type": "histogram2dcontour"
           }
          ],
          "mesh3d": [
           {
            "colorbar": {
             "outlinewidth": 0,
             "ticks": ""
            },
            "type": "mesh3d"
           }
          ],
          "parcoords": [
           {
            "line": {
             "colorbar": {
              "outlinewidth": 0,
              "ticks": ""
             }
            },
            "type": "parcoords"
           }
          ],
          "pie": [
           {
            "automargin": true,
            "type": "pie"
           }
          ],
          "scatter": [
           {
            "fillpattern": {
             "fillmode": "overlay",
             "size": 10,
             "solidity": 0.2
            },
            "type": "scatter"
           }
          ],
          "scatter3d": [
           {
            "line": {
             "colorbar": {
              "outlinewidth": 0,
              "ticks": ""
             }
            },
            "marker": {
             "colorbar": {
              "outlinewidth": 0,
              "ticks": ""
             }
            },
            "type": "scatter3d"
           }
          ],
          "scattercarpet": [
           {
            "marker": {
             "colorbar": {
              "outlinewidth": 0,
              "ticks": ""
             }
            },
            "type": "scattercarpet"
           }
          ],
          "scattergeo": [
           {
            "marker": {
             "colorbar": {
              "outlinewidth": 0,
              "ticks": ""
             }
            },
            "type": "scattergeo"
           }
          ],
          "scattergl": [
           {
            "marker": {
             "colorbar": {
              "outlinewidth": 0,
              "ticks": ""
             }
            },
            "type": "scattergl"
           }
          ],
          "scattermapbox": [
           {
            "marker": {
             "colorbar": {
              "outlinewidth": 0,
              "ticks": ""
             }
            },
            "type": "scattermapbox"
           }
          ],
          "scatterpolar": [
           {
            "marker": {
             "colorbar": {
              "outlinewidth": 0,
              "ticks": ""
             }
            },
            "type": "scatterpolar"
           }
          ],
          "scatterpolargl": [
           {
            "marker": {
             "colorbar": {
              "outlinewidth": 0,
              "ticks": ""
             }
            },
            "type": "scatterpolargl"
           }
          ],
          "scatterternary": [
           {
            "marker": {
             "colorbar": {
              "outlinewidth": 0,
              "ticks": ""
             }
            },
            "type": "scatterternary"
           }
          ],
          "surface": [
           {
            "colorbar": {
             "outlinewidth": 0,
             "ticks": ""
            },
            "colorscale": [
             [
              0,
              "#0d0887"
             ],
             [
              0.1111111111111111,
              "#46039f"
             ],
             [
              0.2222222222222222,
              "#7201a8"
             ],
             [
              0.3333333333333333,
              "#9c179e"
             ],
             [
              0.4444444444444444,
              "#bd3786"
             ],
             [
              0.5555555555555556,
              "#d8576b"
             ],
             [
              0.6666666666666666,
              "#ed7953"
             ],
             [
              0.7777777777777778,
              "#fb9f3a"
             ],
             [
              0.8888888888888888,
              "#fdca26"
             ],
             [
              1,
              "#f0f921"
             ]
            ],
            "type": "surface"
           }
          ],
          "table": [
           {
            "cells": {
             "fill": {
              "color": "#EBF0F8"
             },
             "line": {
              "color": "white"
             }
            },
            "header": {
             "fill": {
              "color": "#C8D4E3"
             },
             "line": {
              "color": "white"
             }
            },
            "type": "table"
           }
          ]
         },
         "layout": {
          "annotationdefaults": {
           "arrowcolor": "#2a3f5f",
           "arrowhead": 0,
           "arrowwidth": 1
          },
          "autotypenumbers": "strict",
          "coloraxis": {
           "colorbar": {
            "outlinewidth": 0,
            "ticks": ""
           }
          },
          "colorscale": {
           "diverging": [
            [
             0,
             "#8e0152"
            ],
            [
             0.1,
             "#c51b7d"
            ],
            [
             0.2,
             "#de77ae"
            ],
            [
             0.3,
             "#f1b6da"
            ],
            [
             0.4,
             "#fde0ef"
            ],
            [
             0.5,
             "#f7f7f7"
            ],
            [
             0.6,
             "#e6f5d0"
            ],
            [
             0.7,
             "#b8e186"
            ],
            [
             0.8,
             "#7fbc41"
            ],
            [
             0.9,
             "#4d9221"
            ],
            [
             1,
             "#276419"
            ]
           ],
           "sequential": [
            [
             0,
             "#0d0887"
            ],
            [
             0.1111111111111111,
             "#46039f"
            ],
            [
             0.2222222222222222,
             "#7201a8"
            ],
            [
             0.3333333333333333,
             "#9c179e"
            ],
            [
             0.4444444444444444,
             "#bd3786"
            ],
            [
             0.5555555555555556,
             "#d8576b"
            ],
            [
             0.6666666666666666,
             "#ed7953"
            ],
            [
             0.7777777777777778,
             "#fb9f3a"
            ],
            [
             0.8888888888888888,
             "#fdca26"
            ],
            [
             1,
             "#f0f921"
            ]
           ],
           "sequentialminus": [
            [
             0,
             "#0d0887"
            ],
            [
             0.1111111111111111,
             "#46039f"
            ],
            [
             0.2222222222222222,
             "#7201a8"
            ],
            [
             0.3333333333333333,
             "#9c179e"
            ],
            [
             0.4444444444444444,
             "#bd3786"
            ],
            [
             0.5555555555555556,
             "#d8576b"
            ],
            [
             0.6666666666666666,
             "#ed7953"
            ],
            [
             0.7777777777777778,
             "#fb9f3a"
            ],
            [
             0.8888888888888888,
             "#fdca26"
            ],
            [
             1,
             "#f0f921"
            ]
           ]
          },
          "colorway": [
           "#636efa",
           "#EF553B",
           "#00cc96",
           "#ab63fa",
           "#FFA15A",
           "#19d3f3",
           "#FF6692",
           "#B6E880",
           "#FF97FF",
           "#FECB52"
          ],
          "font": {
           "color": "#2a3f5f"
          },
          "geo": {
           "bgcolor": "white",
           "lakecolor": "white",
           "landcolor": "#E5ECF6",
           "showlakes": true,
           "showland": true,
           "subunitcolor": "white"
          },
          "hoverlabel": {
           "align": "left"
          },
          "hovermode": "closest",
          "mapbox": {
           "style": "light"
          },
          "paper_bgcolor": "white",
          "plot_bgcolor": "#E5ECF6",
          "polar": {
           "angularaxis": {
            "gridcolor": "white",
            "linecolor": "white",
            "ticks": ""
           },
           "bgcolor": "#E5ECF6",
           "radialaxis": {
            "gridcolor": "white",
            "linecolor": "white",
            "ticks": ""
           }
          },
          "scene": {
           "xaxis": {
            "backgroundcolor": "#E5ECF6",
            "gridcolor": "white",
            "gridwidth": 2,
            "linecolor": "white",
            "showbackground": true,
            "ticks": "",
            "zerolinecolor": "white"
           },
           "yaxis": {
            "backgroundcolor": "#E5ECF6",
            "gridcolor": "white",
            "gridwidth": 2,
            "linecolor": "white",
            "showbackground": true,
            "ticks": "",
            "zerolinecolor": "white"
           },
           "zaxis": {
            "backgroundcolor": "#E5ECF6",
            "gridcolor": "white",
            "gridwidth": 2,
            "linecolor": "white",
            "showbackground": true,
            "ticks": "",
            "zerolinecolor": "white"
           }
          },
          "shapedefaults": {
           "line": {
            "color": "#2a3f5f"
           }
          },
          "ternary": {
           "aaxis": {
            "gridcolor": "white",
            "linecolor": "white",
            "ticks": ""
           },
           "baxis": {
            "gridcolor": "white",
            "linecolor": "white",
            "ticks": ""
           },
           "bgcolor": "#E5ECF6",
           "caxis": {
            "gridcolor": "white",
            "linecolor": "white",
            "ticks": ""
           }
          },
          "title": {
           "x": 0.05
          },
          "xaxis": {
           "automargin": true,
           "gridcolor": "white",
           "linecolor": "white",
           "ticks": "",
           "title": {
            "standoff": 15
           },
           "zerolinecolor": "white",
           "zerolinewidth": 2
          },
          "yaxis": {
           "automargin": true,
           "gridcolor": "white",
           "linecolor": "white",
           "ticks": "",
           "title": {
            "standoff": 15
           },
           "zerolinecolor": "white",
           "zerolinewidth": 2
          }
         }
        },
        "title": {
         "text": "Mean Squared Error (MSE) Scores for Different Regression Models"
        },
        "width": 700,
        "xaxis": {
         "anchor": "y",
         "categoryarray": [
          "Linear Regression",
          "Lasso Regression",
          "Ridge Regression",
          "Decision Tree",
          "Random Forest",
          "ElasticNet",
          "SVR",
          "Gradient Boosting",
          "Neural Network",
          "Bayesian Regression",
          "KNN Regression",
          "XGBoost",
          "Huber Regression",
          "Theil-Sen Regression"
         ],
         "categoryorder": "array",
         "domain": [
          0,
          1
         ],
         "title": {
          "text": "Model"
         }
        },
        "yaxis": {
         "anchor": "x",
         "domain": [
          0,
          1
         ],
         "title": {
          "text": "MSE Score"
         }
        }
       }
      }
     },
     "metadata": {},
     "output_type": "display_data"
    }
   ],
   "source": [
    "mse_scores = []\n",
    "\n",
    "for clf_name, clf in regressors:\n",
    "    # Fit clf to the training set\n",
    "    clf.fit(X_train, y_train)\n",
    "\n",
    "    # Predict y_pred\n",
    "    y_pred = clf.predict(X_test)\n",
    "\n",
    "    mse_score = mse(y_test, y_pred)\n",
    "    \n",
    "    mse_scores.append({'Model': clf_name, 'MSE Score': mse_score})\n",
    "\n",
    "# Create a DataFrame for the MSE scores\n",
    "mse_df = pd.DataFrame(mse_scores)\n",
    "\n",
    "# Create the bar plot using Plotly Express\n",
    "fig = px.bar(mse_df, x='Model', y='MSE Score', color='Model',\n",
    "             title='Mean Squared Error (MSE) Scores for Different Regression Models',\n",
    "             width=700, height=400)\n",
    "\n",
    "# Show the plot\n",
    "fig.show()"
   ]
  },
  {
   "cell_type": "code",
   "execution_count": 94,
   "id": "1d3380fb-0ff3-4d3e-b39b-610b057a6942",
   "metadata": {
    "executionCancelledAt": null,
    "executionTime": null,
    "lastExecutedAt": null,
    "lastScheduledRunId": null,
    "lastSuccessfullyExecutedCode": null,
    "outputsMetadata": {
     "0": {
      "height": 290,
      "type": "stream"
     }
    }
   },
   "outputs": [
    {
     "name": "stdout",
     "output_type": "stream",
     "text": [
      "Linear Regression - RMSE: 0.315\n",
      "Lasso Regression - RMSE: 4.465\n",
      "Ridge Regression - RMSE: 0.335\n",
      "Decision Tree - RMSE: 0.432\n",
      "Random Forest - RMSE: 0.350\n",
      "ElasticNet - RMSE: 23.879\n",
      "SVR - RMSE: 39.956\n",
      "Gradient Boosting - RMSE: 0.599\n",
      "Neural Network - RMSE: 26.157\n",
      "Bayesian Regression - RMSE: 193.444\n",
      "KNN Regression - RMSE: 35.433\n",
      "XGBoost - RMSE: 0.365\n",
      "Huber Regression - RMSE: 3.760\n",
      "Theil-Sen Regression - RMSE: 4.268\n"
     ]
    }
   ],
   "source": [
    "for clf_name, clf in regressors:\n",
    "    # Fit clf to the training set\n",
    "    clf.fit(X_train, y_train)\n",
    "\n",
    "    # Predict y_pred\n",
    "    y_pred = clf.predict(X_test)\n",
    "\n",
    "    mse_score = np.sqrt(mse(y_test, y_pred))\n",
    "\n",
    "    # Display MSE score for each model\n",
    "    print('{:s} - RMSE: {:.3f}'.format(clf_name, mse_score))"
   ]
  },
  {
   "cell_type": "code",
   "execution_count": 95,
   "id": "8ddb5073-fd29-4fbd-8556-e045c0f5a3d7",
   "metadata": {
    "executionCancelledAt": null,
    "executionTime": 14353,
    "lastExecutedAt": 1691831470576,
    "lastScheduledRunId": null,
    "lastSuccessfullyExecutedCode": "rmse_scores = []\n\nfor clf_name, clf in regressors:\n    # Fit clf to the training set\n    clf.fit(X_train, y_train)\n\n    # Predict y_pred\n    y_pred = clf.predict(X_test)\n\n    rmse_score = np.sqrt(mse(y_test, y_pred))\n    \n    rmse_scores.append({'Model': clf_name, 'RMSE Score': rmse_score})\n\n# Create a DataFrame for the RMSE scores\nrmse_df = pd.DataFrame(rmse_scores)\n\n# Create the bar plot using Plotly Express\nfig = px.bar(rmse_df, x='Model', y='RMSE Score', color='Model',\n             title='Root Mean Squared Error (RMSE) Scores for Different Regression Models',\n             width=700, height=400)\n\n# Show the plot\nfig.show()",
    "outputsMetadata": {
     "0": {
      "height": 467,
      "type": "plotly"
     }
    }
   },
   "outputs": [
    {
     "data": {
      "application/vnd.plotly.v1+json": {
       "config": {
        "plotlyServerURL": "https://plot.ly"
       },
       "data": [
        {
         "alignmentgroup": "True",
         "hovertemplate": "Model=%{x}<br>RMSE Score=%{y}<extra></extra>",
         "legendgroup": "Linear Regression",
         "marker": {
          "color": "#636efa",
          "pattern": {
           "shape": ""
          }
         },
         "name": "Linear Regression",
         "offsetgroup": "Linear Regression",
         "orientation": "v",
         "showlegend": true,
         "textposition": "auto",
         "type": "bar",
         "x": [
          "Linear Regression"
         ],
         "xaxis": "x",
         "y": [
          0.31489320802677895
         ],
         "yaxis": "y"
        },
        {
         "alignmentgroup": "True",
         "hovertemplate": "Model=%{x}<br>RMSE Score=%{y}<extra></extra>",
         "legendgroup": "Lasso Regression",
         "marker": {
          "color": "#EF553B",
          "pattern": {
           "shape": ""
          }
         },
         "name": "Lasso Regression",
         "offsetgroup": "Lasso Regression",
         "orientation": "v",
         "showlegend": true,
         "textposition": "auto",
         "type": "bar",
         "x": [
          "Lasso Regression"
         ],
         "xaxis": "x",
         "y": [
          4.465053910859389
         ],
         "yaxis": "y"
        },
        {
         "alignmentgroup": "True",
         "hovertemplate": "Model=%{x}<br>RMSE Score=%{y}<extra></extra>",
         "legendgroup": "Ridge Regression",
         "marker": {
          "color": "#00cc96",
          "pattern": {
           "shape": ""
          }
         },
         "name": "Ridge Regression",
         "offsetgroup": "Ridge Regression",
         "orientation": "v",
         "showlegend": true,
         "textposition": "auto",
         "type": "bar",
         "x": [
          "Ridge Regression"
         ],
         "xaxis": "x",
         "y": [
          0.33519662213923024
         ],
         "yaxis": "y"
        },
        {
         "alignmentgroup": "True",
         "hovertemplate": "Model=%{x}<br>RMSE Score=%{y}<extra></extra>",
         "legendgroup": "Decision Tree",
         "marker": {
          "color": "#ab63fa",
          "pattern": {
           "shape": ""
          }
         },
         "name": "Decision Tree",
         "offsetgroup": "Decision Tree",
         "orientation": "v",
         "showlegend": true,
         "textposition": "auto",
         "type": "bar",
         "x": [
          "Decision Tree"
         ],
         "xaxis": "x",
         "y": [
          0.45022516889074815
         ],
         "yaxis": "y"
        },
        {
         "alignmentgroup": "True",
         "hovertemplate": "Model=%{x}<br>RMSE Score=%{y}<extra></extra>",
         "legendgroup": "Random Forest",
         "marker": {
          "color": "#FFA15A",
          "pattern": {
           "shape": ""
          }
         },
         "name": "Random Forest",
         "offsetgroup": "Random Forest",
         "orientation": "v",
         "showlegend": true,
         "textposition": "auto",
         "type": "bar",
         "x": [
          "Random Forest"
         ],
         "xaxis": "x",
         "y": [
          0.35057105922703896
         ],
         "yaxis": "y"
        },
        {
         "alignmentgroup": "True",
         "hovertemplate": "Model=%{x}<br>RMSE Score=%{y}<extra></extra>",
         "legendgroup": "ElasticNet",
         "marker": {
          "color": "#19d3f3",
          "pattern": {
           "shape": ""
          }
         },
         "name": "ElasticNet",
         "offsetgroup": "ElasticNet",
         "orientation": "v",
         "showlegend": true,
         "textposition": "auto",
         "type": "bar",
         "x": [
          "ElasticNet"
         ],
         "xaxis": "x",
         "y": [
          23.878709702945784
         ],
         "yaxis": "y"
        },
        {
         "alignmentgroup": "True",
         "hovertemplate": "Model=%{x}<br>RMSE Score=%{y}<extra></extra>",
         "legendgroup": "SVR",
         "marker": {
          "color": "#FF6692",
          "pattern": {
           "shape": ""
          }
         },
         "name": "SVR",
         "offsetgroup": "SVR",
         "orientation": "v",
         "showlegend": true,
         "textposition": "auto",
         "type": "bar",
         "x": [
          "SVR"
         ],
         "xaxis": "x",
         "y": [
          39.95627197133694
         ],
         "yaxis": "y"
        },
        {
         "alignmentgroup": "True",
         "hovertemplate": "Model=%{x}<br>RMSE Score=%{y}<extra></extra>",
         "legendgroup": "Gradient Boosting",
         "marker": {
          "color": "#B6E880",
          "pattern": {
           "shape": ""
          }
         },
         "name": "Gradient Boosting",
         "offsetgroup": "Gradient Boosting",
         "orientation": "v",
         "showlegend": true,
         "textposition": "auto",
         "type": "bar",
         "x": [
          "Gradient Boosting"
         ],
         "xaxis": "x",
         "y": [
          0.5989932253499745
         ],
         "yaxis": "y"
        },
        {
         "alignmentgroup": "True",
         "hovertemplate": "Model=%{x}<br>RMSE Score=%{y}<extra></extra>",
         "legendgroup": "Neural Network",
         "marker": {
          "color": "#FF97FF",
          "pattern": {
           "shape": ""
          }
         },
         "name": "Neural Network",
         "offsetgroup": "Neural Network",
         "orientation": "v",
         "showlegend": true,
         "textposition": "auto",
         "type": "bar",
         "x": [
          "Neural Network"
         ],
         "xaxis": "x",
         "y": [
          25.668912069916225
         ],
         "yaxis": "y"
        },
        {
         "alignmentgroup": "True",
         "hovertemplate": "Model=%{x}<br>RMSE Score=%{y}<extra></extra>",
         "legendgroup": "Bayesian Regression",
         "marker": {
          "color": "#FECB52",
          "pattern": {
           "shape": ""
          }
         },
         "name": "Bayesian Regression",
         "offsetgroup": "Bayesian Regression",
         "orientation": "v",
         "showlegend": true,
         "textposition": "auto",
         "type": "bar",
         "x": [
          "Bayesian Regression"
         ],
         "xaxis": "x",
         "y": [
          193.443949037908
         ],
         "yaxis": "y"
        },
        {
         "alignmentgroup": "True",
         "hovertemplate": "Model=%{x}<br>RMSE Score=%{y}<extra></extra>",
         "legendgroup": "KNN Regression",
         "marker": {
          "color": "#636efa",
          "pattern": {
           "shape": ""
          }
         },
         "name": "KNN Regression",
         "offsetgroup": "KNN Regression",
         "orientation": "v",
         "showlegend": true,
         "textposition": "auto",
         "type": "bar",
         "x": [
          "KNN Regression"
         ],
         "xaxis": "x",
         "y": [
          35.43308882645971
         ],
         "yaxis": "y"
        },
        {
         "alignmentgroup": "True",
         "hovertemplate": "Model=%{x}<br>RMSE Score=%{y}<extra></extra>",
         "legendgroup": "XGBoost",
         "marker": {
          "color": "#EF553B",
          "pattern": {
           "shape": ""
          }
         },
         "name": "XGBoost",
         "offsetgroup": "XGBoost",
         "orientation": "v",
         "showlegend": true,
         "textposition": "auto",
         "type": "bar",
         "x": [
          "XGBoost"
         ],
         "xaxis": "x",
         "y": [
          0.364533218935074
         ],
         "yaxis": "y"
        },
        {
         "alignmentgroup": "True",
         "hovertemplate": "Model=%{x}<br>RMSE Score=%{y}<extra></extra>",
         "legendgroup": "Huber Regression",
         "marker": {
          "color": "#00cc96",
          "pattern": {
           "shape": ""
          }
         },
         "name": "Huber Regression",
         "offsetgroup": "Huber Regression",
         "orientation": "v",
         "showlegend": true,
         "textposition": "auto",
         "type": "bar",
         "x": [
          "Huber Regression"
         ],
         "xaxis": "x",
         "y": [
          3.7604037440347775
         ],
         "yaxis": "y"
        },
        {
         "alignmentgroup": "True",
         "hovertemplate": "Model=%{x}<br>RMSE Score=%{y}<extra></extra>",
         "legendgroup": "Theil-Sen Regression",
         "marker": {
          "color": "#ab63fa",
          "pattern": {
           "shape": ""
          }
         },
         "name": "Theil-Sen Regression",
         "offsetgroup": "Theil-Sen Regression",
         "orientation": "v",
         "showlegend": true,
         "textposition": "auto",
         "type": "bar",
         "x": [
          "Theil-Sen Regression"
         ],
         "xaxis": "x",
         "y": [
          4.198126385426742
         ],
         "yaxis": "y"
        }
       ],
       "layout": {
        "barmode": "relative",
        "height": 400,
        "legend": {
         "title": {
          "text": "Model"
         },
         "tracegroupgap": 0
        },
        "template": {
         "data": {
          "bar": [
           {
            "error_x": {
             "color": "#2a3f5f"
            },
            "error_y": {
             "color": "#2a3f5f"
            },
            "marker": {
             "line": {
              "color": "#E5ECF6",
              "width": 0.5
             },
             "pattern": {
              "fillmode": "overlay",
              "size": 10,
              "solidity": 0.2
             }
            },
            "type": "bar"
           }
          ],
          "barpolar": [
           {
            "marker": {
             "line": {
              "color": "#E5ECF6",
              "width": 0.5
             },
             "pattern": {
              "fillmode": "overlay",
              "size": 10,
              "solidity": 0.2
             }
            },
            "type": "barpolar"
           }
          ],
          "carpet": [
           {
            "aaxis": {
             "endlinecolor": "#2a3f5f",
             "gridcolor": "white",
             "linecolor": "white",
             "minorgridcolor": "white",
             "startlinecolor": "#2a3f5f"
            },
            "baxis": {
             "endlinecolor": "#2a3f5f",
             "gridcolor": "white",
             "linecolor": "white",
             "minorgridcolor": "white",
             "startlinecolor": "#2a3f5f"
            },
            "type": "carpet"
           }
          ],
          "choropleth": [
           {
            "colorbar": {
             "outlinewidth": 0,
             "ticks": ""
            },
            "type": "choropleth"
           }
          ],
          "contour": [
           {
            "colorbar": {
             "outlinewidth": 0,
             "ticks": ""
            },
            "colorscale": [
             [
              0,
              "#0d0887"
             ],
             [
              0.1111111111111111,
              "#46039f"
             ],
             [
              0.2222222222222222,
              "#7201a8"
             ],
             [
              0.3333333333333333,
              "#9c179e"
             ],
             [
              0.4444444444444444,
              "#bd3786"
             ],
             [
              0.5555555555555556,
              "#d8576b"
             ],
             [
              0.6666666666666666,
              "#ed7953"
             ],
             [
              0.7777777777777778,
              "#fb9f3a"
             ],
             [
              0.8888888888888888,
              "#fdca26"
             ],
             [
              1,
              "#f0f921"
             ]
            ],
            "type": "contour"
           }
          ],
          "contourcarpet": [
           {
            "colorbar": {
             "outlinewidth": 0,
             "ticks": ""
            },
            "type": "contourcarpet"
           }
          ],
          "heatmap": [
           {
            "colorbar": {
             "outlinewidth": 0,
             "ticks": ""
            },
            "colorscale": [
             [
              0,
              "#0d0887"
             ],
             [
              0.1111111111111111,
              "#46039f"
             ],
             [
              0.2222222222222222,
              "#7201a8"
             ],
             [
              0.3333333333333333,
              "#9c179e"
             ],
             [
              0.4444444444444444,
              "#bd3786"
             ],
             [
              0.5555555555555556,
              "#d8576b"
             ],
             [
              0.6666666666666666,
              "#ed7953"
             ],
             [
              0.7777777777777778,
              "#fb9f3a"
             ],
             [
              0.8888888888888888,
              "#fdca26"
             ],
             [
              1,
              "#f0f921"
             ]
            ],
            "type": "heatmap"
           }
          ],
          "heatmapgl": [
           {
            "colorbar": {
             "outlinewidth": 0,
             "ticks": ""
            },
            "colorscale": [
             [
              0,
              "#0d0887"
             ],
             [
              0.1111111111111111,
              "#46039f"
             ],
             [
              0.2222222222222222,
              "#7201a8"
             ],
             [
              0.3333333333333333,
              "#9c179e"
             ],
             [
              0.4444444444444444,
              "#bd3786"
             ],
             [
              0.5555555555555556,
              "#d8576b"
             ],
             [
              0.6666666666666666,
              "#ed7953"
             ],
             [
              0.7777777777777778,
              "#fb9f3a"
             ],
             [
              0.8888888888888888,
              "#fdca26"
             ],
             [
              1,
              "#f0f921"
             ]
            ],
            "type": "heatmapgl"
           }
          ],
          "histogram": [
           {
            "marker": {
             "pattern": {
              "fillmode": "overlay",
              "size": 10,
              "solidity": 0.2
             }
            },
            "type": "histogram"
           }
          ],
          "histogram2d": [
           {
            "colorbar": {
             "outlinewidth": 0,
             "ticks": ""
            },
            "colorscale": [
             [
              0,
              "#0d0887"
             ],
             [
              0.1111111111111111,
              "#46039f"
             ],
             [
              0.2222222222222222,
              "#7201a8"
             ],
             [
              0.3333333333333333,
              "#9c179e"
             ],
             [
              0.4444444444444444,
              "#bd3786"
             ],
             [
              0.5555555555555556,
              "#d8576b"
             ],
             [
              0.6666666666666666,
              "#ed7953"
             ],
             [
              0.7777777777777778,
              "#fb9f3a"
             ],
             [
              0.8888888888888888,
              "#fdca26"
             ],
             [
              1,
              "#f0f921"
             ]
            ],
            "type": "histogram2d"
           }
          ],
          "histogram2dcontour": [
           {
            "colorbar": {
             "outlinewidth": 0,
             "ticks": ""
            },
            "colorscale": [
             [
              0,
              "#0d0887"
             ],
             [
              0.1111111111111111,
              "#46039f"
             ],
             [
              0.2222222222222222,
              "#7201a8"
             ],
             [
              0.3333333333333333,
              "#9c179e"
             ],
             [
              0.4444444444444444,
              "#bd3786"
             ],
             [
              0.5555555555555556,
              "#d8576b"
             ],
             [
              0.6666666666666666,
              "#ed7953"
             ],
             [
              0.7777777777777778,
              "#fb9f3a"
             ],
             [
              0.8888888888888888,
              "#fdca26"
             ],
             [
              1,
              "#f0f921"
             ]
            ],
            "type": "histogram2dcontour"
           }
          ],
          "mesh3d": [
           {
            "colorbar": {
             "outlinewidth": 0,
             "ticks": ""
            },
            "type": "mesh3d"
           }
          ],
          "parcoords": [
           {
            "line": {
             "colorbar": {
              "outlinewidth": 0,
              "ticks": ""
             }
            },
            "type": "parcoords"
           }
          ],
          "pie": [
           {
            "automargin": true,
            "type": "pie"
           }
          ],
          "scatter": [
           {
            "fillpattern": {
             "fillmode": "overlay",
             "size": 10,
             "solidity": 0.2
            },
            "type": "scatter"
           }
          ],
          "scatter3d": [
           {
            "line": {
             "colorbar": {
              "outlinewidth": 0,
              "ticks": ""
             }
            },
            "marker": {
             "colorbar": {
              "outlinewidth": 0,
              "ticks": ""
             }
            },
            "type": "scatter3d"
           }
          ],
          "scattercarpet": [
           {
            "marker": {
             "colorbar": {
              "outlinewidth": 0,
              "ticks": ""
             }
            },
            "type": "scattercarpet"
           }
          ],
          "scattergeo": [
           {
            "marker": {
             "colorbar": {
              "outlinewidth": 0,
              "ticks": ""
             }
            },
            "type": "scattergeo"
           }
          ],
          "scattergl": [
           {
            "marker": {
             "colorbar": {
              "outlinewidth": 0,
              "ticks": ""
             }
            },
            "type": "scattergl"
           }
          ],
          "scattermapbox": [
           {
            "marker": {
             "colorbar": {
              "outlinewidth": 0,
              "ticks": ""
             }
            },
            "type": "scattermapbox"
           }
          ],
          "scatterpolar": [
           {
            "marker": {
             "colorbar": {
              "outlinewidth": 0,
              "ticks": ""
             }
            },
            "type": "scatterpolar"
           }
          ],
          "scatterpolargl": [
           {
            "marker": {
             "colorbar": {
              "outlinewidth": 0,
              "ticks": ""
             }
            },
            "type": "scatterpolargl"
           }
          ],
          "scatterternary": [
           {
            "marker": {
             "colorbar": {
              "outlinewidth": 0,
              "ticks": ""
             }
            },
            "type": "scatterternary"
           }
          ],
          "surface": [
           {
            "colorbar": {
             "outlinewidth": 0,
             "ticks": ""
            },
            "colorscale": [
             [
              0,
              "#0d0887"
             ],
             [
              0.1111111111111111,
              "#46039f"
             ],
             [
              0.2222222222222222,
              "#7201a8"
             ],
             [
              0.3333333333333333,
              "#9c179e"
             ],
             [
              0.4444444444444444,
              "#bd3786"
             ],
             [
              0.5555555555555556,
              "#d8576b"
             ],
             [
              0.6666666666666666,
              "#ed7953"
             ],
             [
              0.7777777777777778,
              "#fb9f3a"
             ],
             [
              0.8888888888888888,
              "#fdca26"
             ],
             [
              1,
              "#f0f921"
             ]
            ],
            "type": "surface"
           }
          ],
          "table": [
           {
            "cells": {
             "fill": {
              "color": "#EBF0F8"
             },
             "line": {
              "color": "white"
             }
            },
            "header": {
             "fill": {
              "color": "#C8D4E3"
             },
             "line": {
              "color": "white"
             }
            },
            "type": "table"
           }
          ]
         },
         "layout": {
          "annotationdefaults": {
           "arrowcolor": "#2a3f5f",
           "arrowhead": 0,
           "arrowwidth": 1
          },
          "autotypenumbers": "strict",
          "coloraxis": {
           "colorbar": {
            "outlinewidth": 0,
            "ticks": ""
           }
          },
          "colorscale": {
           "diverging": [
            [
             0,
             "#8e0152"
            ],
            [
             0.1,
             "#c51b7d"
            ],
            [
             0.2,
             "#de77ae"
            ],
            [
             0.3,
             "#f1b6da"
            ],
            [
             0.4,
             "#fde0ef"
            ],
            [
             0.5,
             "#f7f7f7"
            ],
            [
             0.6,
             "#e6f5d0"
            ],
            [
             0.7,
             "#b8e186"
            ],
            [
             0.8,
             "#7fbc41"
            ],
            [
             0.9,
             "#4d9221"
            ],
            [
             1,
             "#276419"
            ]
           ],
           "sequential": [
            [
             0,
             "#0d0887"
            ],
            [
             0.1111111111111111,
             "#46039f"
            ],
            [
             0.2222222222222222,
             "#7201a8"
            ],
            [
             0.3333333333333333,
             "#9c179e"
            ],
            [
             0.4444444444444444,
             "#bd3786"
            ],
            [
             0.5555555555555556,
             "#d8576b"
            ],
            [
             0.6666666666666666,
             "#ed7953"
            ],
            [
             0.7777777777777778,
             "#fb9f3a"
            ],
            [
             0.8888888888888888,
             "#fdca26"
            ],
            [
             1,
             "#f0f921"
            ]
           ],
           "sequentialminus": [
            [
             0,
             "#0d0887"
            ],
            [
             0.1111111111111111,
             "#46039f"
            ],
            [
             0.2222222222222222,
             "#7201a8"
            ],
            [
             0.3333333333333333,
             "#9c179e"
            ],
            [
             0.4444444444444444,
             "#bd3786"
            ],
            [
             0.5555555555555556,
             "#d8576b"
            ],
            [
             0.6666666666666666,
             "#ed7953"
            ],
            [
             0.7777777777777778,
             "#fb9f3a"
            ],
            [
             0.8888888888888888,
             "#fdca26"
            ],
            [
             1,
             "#f0f921"
            ]
           ]
          },
          "colorway": [
           "#636efa",
           "#EF553B",
           "#00cc96",
           "#ab63fa",
           "#FFA15A",
           "#19d3f3",
           "#FF6692",
           "#B6E880",
           "#FF97FF",
           "#FECB52"
          ],
          "font": {
           "color": "#2a3f5f"
          },
          "geo": {
           "bgcolor": "white",
           "lakecolor": "white",
           "landcolor": "#E5ECF6",
           "showlakes": true,
           "showland": true,
           "subunitcolor": "white"
          },
          "hoverlabel": {
           "align": "left"
          },
          "hovermode": "closest",
          "mapbox": {
           "style": "light"
          },
          "paper_bgcolor": "white",
          "plot_bgcolor": "#E5ECF6",
          "polar": {
           "angularaxis": {
            "gridcolor": "white",
            "linecolor": "white",
            "ticks": ""
           },
           "bgcolor": "#E5ECF6",
           "radialaxis": {
            "gridcolor": "white",
            "linecolor": "white",
            "ticks": ""
           }
          },
          "scene": {
           "xaxis": {
            "backgroundcolor": "#E5ECF6",
            "gridcolor": "white",
            "gridwidth": 2,
            "linecolor": "white",
            "showbackground": true,
            "ticks": "",
            "zerolinecolor": "white"
           },
           "yaxis": {
            "backgroundcolor": "#E5ECF6",
            "gridcolor": "white",
            "gridwidth": 2,
            "linecolor": "white",
            "showbackground": true,
            "ticks": "",
            "zerolinecolor": "white"
           },
           "zaxis": {
            "backgroundcolor": "#E5ECF6",
            "gridcolor": "white",
            "gridwidth": 2,
            "linecolor": "white",
            "showbackground": true,
            "ticks": "",
            "zerolinecolor": "white"
           }
          },
          "shapedefaults": {
           "line": {
            "color": "#2a3f5f"
           }
          },
          "ternary": {
           "aaxis": {
            "gridcolor": "white",
            "linecolor": "white",
            "ticks": ""
           },
           "baxis": {
            "gridcolor": "white",
            "linecolor": "white",
            "ticks": ""
           },
           "bgcolor": "#E5ECF6",
           "caxis": {
            "gridcolor": "white",
            "linecolor": "white",
            "ticks": ""
           }
          },
          "title": {
           "x": 0.05
          },
          "xaxis": {
           "automargin": true,
           "gridcolor": "white",
           "linecolor": "white",
           "ticks": "",
           "title": {
            "standoff": 15
           },
           "zerolinecolor": "white",
           "zerolinewidth": 2
          },
          "yaxis": {
           "automargin": true,
           "gridcolor": "white",
           "linecolor": "white",
           "ticks": "",
           "title": {
            "standoff": 15
           },
           "zerolinecolor": "white",
           "zerolinewidth": 2
          }
         }
        },
        "title": {
         "text": "Root Mean Squared Error (RMSE) Scores for Different Regression Models"
        },
        "width": 700,
        "xaxis": {
         "anchor": "y",
         "categoryarray": [
          "Linear Regression",
          "Lasso Regression",
          "Ridge Regression",
          "Decision Tree",
          "Random Forest",
          "ElasticNet",
          "SVR",
          "Gradient Boosting",
          "Neural Network",
          "Bayesian Regression",
          "KNN Regression",
          "XGBoost",
          "Huber Regression",
          "Theil-Sen Regression"
         ],
         "categoryorder": "array",
         "domain": [
          0,
          1
         ],
         "title": {
          "text": "Model"
         }
        },
        "yaxis": {
         "anchor": "x",
         "domain": [
          0,
          1
         ],
         "title": {
          "text": "RMSE Score"
         }
        }
       }
      }
     },
     "metadata": {},
     "output_type": "display_data"
    }
   ],
   "source": [
    "rmse_scores = []\n",
    "\n",
    "for clf_name, clf in regressors:\n",
    "    # Fit clf to the training set\n",
    "    clf.fit(X_train, y_train)\n",
    "\n",
    "    # Predict y_pred\n",
    "    y_pred = clf.predict(X_test)\n",
    "\n",
    "    rmse_score = np.sqrt(mse(y_test, y_pred))\n",
    "    \n",
    "    rmse_scores.append({'Model': clf_name, 'RMSE Score': rmse_score})\n",
    "\n",
    "# Create a DataFrame for the RMSE scores\n",
    "rmse_df = pd.DataFrame(rmse_scores)\n",
    "\n",
    "# Create the bar plot using Plotly Express\n",
    "fig = px.bar(rmse_df, x='Model', y='RMSE Score', color='Model',\n",
    "             title='Root Mean Squared Error (RMSE) Scores for Different Regression Models',\n",
    "             width=700, height=400)\n",
    "\n",
    "# Show the plot\n",
    "fig.show()"
   ]
  },
  {
   "cell_type": "code",
   "execution_count": 96,
   "id": "bb634177-f727-47bc-83b4-f06ace2bc18e",
   "metadata": {
    "executionCancelledAt": null,
    "executionTime": null,
    "lastExecutedAt": null,
    "lastScheduledRunId": null,
    "lastSuccessfullyExecutedCode": null,
    "outputsMetadata": {
     "0": {
      "height": 290,
      "type": "stream"
     }
    }
   },
   "outputs": [
    {
     "name": "stdout",
     "output_type": "stream",
     "text": [
      "Linear Regression - MAE: 0.140\n",
      "Lasso Regression - MAE: 3.440\n",
      "Ridge Regression - MAE: 0.177\n",
      "Decision Tree - MAE: 0.138\n",
      "Random Forest - MAE: 0.145\n",
      "ElasticNet - MAE: 20.695\n",
      "SVR - MAE: 24.420\n",
      "Gradient Boosting - MAE: 0.326\n",
      "Neural Network - MAE: 18.612\n",
      "Bayesian Regression - MAE: 185.980\n",
      "KNN Regression - MAE: 27.288\n",
      "XGBoost - MAE: 0.194\n",
      "Huber Regression - MAE: 2.122\n",
      "Theil-Sen Regression - MAE: 2.125\n"
     ]
    }
   ],
   "source": [
    "for clf_name, clf in regressors:\n",
    "    # Fit clf to the training set\n",
    "    clf.fit(X_train, y_train)\n",
    "\n",
    "    # Predict y_pred\n",
    "    y_pred = clf.predict(X_test)\n",
    "\n",
    "    mae_score = (mae(y_test, y_pred))\n",
    "\n",
    "    # Display MSE score for each model\n",
    "    print('{:s} - MAE: {:.3f}'.format(clf_name, mae_score))"
   ]
  },
  {
   "cell_type": "code",
   "execution_count": 97,
   "id": "e0a9f25d-fe5a-461e-a50c-fa8dc7c4c4f9",
   "metadata": {
    "executionCancelledAt": null,
    "executionTime": 13537,
    "lastExecutedAt": 1691831495602,
    "lastScheduledRunId": null,
    "lastSuccessfullyExecutedCode": "mae_scores = []\n\nfor clf_name, clf in regressors:\n    # Fit clf to the training set\n    clf.fit(X_train, y_train)\n\n    # Predict y_pred\n    y_pred = clf.predict(X_test)\n\n    mae_score = mae(y_test, y_pred)\n    \n    mae_scores.append({'Model': clf_name, 'MSE Score': mae_score})\n\n# Create a DataFrame for the MSE scores\nmae_df = pd.DataFrame(mae_scores)\n\n# Create the bar plot using Plotly Express\nfig = px.bar(mae_df, x='Model', y='MSE Score', color='Model',\n             title='Mean Average Error (MAE) Scores for Different Regression Models',\n             width=700, height=400)\n\n# Show the plot\nfig.show()",
    "outputsMetadata": {
     "0": {
      "height": 17,
      "type": "plotly"
     }
    }
   },
   "outputs": [
    {
     "data": {
      "application/vnd.plotly.v1+json": {
       "config": {
        "plotlyServerURL": "https://plot.ly"
       },
       "data": [
        {
         "alignmentgroup": "True",
         "hovertemplate": "Model=%{x}<br>MSE Score=%{y}<extra></extra>",
         "legendgroup": "Linear Regression",
         "marker": {
          "color": "#636efa",
          "pattern": {
           "shape": ""
          }
         },
         "name": "Linear Regression",
         "offsetgroup": "Linear Regression",
         "orientation": "v",
         "showlegend": true,
         "textposition": "auto",
         "type": "bar",
         "x": [
          "Linear Regression"
         ],
         "xaxis": "x",
         "y": [
          0.13958035779831388
         ],
         "yaxis": "y"
        },
        {
         "alignmentgroup": "True",
         "hovertemplate": "Model=%{x}<br>MSE Score=%{y}<extra></extra>",
         "legendgroup": "Lasso Regression",
         "marker": {
          "color": "#EF553B",
          "pattern": {
           "shape": ""
          }
         },
         "name": "Lasso Regression",
         "offsetgroup": "Lasso Regression",
         "orientation": "v",
         "showlegend": true,
         "textposition": "auto",
         "type": "bar",
         "x": [
          "Lasso Regression"
         ],
         "xaxis": "x",
         "y": [
          3.4402220773981558
         ],
         "yaxis": "y"
        },
        {
         "alignmentgroup": "True",
         "hovertemplate": "Model=%{x}<br>MSE Score=%{y}<extra></extra>",
         "legendgroup": "Ridge Regression",
         "marker": {
          "color": "#00cc96",
          "pattern": {
           "shape": ""
          }
         },
         "name": "Ridge Regression",
         "offsetgroup": "Ridge Regression",
         "orientation": "v",
         "showlegend": true,
         "textposition": "auto",
         "type": "bar",
         "x": [
          "Ridge Regression"
         ],
         "xaxis": "x",
         "y": [
          0.17679637202658013
         ],
         "yaxis": "y"
        },
        {
         "alignmentgroup": "True",
         "hovertemplate": "Model=%{x}<br>MSE Score=%{y}<extra></extra>",
         "legendgroup": "Decision Tree",
         "marker": {
          "color": "#ab63fa",
          "pattern": {
           "shape": ""
          }
         },
         "name": "Decision Tree",
         "offsetgroup": "Decision Tree",
         "orientation": "v",
         "showlegend": true,
         "textposition": "auto",
         "type": "bar",
         "x": [
          "Decision Tree"
         ],
         "xaxis": "x",
         "y": [
          0.13783783783783785
         ],
         "yaxis": "y"
        },
        {
         "alignmentgroup": "True",
         "hovertemplate": "Model=%{x}<br>MSE Score=%{y}<extra></extra>",
         "legendgroup": "Random Forest",
         "marker": {
          "color": "#FFA15A",
          "pattern": {
           "shape": ""
          }
         },
         "name": "Random Forest",
         "offsetgroup": "Random Forest",
         "orientation": "v",
         "showlegend": true,
         "textposition": "auto",
         "type": "bar",
         "x": [
          "Random Forest"
         ],
         "xaxis": "x",
         "y": [
          0.146522522522522
         ],
         "yaxis": "y"
        },
        {
         "alignmentgroup": "True",
         "hovertemplate": "Model=%{x}<br>MSE Score=%{y}<extra></extra>",
         "legendgroup": "ElasticNet",
         "marker": {
          "color": "#19d3f3",
          "pattern": {
           "shape": ""
          }
         },
         "name": "ElasticNet",
         "offsetgroup": "ElasticNet",
         "orientation": "v",
         "showlegend": true,
         "textposition": "auto",
         "type": "bar",
         "x": [
          "ElasticNet"
         ],
         "xaxis": "x",
         "y": [
          20.69521621334115
         ],
         "yaxis": "y"
        },
        {
         "alignmentgroup": "True",
         "hovertemplate": "Model=%{x}<br>MSE Score=%{y}<extra></extra>",
         "legendgroup": "SVR",
         "marker": {
          "color": "#FF6692",
          "pattern": {
           "shape": ""
          }
         },
         "name": "SVR",
         "offsetgroup": "SVR",
         "orientation": "v",
         "showlegend": true,
         "textposition": "auto",
         "type": "bar",
         "x": [
          "SVR"
         ],
         "xaxis": "x",
         "y": [
          24.419779354096686
         ],
         "yaxis": "y"
        },
        {
         "alignmentgroup": "True",
         "hovertemplate": "Model=%{x}<br>MSE Score=%{y}<extra></extra>",
         "legendgroup": "Gradient Boosting",
         "marker": {
          "color": "#B6E880",
          "pattern": {
           "shape": ""
          }
         },
         "name": "Gradient Boosting",
         "offsetgroup": "Gradient Boosting",
         "orientation": "v",
         "showlegend": true,
         "textposition": "auto",
         "type": "bar",
         "x": [
          "Gradient Boosting"
         ],
         "xaxis": "x",
         "y": [
          0.3263767677724495
         ],
         "yaxis": "y"
        },
        {
         "alignmentgroup": "True",
         "hovertemplate": "Model=%{x}<br>MSE Score=%{y}<extra></extra>",
         "legendgroup": "Neural Network",
         "marker": {
          "color": "#FF97FF",
          "pattern": {
           "shape": ""
          }
         },
         "name": "Neural Network",
         "offsetgroup": "Neural Network",
         "orientation": "v",
         "showlegend": true,
         "textposition": "auto",
         "type": "bar",
         "x": [
          "Neural Network"
         ],
         "xaxis": "x",
         "y": [
          18.232492007855218
         ],
         "yaxis": "y"
        },
        {
         "alignmentgroup": "True",
         "hovertemplate": "Model=%{x}<br>MSE Score=%{y}<extra></extra>",
         "legendgroup": "Bayesian Regression",
         "marker": {
          "color": "#FECB52",
          "pattern": {
           "shape": ""
          }
         },
         "name": "Bayesian Regression",
         "offsetgroup": "Bayesian Regression",
         "orientation": "v",
         "showlegend": true,
         "textposition": "auto",
         "type": "bar",
         "x": [
          "Bayesian Regression"
         ],
         "xaxis": "x",
         "y": [
          185.98023595543023
         ],
         "yaxis": "y"
        },
        {
         "alignmentgroup": "True",
         "hovertemplate": "Model=%{x}<br>MSE Score=%{y}<extra></extra>",
         "legendgroup": "KNN Regression",
         "marker": {
          "color": "#636efa",
          "pattern": {
           "shape": ""
          }
         },
         "name": "KNN Regression",
         "offsetgroup": "KNN Regression",
         "orientation": "v",
         "showlegend": true,
         "textposition": "auto",
         "type": "bar",
         "x": [
          "KNN Regression"
         ],
         "xaxis": "x",
         "y": [
          27.287567567567567
         ],
         "yaxis": "y"
        },
        {
         "alignmentgroup": "True",
         "hovertemplate": "Model=%{x}<br>MSE Score=%{y}<extra></extra>",
         "legendgroup": "XGBoost",
         "marker": {
          "color": "#EF553B",
          "pattern": {
           "shape": ""
          }
         },
         "name": "XGBoost",
         "offsetgroup": "XGBoost",
         "orientation": "v",
         "showlegend": true,
         "textposition": "auto",
         "type": "bar",
         "x": [
          "XGBoost"
         ],
         "xaxis": "x",
         "y": [
          0.19354796538481842
         ],
         "yaxis": "y"
        },
        {
         "alignmentgroup": "True",
         "hovertemplate": "Model=%{x}<br>MSE Score=%{y}<extra></extra>",
         "legendgroup": "Huber Regression",
         "marker": {
          "color": "#00cc96",
          "pattern": {
           "shape": ""
          }
         },
         "name": "Huber Regression",
         "offsetgroup": "Huber Regression",
         "orientation": "v",
         "showlegend": true,
         "textposition": "auto",
         "type": "bar",
         "x": [
          "Huber Regression"
         ],
         "xaxis": "x",
         "y": [
          2.1217728617307814
         ],
         "yaxis": "y"
        },
        {
         "alignmentgroup": "True",
         "hovertemplate": "Model=%{x}<br>MSE Score=%{y}<extra></extra>",
         "legendgroup": "Theil-Sen Regression",
         "marker": {
          "color": "#ab63fa",
          "pattern": {
           "shape": ""
          }
         },
         "name": "Theil-Sen Regression",
         "offsetgroup": "Theil-Sen Regression",
         "orientation": "v",
         "showlegend": true,
         "textposition": "auto",
         "type": "bar",
         "x": [
          "Theil-Sen Regression"
         ],
         "xaxis": "x",
         "y": [
          2.192364697899079
         ],
         "yaxis": "y"
        }
       ],
       "layout": {
        "barmode": "relative",
        "height": 400,
        "legend": {
         "title": {
          "text": "Model"
         },
         "tracegroupgap": 0
        },
        "template": {
         "data": {
          "bar": [
           {
            "error_x": {
             "color": "#2a3f5f"
            },
            "error_y": {
             "color": "#2a3f5f"
            },
            "marker": {
             "line": {
              "color": "#E5ECF6",
              "width": 0.5
             },
             "pattern": {
              "fillmode": "overlay",
              "size": 10,
              "solidity": 0.2
             }
            },
            "type": "bar"
           }
          ],
          "barpolar": [
           {
            "marker": {
             "line": {
              "color": "#E5ECF6",
              "width": 0.5
             },
             "pattern": {
              "fillmode": "overlay",
              "size": 10,
              "solidity": 0.2
             }
            },
            "type": "barpolar"
           }
          ],
          "carpet": [
           {
            "aaxis": {
             "endlinecolor": "#2a3f5f",
             "gridcolor": "white",
             "linecolor": "white",
             "minorgridcolor": "white",
             "startlinecolor": "#2a3f5f"
            },
            "baxis": {
             "endlinecolor": "#2a3f5f",
             "gridcolor": "white",
             "linecolor": "white",
             "minorgridcolor": "white",
             "startlinecolor": "#2a3f5f"
            },
            "type": "carpet"
           }
          ],
          "choropleth": [
           {
            "colorbar": {
             "outlinewidth": 0,
             "ticks": ""
            },
            "type": "choropleth"
           }
          ],
          "contour": [
           {
            "colorbar": {
             "outlinewidth": 0,
             "ticks": ""
            },
            "colorscale": [
             [
              0,
              "#0d0887"
             ],
             [
              0.1111111111111111,
              "#46039f"
             ],
             [
              0.2222222222222222,
              "#7201a8"
             ],
             [
              0.3333333333333333,
              "#9c179e"
             ],
             [
              0.4444444444444444,
              "#bd3786"
             ],
             [
              0.5555555555555556,
              "#d8576b"
             ],
             [
              0.6666666666666666,
              "#ed7953"
             ],
             [
              0.7777777777777778,
              "#fb9f3a"
             ],
             [
              0.8888888888888888,
              "#fdca26"
             ],
             [
              1,
              "#f0f921"
             ]
            ],
            "type": "contour"
           }
          ],
          "contourcarpet": [
           {
            "colorbar": {
             "outlinewidth": 0,
             "ticks": ""
            },
            "type": "contourcarpet"
           }
          ],
          "heatmap": [
           {
            "colorbar": {
             "outlinewidth": 0,
             "ticks": ""
            },
            "colorscale": [
             [
              0,
              "#0d0887"
             ],
             [
              0.1111111111111111,
              "#46039f"
             ],
             [
              0.2222222222222222,
              "#7201a8"
             ],
             [
              0.3333333333333333,
              "#9c179e"
             ],
             [
              0.4444444444444444,
              "#bd3786"
             ],
             [
              0.5555555555555556,
              "#d8576b"
             ],
             [
              0.6666666666666666,
              "#ed7953"
             ],
             [
              0.7777777777777778,
              "#fb9f3a"
             ],
             [
              0.8888888888888888,
              "#fdca26"
             ],
             [
              1,
              "#f0f921"
             ]
            ],
            "type": "heatmap"
           }
          ],
          "heatmapgl": [
           {
            "colorbar": {
             "outlinewidth": 0,
             "ticks": ""
            },
            "colorscale": [
             [
              0,
              "#0d0887"
             ],
             [
              0.1111111111111111,
              "#46039f"
             ],
             [
              0.2222222222222222,
              "#7201a8"
             ],
             [
              0.3333333333333333,
              "#9c179e"
             ],
             [
              0.4444444444444444,
              "#bd3786"
             ],
             [
              0.5555555555555556,
              "#d8576b"
             ],
             [
              0.6666666666666666,
              "#ed7953"
             ],
             [
              0.7777777777777778,
              "#fb9f3a"
             ],
             [
              0.8888888888888888,
              "#fdca26"
             ],
             [
              1,
              "#f0f921"
             ]
            ],
            "type": "heatmapgl"
           }
          ],
          "histogram": [
           {
            "marker": {
             "pattern": {
              "fillmode": "overlay",
              "size": 10,
              "solidity": 0.2
             }
            },
            "type": "histogram"
           }
          ],
          "histogram2d": [
           {
            "colorbar": {
             "outlinewidth": 0,
             "ticks": ""
            },
            "colorscale": [
             [
              0,
              "#0d0887"
             ],
             [
              0.1111111111111111,
              "#46039f"
             ],
             [
              0.2222222222222222,
              "#7201a8"
             ],
             [
              0.3333333333333333,
              "#9c179e"
             ],
             [
              0.4444444444444444,
              "#bd3786"
             ],
             [
              0.5555555555555556,
              "#d8576b"
             ],
             [
              0.6666666666666666,
              "#ed7953"
             ],
             [
              0.7777777777777778,
              "#fb9f3a"
             ],
             [
              0.8888888888888888,
              "#fdca26"
             ],
             [
              1,
              "#f0f921"
             ]
            ],
            "type": "histogram2d"
           }
          ],
          "histogram2dcontour": [
           {
            "colorbar": {
             "outlinewidth": 0,
             "ticks": ""
            },
            "colorscale": [
             [
              0,
              "#0d0887"
             ],
             [
              0.1111111111111111,
              "#46039f"
             ],
             [
              0.2222222222222222,
              "#7201a8"
             ],
             [
              0.3333333333333333,
              "#9c179e"
             ],
             [
              0.4444444444444444,
              "#bd3786"
             ],
             [
              0.5555555555555556,
              "#d8576b"
             ],
             [
              0.6666666666666666,
              "#ed7953"
             ],
             [
              0.7777777777777778,
              "#fb9f3a"
             ],
             [
              0.8888888888888888,
              "#fdca26"
             ],
             [
              1,
              "#f0f921"
             ]
            ],
            "type": "histogram2dcontour"
           }
          ],
          "mesh3d": [
           {
            "colorbar": {
             "outlinewidth": 0,
             "ticks": ""
            },
            "type": "mesh3d"
           }
          ],
          "parcoords": [
           {
            "line": {
             "colorbar": {
              "outlinewidth": 0,
              "ticks": ""
             }
            },
            "type": "parcoords"
           }
          ],
          "pie": [
           {
            "automargin": true,
            "type": "pie"
           }
          ],
          "scatter": [
           {
            "fillpattern": {
             "fillmode": "overlay",
             "size": 10,
             "solidity": 0.2
            },
            "type": "scatter"
           }
          ],
          "scatter3d": [
           {
            "line": {
             "colorbar": {
              "outlinewidth": 0,
              "ticks": ""
             }
            },
            "marker": {
             "colorbar": {
              "outlinewidth": 0,
              "ticks": ""
             }
            },
            "type": "scatter3d"
           }
          ],
          "scattercarpet": [
           {
            "marker": {
             "colorbar": {
              "outlinewidth": 0,
              "ticks": ""
             }
            },
            "type": "scattercarpet"
           }
          ],
          "scattergeo": [
           {
            "marker": {
             "colorbar": {
              "outlinewidth": 0,
              "ticks": ""
             }
            },
            "type": "scattergeo"
           }
          ],
          "scattergl": [
           {
            "marker": {
             "colorbar": {
              "outlinewidth": 0,
              "ticks": ""
             }
            },
            "type": "scattergl"
           }
          ],
          "scattermapbox": [
           {
            "marker": {
             "colorbar": {
              "outlinewidth": 0,
              "ticks": ""
             }
            },
            "type": "scattermapbox"
           }
          ],
          "scatterpolar": [
           {
            "marker": {
             "colorbar": {
              "outlinewidth": 0,
              "ticks": ""
             }
            },
            "type": "scatterpolar"
           }
          ],
          "scatterpolargl": [
           {
            "marker": {
             "colorbar": {
              "outlinewidth": 0,
              "ticks": ""
             }
            },
            "type": "scatterpolargl"
           }
          ],
          "scatterternary": [
           {
            "marker": {
             "colorbar": {
              "outlinewidth": 0,
              "ticks": ""
             }
            },
            "type": "scatterternary"
           }
          ],
          "surface": [
           {
            "colorbar": {
             "outlinewidth": 0,
             "ticks": ""
            },
            "colorscale": [
             [
              0,
              "#0d0887"
             ],
             [
              0.1111111111111111,
              "#46039f"
             ],
             [
              0.2222222222222222,
              "#7201a8"
             ],
             [
              0.3333333333333333,
              "#9c179e"
             ],
             [
              0.4444444444444444,
              "#bd3786"
             ],
             [
              0.5555555555555556,
              "#d8576b"
             ],
             [
              0.6666666666666666,
              "#ed7953"
             ],
             [
              0.7777777777777778,
              "#fb9f3a"
             ],
             [
              0.8888888888888888,
              "#fdca26"
             ],
             [
              1,
              "#f0f921"
             ]
            ],
            "type": "surface"
           }
          ],
          "table": [
           {
            "cells": {
             "fill": {
              "color": "#EBF0F8"
             },
             "line": {
              "color": "white"
             }
            },
            "header": {
             "fill": {
              "color": "#C8D4E3"
             },
             "line": {
              "color": "white"
             }
            },
            "type": "table"
           }
          ]
         },
         "layout": {
          "annotationdefaults": {
           "arrowcolor": "#2a3f5f",
           "arrowhead": 0,
           "arrowwidth": 1
          },
          "autotypenumbers": "strict",
          "coloraxis": {
           "colorbar": {
            "outlinewidth": 0,
            "ticks": ""
           }
          },
          "colorscale": {
           "diverging": [
            [
             0,
             "#8e0152"
            ],
            [
             0.1,
             "#c51b7d"
            ],
            [
             0.2,
             "#de77ae"
            ],
            [
             0.3,
             "#f1b6da"
            ],
            [
             0.4,
             "#fde0ef"
            ],
            [
             0.5,
             "#f7f7f7"
            ],
            [
             0.6,
             "#e6f5d0"
            ],
            [
             0.7,
             "#b8e186"
            ],
            [
             0.8,
             "#7fbc41"
            ],
            [
             0.9,
             "#4d9221"
            ],
            [
             1,
             "#276419"
            ]
           ],
           "sequential": [
            [
             0,
             "#0d0887"
            ],
            [
             0.1111111111111111,
             "#46039f"
            ],
            [
             0.2222222222222222,
             "#7201a8"
            ],
            [
             0.3333333333333333,
             "#9c179e"
            ],
            [
             0.4444444444444444,
             "#bd3786"
            ],
            [
             0.5555555555555556,
             "#d8576b"
            ],
            [
             0.6666666666666666,
             "#ed7953"
            ],
            [
             0.7777777777777778,
             "#fb9f3a"
            ],
            [
             0.8888888888888888,
             "#fdca26"
            ],
            [
             1,
             "#f0f921"
            ]
           ],
           "sequentialminus": [
            [
             0,
             "#0d0887"
            ],
            [
             0.1111111111111111,
             "#46039f"
            ],
            [
             0.2222222222222222,
             "#7201a8"
            ],
            [
             0.3333333333333333,
             "#9c179e"
            ],
            [
             0.4444444444444444,
             "#bd3786"
            ],
            [
             0.5555555555555556,
             "#d8576b"
            ],
            [
             0.6666666666666666,
             "#ed7953"
            ],
            [
             0.7777777777777778,
             "#fb9f3a"
            ],
            [
             0.8888888888888888,
             "#fdca26"
            ],
            [
             1,
             "#f0f921"
            ]
           ]
          },
          "colorway": [
           "#636efa",
           "#EF553B",
           "#00cc96",
           "#ab63fa",
           "#FFA15A",
           "#19d3f3",
           "#FF6692",
           "#B6E880",
           "#FF97FF",
           "#FECB52"
          ],
          "font": {
           "color": "#2a3f5f"
          },
          "geo": {
           "bgcolor": "white",
           "lakecolor": "white",
           "landcolor": "#E5ECF6",
           "showlakes": true,
           "showland": true,
           "subunitcolor": "white"
          },
          "hoverlabel": {
           "align": "left"
          },
          "hovermode": "closest",
          "mapbox": {
           "style": "light"
          },
          "paper_bgcolor": "white",
          "plot_bgcolor": "#E5ECF6",
          "polar": {
           "angularaxis": {
            "gridcolor": "white",
            "linecolor": "white",
            "ticks": ""
           },
           "bgcolor": "#E5ECF6",
           "radialaxis": {
            "gridcolor": "white",
            "linecolor": "white",
            "ticks": ""
           }
          },
          "scene": {
           "xaxis": {
            "backgroundcolor": "#E5ECF6",
            "gridcolor": "white",
            "gridwidth": 2,
            "linecolor": "white",
            "showbackground": true,
            "ticks": "",
            "zerolinecolor": "white"
           },
           "yaxis": {
            "backgroundcolor": "#E5ECF6",
            "gridcolor": "white",
            "gridwidth": 2,
            "linecolor": "white",
            "showbackground": true,
            "ticks": "",
            "zerolinecolor": "white"
           },
           "zaxis": {
            "backgroundcolor": "#E5ECF6",
            "gridcolor": "white",
            "gridwidth": 2,
            "linecolor": "white",
            "showbackground": true,
            "ticks": "",
            "zerolinecolor": "white"
           }
          },
          "shapedefaults": {
           "line": {
            "color": "#2a3f5f"
           }
          },
          "ternary": {
           "aaxis": {
            "gridcolor": "white",
            "linecolor": "white",
            "ticks": ""
           },
           "baxis": {
            "gridcolor": "white",
            "linecolor": "white",
            "ticks": ""
           },
           "bgcolor": "#E5ECF6",
           "caxis": {
            "gridcolor": "white",
            "linecolor": "white",
            "ticks": ""
           }
          },
          "title": {
           "x": 0.05
          },
          "xaxis": {
           "automargin": true,
           "gridcolor": "white",
           "linecolor": "white",
           "ticks": "",
           "title": {
            "standoff": 15
           },
           "zerolinecolor": "white",
           "zerolinewidth": 2
          },
          "yaxis": {
           "automargin": true,
           "gridcolor": "white",
           "linecolor": "white",
           "ticks": "",
           "title": {
            "standoff": 15
           },
           "zerolinecolor": "white",
           "zerolinewidth": 2
          }
         }
        },
        "title": {
         "text": "Mean Average Error (MAE) Scores for Different Regression Models"
        },
        "width": 700,
        "xaxis": {
         "anchor": "y",
         "categoryarray": [
          "Linear Regression",
          "Lasso Regression",
          "Ridge Regression",
          "Decision Tree",
          "Random Forest",
          "ElasticNet",
          "SVR",
          "Gradient Boosting",
          "Neural Network",
          "Bayesian Regression",
          "KNN Regression",
          "XGBoost",
          "Huber Regression",
          "Theil-Sen Regression"
         ],
         "categoryorder": "array",
         "domain": [
          0,
          1
         ],
         "title": {
          "text": "Model"
         }
        },
        "yaxis": {
         "anchor": "x",
         "domain": [
          0,
          1
         ],
         "title": {
          "text": "MSE Score"
         }
        }
       }
      }
     },
     "metadata": {},
     "output_type": "display_data"
    }
   ],
   "source": [
    "mae_scores = []\n",
    "\n",
    "for clf_name, clf in regressors:\n",
    "    # Fit clf to the training set\n",
    "    clf.fit(X_train, y_train)\n",
    "\n",
    "    # Predict y_pred\n",
    "    y_pred = clf.predict(X_test)\n",
    "\n",
    "    mae_score = mae(y_test, y_pred)\n",
    "    \n",
    "    mae_scores.append({'Model': clf_name, 'MSE Score': mae_score})\n",
    "\n",
    "# Create a DataFrame for the MSE scores\n",
    "mae_df = pd.DataFrame(mae_scores)\n",
    "\n",
    "# Create the bar plot using Plotly Express\n",
    "fig = px.bar(mae_df, x='Model', y='MSE Score', color='Model',\n",
    "             title='Mean Average Error (MAE) Scores for Different Regression Models',\n",
    "             width=700, height=400)\n",
    "\n",
    "# Show the plot\n",
    "fig.show()"
   ]
  },
  {
   "cell_type": "code",
   "execution_count": 98,
   "id": "3aef987c-1c2f-4755-81fd-15b0b8036073",
   "metadata": {
    "executionCancelledAt": null,
    "executionTime": null,
    "lastExecutedAt": null,
    "lastScheduledRunId": null,
    "lastSuccessfullyExecutedCode": null,
    "outputsMetadata": {
     "0": {
      "height": 290,
      "type": "stream"
     }
    }
   },
   "outputs": [
    {
     "name": "stdout",
     "output_type": "stream",
     "text": [
      "Linear Regression - R2 Score: 1.000\n",
      "Lasso Regression - R2 Score: 0.984\n",
      "Ridge Regression - R2 Score: 1.000\n",
      "Decision Tree - R2 Score: 1.000\n",
      "Random Forest - R2 Score: 1.000\n",
      "ElasticNet - R2 Score: 0.549\n",
      "SVR - R2 Score: -0.263\n",
      "Gradient Boosting - R2 Score: 1.000\n",
      "Neural Network - R2 Score: 0.528\n",
      "Bayesian Regression - R2 Score: -28.600\n",
      "KNN Regression - R2 Score: 0.007\n",
      "XGBoost - R2 Score: 1.000\n",
      "Huber Regression - R2 Score: 0.989\n",
      "Theil-Sen Regression - R2 Score: 0.986\n"
     ]
    }
   ],
   "source": [
    "from sklearn.metrics import r2_score\n",
    "\n",
    "for clf_name, clf in regressors:\n",
    "    # Fit clf to the training set\n",
    "    clf.fit(X_train, y_train)\n",
    "\n",
    "    # Predict y_pred\n",
    "    y_pred = clf.predict(X_test)\n",
    "\n",
    "    r2_score_value = r2_score(y_test, y_pred)\n",
    "\n",
    "    # Display R2 score for each model\n",
    "    print('{:s} - R2 Score: {:.3f}'.format(clf_name, r2_score_value))"
   ]
  },
  {
   "cell_type": "code",
   "execution_count": 99,
   "id": "9bc19066-d5e5-46d6-bc30-648a76986986",
   "metadata": {
    "executionCancelledAt": null,
    "executionTime": 16763,
    "lastExecutedAt": 1691831524153,
    "lastScheduledRunId": null,
    "lastSuccessfullyExecutedCode": "r2_scores = []\n\nfor clf_name, clf in regressors:\n    # Fit clf to the training set\n    clf.fit(X_train, y_train)\n\n    # Predict y_pred\n    y_pred = clf.predict(X_test)\n\n    r2 = r2_score(y_test, y_pred)\n    \n    r2_scores.append({'Model': clf_name, 'R2 Score': r2})\n\n# Create a DataFrame for the R2 scores\nr2_df = pd.DataFrame(r2_scores)\n\n# Create the bar plot using Plotly Express\nfig = px.bar(r2_df, x='Model', y='R2 Score', color='Model',\n             title='R-squared (R2) Scores for Different Regression Models',\n             width=700, height=400)\n\n# Show the plot\nfig.show()",
    "outputsMetadata": {
     "0": {
      "height": 17,
      "type": "plotly"
     }
    }
   },
   "outputs": [
    {
     "data": {
      "application/vnd.plotly.v1+json": {
       "config": {
        "plotlyServerURL": "https://plot.ly"
       },
       "data": [
        {
         "alignmentgroup": "True",
         "hovertemplate": "Model=%{x}<br>R2 Score=%{y}<extra></extra>",
         "legendgroup": "Linear Regression",
         "marker": {
          "color": "#636efa",
          "pattern": {
           "shape": ""
          }
         },
         "name": "Linear Regression",
         "offsetgroup": "Linear Regression",
         "orientation": "v",
         "showlegend": true,
         "textposition": "auto",
         "type": "bar",
         "x": [
          "Linear Regression"
         ],
         "xaxis": "x",
         "y": [
          0.9999215651347764
         ],
         "yaxis": "y"
        },
        {
         "alignmentgroup": "True",
         "hovertemplate": "Model=%{x}<br>R2 Score=%{y}<extra></extra>",
         "legendgroup": "Lasso Regression",
         "marker": {
          "color": "#EF553B",
          "pattern": {
           "shape": ""
          }
         },
         "name": "Lasso Regression",
         "offsetgroup": "Lasso Regression",
         "orientation": "v",
         "showlegend": true,
         "textposition": "auto",
         "type": "bar",
         "x": [
          "Lasso Regression"
         ],
         "xaxis": "x",
         "y": [
          0.9842298442816395
         ],
         "yaxis": "y"
        },
        {
         "alignmentgroup": "True",
         "hovertemplate": "Model=%{x}<br>R2 Score=%{y}<extra></extra>",
         "legendgroup": "Ridge Regression",
         "marker": {
          "color": "#00cc96",
          "pattern": {
           "shape": ""
          }
         },
         "name": "Ridge Regression",
         "offsetgroup": "Ridge Regression",
         "orientation": "v",
         "showlegend": true,
         "textposition": "auto",
         "type": "bar",
         "x": [
          "Ridge Regression"
         ],
         "xaxis": "x",
         "y": [
          0.9999111245454687
         ],
         "yaxis": "y"
        },
        {
         "alignmentgroup": "True",
         "hovertemplate": "Model=%{x}<br>R2 Score=%{y}<extra></extra>",
         "legendgroup": "Decision Tree",
         "marker": {
          "color": "#ab63fa",
          "pattern": {
           "shape": ""
          }
         },
         "name": "Decision Tree",
         "offsetgroup": "Decision Tree",
         "orientation": "v",
         "showlegend": true,
         "textposition": "auto",
         "type": "bar",
         "x": [
          "Decision Tree"
         ],
         "xaxis": "x",
         "y": [
          0.9998396599158503
         ],
         "yaxis": "y"
        },
        {
         "alignmentgroup": "True",
         "hovertemplate": "Model=%{x}<br>R2 Score=%{y}<extra></extra>",
         "legendgroup": "Random Forest",
         "marker": {
          "color": "#FFA15A",
          "pattern": {
           "shape": ""
          }
         },
         "name": "Random Forest",
         "offsetgroup": "Random Forest",
         "orientation": "v",
         "showlegend": true,
         "textposition": "auto",
         "type": "bar",
         "x": [
          "Random Forest"
         ],
         "xaxis": "x",
         "y": [
          0.9999037387021616
         ],
         "yaxis": "y"
        },
        {
         "alignmentgroup": "True",
         "hovertemplate": "Model=%{x}<br>R2 Score=%{y}<extra></extra>",
         "legendgroup": "ElasticNet",
         "marker": {
          "color": "#19d3f3",
          "pattern": {
           "shape": ""
          }
         },
         "name": "ElasticNet",
         "offsetgroup": "ElasticNet",
         "orientation": "v",
         "showlegend": true,
         "textposition": "auto",
         "type": "bar",
         "x": [
          "ElasticNet"
         ],
         "xaxis": "x",
         "y": [
          0.5489711945663445
         ],
         "yaxis": "y"
        },
        {
         "alignmentgroup": "True",
         "hovertemplate": "Model=%{x}<br>R2 Score=%{y}<extra></extra>",
         "legendgroup": "SVR",
         "marker": {
          "color": "#FF6692",
          "pattern": {
           "shape": ""
          }
         },
         "name": "SVR",
         "offsetgroup": "SVR",
         "orientation": "v",
         "showlegend": true,
         "textposition": "auto",
         "type": "bar",
         "x": [
          "SVR"
         ],
         "xaxis": "x",
         "y": [
          -0.2628520949920723
         ],
         "yaxis": "y"
        },
        {
         "alignmentgroup": "True",
         "hovertemplate": "Model=%{x}<br>R2 Score=%{y}<extra></extra>",
         "legendgroup": "Gradient Boosting",
         "marker": {
          "color": "#B6E880",
          "pattern": {
           "shape": ""
          }
         },
         "name": "Gradient Boosting",
         "offsetgroup": "Gradient Boosting",
         "orientation": "v",
         "showlegend": true,
         "textposition": "auto",
         "type": "bar",
         "x": [
          "Gradient Boosting"
         ],
         "xaxis": "x",
         "y": [
          0.9997161908526712
         ],
         "yaxis": "y"
        },
        {
         "alignmentgroup": "True",
         "hovertemplate": "Model=%{x}<br>R2 Score=%{y}<extra></extra>",
         "legendgroup": "Neural Network",
         "marker": {
          "color": "#FF97FF",
          "pattern": {
           "shape": ""
          }
         },
         "name": "Neural Network",
         "offsetgroup": "Neural Network",
         "orientation": "v",
         "showlegend": true,
         "textposition": "auto",
         "type": "bar",
         "x": [
          "Neural Network"
         ],
         "xaxis": "x",
         "y": [
          0.5052134644761156
         ],
         "yaxis": "y"
        },
        {
         "alignmentgroup": "True",
         "hovertemplate": "Model=%{x}<br>R2 Score=%{y}<extra></extra>",
         "legendgroup": "Bayesian Regression",
         "marker": {
          "color": "#FECB52",
          "pattern": {
           "shape": ""
          }
         },
         "name": "Bayesian Regression",
         "offsetgroup": "Bayesian Regression",
         "orientation": "v",
         "showlegend": true,
         "textposition": "auto",
         "type": "bar",
         "x": [
          "Bayesian Regression"
         ],
         "xaxis": "x",
         "y": [
          -28.600078770103988
         ],
         "yaxis": "y"
        },
        {
         "alignmentgroup": "True",
         "hovertemplate": "Model=%{x}<br>R2 Score=%{y}<extra></extra>",
         "legendgroup": "KNN Regression",
         "marker": {
          "color": "#636efa",
          "pattern": {
           "shape": ""
          }
         },
         "name": "KNN Regression",
         "offsetgroup": "KNN Regression",
         "orientation": "v",
         "showlegend": true,
         "textposition": "auto",
         "type": "bar",
         "x": [
          "KNN Regression"
         ],
         "xaxis": "x",
         "y": [
          0.006882593778610668
         ],
         "yaxis": "y"
        },
        {
         "alignmentgroup": "True",
         "hovertemplate": "Model=%{x}<br>R2 Score=%{y}<extra></extra>",
         "legendgroup": "XGBoost",
         "marker": {
          "color": "#EF553B",
          "pattern": {
           "shape": ""
          }
         },
         "name": "XGBoost",
         "offsetgroup": "XGBoost",
         "orientation": "v",
         "showlegend": true,
         "textposition": "auto",
         "type": "bar",
         "x": [
          "XGBoost"
         ],
         "xaxis": "x",
         "y": [
          0.9998948869134439
         ],
         "yaxis": "y"
        },
        {
         "alignmentgroup": "True",
         "hovertemplate": "Model=%{x}<br>R2 Score=%{y}<extra></extra>",
         "legendgroup": "Huber Regression",
         "marker": {
          "color": "#00cc96",
          "pattern": {
           "shape": ""
          }
         },
         "name": "Huber Regression",
         "offsetgroup": "Huber Regression",
         "orientation": "v",
         "showlegend": true,
         "textposition": "auto",
         "type": "bar",
         "x": [
          "Huber Regression"
         ],
         "xaxis": "x",
         "y": [
          0.988814599968565
         ],
         "yaxis": "y"
        },
        {
         "alignmentgroup": "True",
         "hovertemplate": "Model=%{x}<br>R2 Score=%{y}<extra></extra>",
         "legendgroup": "Theil-Sen Regression",
         "marker": {
          "color": "#ab63fa",
          "pattern": {
           "shape": ""
          }
         },
         "name": "Theil-Sen Regression",
         "offsetgroup": "Theil-Sen Regression",
         "orientation": "v",
         "showlegend": true,
         "textposition": "auto",
         "type": "bar",
         "x": [
          "Theil-Sen Regression"
         ],
         "xaxis": "x",
         "y": [
          0.9912776051373937
         ],
         "yaxis": "y"
        }
       ],
       "layout": {
        "barmode": "relative",
        "height": 400,
        "legend": {
         "title": {
          "text": "Model"
         },
         "tracegroupgap": 0
        },
        "template": {
         "data": {
          "bar": [
           {
            "error_x": {
             "color": "#2a3f5f"
            },
            "error_y": {
             "color": "#2a3f5f"
            },
            "marker": {
             "line": {
              "color": "#E5ECF6",
              "width": 0.5
             },
             "pattern": {
              "fillmode": "overlay",
              "size": 10,
              "solidity": 0.2
             }
            },
            "type": "bar"
           }
          ],
          "barpolar": [
           {
            "marker": {
             "line": {
              "color": "#E5ECF6",
              "width": 0.5
             },
             "pattern": {
              "fillmode": "overlay",
              "size": 10,
              "solidity": 0.2
             }
            },
            "type": "barpolar"
           }
          ],
          "carpet": [
           {
            "aaxis": {
             "endlinecolor": "#2a3f5f",
             "gridcolor": "white",
             "linecolor": "white",
             "minorgridcolor": "white",
             "startlinecolor": "#2a3f5f"
            },
            "baxis": {
             "endlinecolor": "#2a3f5f",
             "gridcolor": "white",
             "linecolor": "white",
             "minorgridcolor": "white",
             "startlinecolor": "#2a3f5f"
            },
            "type": "carpet"
           }
          ],
          "choropleth": [
           {
            "colorbar": {
             "outlinewidth": 0,
             "ticks": ""
            },
            "type": "choropleth"
           }
          ],
          "contour": [
           {
            "colorbar": {
             "outlinewidth": 0,
             "ticks": ""
            },
            "colorscale": [
             [
              0,
              "#0d0887"
             ],
             [
              0.1111111111111111,
              "#46039f"
             ],
             [
              0.2222222222222222,
              "#7201a8"
             ],
             [
              0.3333333333333333,
              "#9c179e"
             ],
             [
              0.4444444444444444,
              "#bd3786"
             ],
             [
              0.5555555555555556,
              "#d8576b"
             ],
             [
              0.6666666666666666,
              "#ed7953"
             ],
             [
              0.7777777777777778,
              "#fb9f3a"
             ],
             [
              0.8888888888888888,
              "#fdca26"
             ],
             [
              1,
              "#f0f921"
             ]
            ],
            "type": "contour"
           }
          ],
          "contourcarpet": [
           {
            "colorbar": {
             "outlinewidth": 0,
             "ticks": ""
            },
            "type": "contourcarpet"
           }
          ],
          "heatmap": [
           {
            "colorbar": {
             "outlinewidth": 0,
             "ticks": ""
            },
            "colorscale": [
             [
              0,
              "#0d0887"
             ],
             [
              0.1111111111111111,
              "#46039f"
             ],
             [
              0.2222222222222222,
              "#7201a8"
             ],
             [
              0.3333333333333333,
              "#9c179e"
             ],
             [
              0.4444444444444444,
              "#bd3786"
             ],
             [
              0.5555555555555556,
              "#d8576b"
             ],
             [
              0.6666666666666666,
              "#ed7953"
             ],
             [
              0.7777777777777778,
              "#fb9f3a"
             ],
             [
              0.8888888888888888,
              "#fdca26"
             ],
             [
              1,
              "#f0f921"
             ]
            ],
            "type": "heatmap"
           }
          ],
          "heatmapgl": [
           {
            "colorbar": {
             "outlinewidth": 0,
             "ticks": ""
            },
            "colorscale": [
             [
              0,
              "#0d0887"
             ],
             [
              0.1111111111111111,
              "#46039f"
             ],
             [
              0.2222222222222222,
              "#7201a8"
             ],
             [
              0.3333333333333333,
              "#9c179e"
             ],
             [
              0.4444444444444444,
              "#bd3786"
             ],
             [
              0.5555555555555556,
              "#d8576b"
             ],
             [
              0.6666666666666666,
              "#ed7953"
             ],
             [
              0.7777777777777778,
              "#fb9f3a"
             ],
             [
              0.8888888888888888,
              "#fdca26"
             ],
             [
              1,
              "#f0f921"
             ]
            ],
            "type": "heatmapgl"
           }
          ],
          "histogram": [
           {
            "marker": {
             "pattern": {
              "fillmode": "overlay",
              "size": 10,
              "solidity": 0.2
             }
            },
            "type": "histogram"
           }
          ],
          "histogram2d": [
           {
            "colorbar": {
             "outlinewidth": 0,
             "ticks": ""
            },
            "colorscale": [
             [
              0,
              "#0d0887"
             ],
             [
              0.1111111111111111,
              "#46039f"
             ],
             [
              0.2222222222222222,
              "#7201a8"
             ],
             [
              0.3333333333333333,
              "#9c179e"
             ],
             [
              0.4444444444444444,
              "#bd3786"
             ],
             [
              0.5555555555555556,
              "#d8576b"
             ],
             [
              0.6666666666666666,
              "#ed7953"
             ],
             [
              0.7777777777777778,
              "#fb9f3a"
             ],
             [
              0.8888888888888888,
              "#fdca26"
             ],
             [
              1,
              "#f0f921"
             ]
            ],
            "type": "histogram2d"
           }
          ],
          "histogram2dcontour": [
           {
            "colorbar": {
             "outlinewidth": 0,
             "ticks": ""
            },
            "colorscale": [
             [
              0,
              "#0d0887"
             ],
             [
              0.1111111111111111,
              "#46039f"
             ],
             [
              0.2222222222222222,
              "#7201a8"
             ],
             [
              0.3333333333333333,
              "#9c179e"
             ],
             [
              0.4444444444444444,
              "#bd3786"
             ],
             [
              0.5555555555555556,
              "#d8576b"
             ],
             [
              0.6666666666666666,
              "#ed7953"
             ],
             [
              0.7777777777777778,
              "#fb9f3a"
             ],
             [
              0.8888888888888888,
              "#fdca26"
             ],
             [
              1,
              "#f0f921"
             ]
            ],
            "type": "histogram2dcontour"
           }
          ],
          "mesh3d": [
           {
            "colorbar": {
             "outlinewidth": 0,
             "ticks": ""
            },
            "type": "mesh3d"
           }
          ],
          "parcoords": [
           {
            "line": {
             "colorbar": {
              "outlinewidth": 0,
              "ticks": ""
             }
            },
            "type": "parcoords"
           }
          ],
          "pie": [
           {
            "automargin": true,
            "type": "pie"
           }
          ],
          "scatter": [
           {
            "fillpattern": {
             "fillmode": "overlay",
             "size": 10,
             "solidity": 0.2
            },
            "type": "scatter"
           }
          ],
          "scatter3d": [
           {
            "line": {
             "colorbar": {
              "outlinewidth": 0,
              "ticks": ""
             }
            },
            "marker": {
             "colorbar": {
              "outlinewidth": 0,
              "ticks": ""
             }
            },
            "type": "scatter3d"
           }
          ],
          "scattercarpet": [
           {
            "marker": {
             "colorbar": {
              "outlinewidth": 0,
              "ticks": ""
             }
            },
            "type": "scattercarpet"
           }
          ],
          "scattergeo": [
           {
            "marker": {
             "colorbar": {
              "outlinewidth": 0,
              "ticks": ""
             }
            },
            "type": "scattergeo"
           }
          ],
          "scattergl": [
           {
            "marker": {
             "colorbar": {
              "outlinewidth": 0,
              "ticks": ""
             }
            },
            "type": "scattergl"
           }
          ],
          "scattermapbox": [
           {
            "marker": {
             "colorbar": {
              "outlinewidth": 0,
              "ticks": ""
             }
            },
            "type": "scattermapbox"
           }
          ],
          "scatterpolar": [
           {
            "marker": {
             "colorbar": {
              "outlinewidth": 0,
              "ticks": ""
             }
            },
            "type": "scatterpolar"
           }
          ],
          "scatterpolargl": [
           {
            "marker": {
             "colorbar": {
              "outlinewidth": 0,
              "ticks": ""
             }
            },
            "type": "scatterpolargl"
           }
          ],
          "scatterternary": [
           {
            "marker": {
             "colorbar": {
              "outlinewidth": 0,
              "ticks": ""
             }
            },
            "type": "scatterternary"
           }
          ],
          "surface": [
           {
            "colorbar": {
             "outlinewidth": 0,
             "ticks": ""
            },
            "colorscale": [
             [
              0,
              "#0d0887"
             ],
             [
              0.1111111111111111,
              "#46039f"
             ],
             [
              0.2222222222222222,
              "#7201a8"
             ],
             [
              0.3333333333333333,
              "#9c179e"
             ],
             [
              0.4444444444444444,
              "#bd3786"
             ],
             [
              0.5555555555555556,
              "#d8576b"
             ],
             [
              0.6666666666666666,
              "#ed7953"
             ],
             [
              0.7777777777777778,
              "#fb9f3a"
             ],
             [
              0.8888888888888888,
              "#fdca26"
             ],
             [
              1,
              "#f0f921"
             ]
            ],
            "type": "surface"
           }
          ],
          "table": [
           {
            "cells": {
             "fill": {
              "color": "#EBF0F8"
             },
             "line": {
              "color": "white"
             }
            },
            "header": {
             "fill": {
              "color": "#C8D4E3"
             },
             "line": {
              "color": "white"
             }
            },
            "type": "table"
           }
          ]
         },
         "layout": {
          "annotationdefaults": {
           "arrowcolor": "#2a3f5f",
           "arrowhead": 0,
           "arrowwidth": 1
          },
          "autotypenumbers": "strict",
          "coloraxis": {
           "colorbar": {
            "outlinewidth": 0,
            "ticks": ""
           }
          },
          "colorscale": {
           "diverging": [
            [
             0,
             "#8e0152"
            ],
            [
             0.1,
             "#c51b7d"
            ],
            [
             0.2,
             "#de77ae"
            ],
            [
             0.3,
             "#f1b6da"
            ],
            [
             0.4,
             "#fde0ef"
            ],
            [
             0.5,
             "#f7f7f7"
            ],
            [
             0.6,
             "#e6f5d0"
            ],
            [
             0.7,
             "#b8e186"
            ],
            [
             0.8,
             "#7fbc41"
            ],
            [
             0.9,
             "#4d9221"
            ],
            [
             1,
             "#276419"
            ]
           ],
           "sequential": [
            [
             0,
             "#0d0887"
            ],
            [
             0.1111111111111111,
             "#46039f"
            ],
            [
             0.2222222222222222,
             "#7201a8"
            ],
            [
             0.3333333333333333,
             "#9c179e"
            ],
            [
             0.4444444444444444,
             "#bd3786"
            ],
            [
             0.5555555555555556,
             "#d8576b"
            ],
            [
             0.6666666666666666,
             "#ed7953"
            ],
            [
             0.7777777777777778,
             "#fb9f3a"
            ],
            [
             0.8888888888888888,
             "#fdca26"
            ],
            [
             1,
             "#f0f921"
            ]
           ],
           "sequentialminus": [
            [
             0,
             "#0d0887"
            ],
            [
             0.1111111111111111,
             "#46039f"
            ],
            [
             0.2222222222222222,
             "#7201a8"
            ],
            [
             0.3333333333333333,
             "#9c179e"
            ],
            [
             0.4444444444444444,
             "#bd3786"
            ],
            [
             0.5555555555555556,
             "#d8576b"
            ],
            [
             0.6666666666666666,
             "#ed7953"
            ],
            [
             0.7777777777777778,
             "#fb9f3a"
            ],
            [
             0.8888888888888888,
             "#fdca26"
            ],
            [
             1,
             "#f0f921"
            ]
           ]
          },
          "colorway": [
           "#636efa",
           "#EF553B",
           "#00cc96",
           "#ab63fa",
           "#FFA15A",
           "#19d3f3",
           "#FF6692",
           "#B6E880",
           "#FF97FF",
           "#FECB52"
          ],
          "font": {
           "color": "#2a3f5f"
          },
          "geo": {
           "bgcolor": "white",
           "lakecolor": "white",
           "landcolor": "#E5ECF6",
           "showlakes": true,
           "showland": true,
           "subunitcolor": "white"
          },
          "hoverlabel": {
           "align": "left"
          },
          "hovermode": "closest",
          "mapbox": {
           "style": "light"
          },
          "paper_bgcolor": "white",
          "plot_bgcolor": "#E5ECF6",
          "polar": {
           "angularaxis": {
            "gridcolor": "white",
            "linecolor": "white",
            "ticks": ""
           },
           "bgcolor": "#E5ECF6",
           "radialaxis": {
            "gridcolor": "white",
            "linecolor": "white",
            "ticks": ""
           }
          },
          "scene": {
           "xaxis": {
            "backgroundcolor": "#E5ECF6",
            "gridcolor": "white",
            "gridwidth": 2,
            "linecolor": "white",
            "showbackground": true,
            "ticks": "",
            "zerolinecolor": "white"
           },
           "yaxis": {
            "backgroundcolor": "#E5ECF6",
            "gridcolor": "white",
            "gridwidth": 2,
            "linecolor": "white",
            "showbackground": true,
            "ticks": "",
            "zerolinecolor": "white"
           },
           "zaxis": {
            "backgroundcolor": "#E5ECF6",
            "gridcolor": "white",
            "gridwidth": 2,
            "linecolor": "white",
            "showbackground": true,
            "ticks": "",
            "zerolinecolor": "white"
           }
          },
          "shapedefaults": {
           "line": {
            "color": "#2a3f5f"
           }
          },
          "ternary": {
           "aaxis": {
            "gridcolor": "white",
            "linecolor": "white",
            "ticks": ""
           },
           "baxis": {
            "gridcolor": "white",
            "linecolor": "white",
            "ticks": ""
           },
           "bgcolor": "#E5ECF6",
           "caxis": {
            "gridcolor": "white",
            "linecolor": "white",
            "ticks": ""
           }
          },
          "title": {
           "x": 0.05
          },
          "xaxis": {
           "automargin": true,
           "gridcolor": "white",
           "linecolor": "white",
           "ticks": "",
           "title": {
            "standoff": 15
           },
           "zerolinecolor": "white",
           "zerolinewidth": 2
          },
          "yaxis": {
           "automargin": true,
           "gridcolor": "white",
           "linecolor": "white",
           "ticks": "",
           "title": {
            "standoff": 15
           },
           "zerolinecolor": "white",
           "zerolinewidth": 2
          }
         }
        },
        "title": {
         "text": "R-squared (R2) Scores for Different Regression Models"
        },
        "width": 700,
        "xaxis": {
         "anchor": "y",
         "categoryarray": [
          "Linear Regression",
          "Lasso Regression",
          "Ridge Regression",
          "Decision Tree",
          "Random Forest",
          "ElasticNet",
          "SVR",
          "Gradient Boosting",
          "Neural Network",
          "Bayesian Regression",
          "KNN Regression",
          "XGBoost",
          "Huber Regression",
          "Theil-Sen Regression"
         ],
         "categoryorder": "array",
         "domain": [
          0,
          1
         ],
         "title": {
          "text": "Model"
         }
        },
        "yaxis": {
         "anchor": "x",
         "domain": [
          0,
          1
         ],
         "title": {
          "text": "R2 Score"
         }
        }
       }
      }
     },
     "metadata": {},
     "output_type": "display_data"
    }
   ],
   "source": [
    "r2_scores = []\n",
    "\n",
    "for clf_name, clf in regressors:\n",
    "    # Fit clf to the training set\n",
    "    clf.fit(X_train, y_train)\n",
    "\n",
    "    # Predict y_pred\n",
    "    y_pred = clf.predict(X_test)\n",
    "\n",
    "    r2 = r2_score(y_test, y_pred)\n",
    "    \n",
    "    r2_scores.append({'Model': clf_name, 'R2 Score': r2})\n",
    "\n",
    "# Create a DataFrame for the R2 scores\n",
    "r2_df = pd.DataFrame(r2_scores)\n",
    "\n",
    "# Create the bar plot using Plotly Express\n",
    "fig = px.bar(r2_df, x='Model', y='R2 Score', color='Model',\n",
    "             title='R-squared (R2) Scores for Different Regression Models',\n",
    "             width=700, height=400)\n",
    "\n",
    "# Show the plot\n",
    "fig.show()"
   ]
  },
  {
   "cell_type": "code",
   "execution_count": 100,
   "id": "9b15e69f-1026-4150-9d1c-3248d3bc5942",
   "metadata": {
    "executionCancelledAt": null,
    "executionTime": 12028,
    "lastExecutedAt": 1691831536181,
    "lastScheduledRunId": null,
    "lastSuccessfullyExecutedCode": "num_values_to_print = 5\n\nfor clf_name, clf in regressors:\n    # Fit clf to the training set\n    clf.fit(X_train, y_train)\n\n    # Predict y_pred\n    y_pred = clf.predict(X_test)\n    \n    # Print actual and predicted values for each model\n    print(f'{clf_name} - Actual: {y_test[:num_values_to_print]}, Predicted: {y_pred[:num_values_to_print]}')",
    "outputsMetadata": {
     "0": {
      "height": 616,
      "type": "stream"
     }
    }
   },
   "outputs": [
    {
     "name": "stdout",
     "output_type": "stream",
     "text": [
      "Linear Regression - Actual: 233     241\n",
      "1566    180\n",
      "486     251\n",
      "799     261\n",
      "1233    256\n",
      "Name: enrollment_count, dtype: int64, Predicted: [240.97459333 180.06724936 250.96698407 260.96869137 256.06810636]\n",
      "Lasso Regression - Actual: 233     241\n",
      "1566    180\n",
      "486     251\n",
      "799     261\n",
      "1233    256\n",
      "Name: enrollment_count, dtype: int64, Predicted: [244.72078365 175.26425032 248.67818299 257.06201353 247.46262318]\n",
      "Ridge Regression - Actual: 233     241\n",
      "1566    180\n",
      "486     251\n",
      "799     261\n",
      "1233    256\n",
      "Name: enrollment_count, dtype: int64, Predicted: [240.94626294 180.03625548 250.93278337 260.93946668 255.69632561]\n",
      "Decision Tree - Actual: 233     241\n",
      "1566    180\n",
      "486     251\n",
      "799     261\n",
      "1233    256\n",
      "Name: enrollment_count, dtype: int64, Predicted: [241. 180. 251. 261. 256.]\n",
      "Random Forest - Actual: 233     241\n",
      "1566    180\n",
      "486     251\n",
      "799     261\n",
      "1233    256\n",
      "Name: enrollment_count, dtype: int64, Predicted: [241. 180. 251. 261. 256.]\n",
      "ElasticNet - Actual: 233     241\n",
      "1566    180\n",
      "486     251\n",
      "799     261\n",
      "1233    256\n",
      "Name: enrollment_count, dtype: int64, Predicted: [233.41110604 212.38736718 238.37514477 245.49504556 233.70499928]\n",
      "SVR - Actual: 233     241\n",
      "1566    180\n",
      "486     251\n",
      "799     261\n",
      "1233    256\n",
      "Name: enrollment_count, dtype: int64, Predicted: [250.90017114 250.89937973 250.89997132 250.89996776 250.89993461]\n",
      "Gradient Boosting - Actual: 233     241\n",
      "1566    180\n",
      "486     251\n",
      "799     261\n",
      "1233    256\n",
      "Name: enrollment_count, dtype: int64, Predicted: [241.34881829 180.12032929 251.11758923 260.98671219 254.68712183]\n",
      "Neural Network - Actual: 233     241\n",
      "1566    180\n",
      "486     251\n",
      "799     261\n",
      "1233    256\n",
      "Name: enrollment_count, dtype: int64, Predicted: [229.58818008 212.35702061 245.49981454 260.21649276 232.35436599]\n",
      "Bayesian Regression - Actual: 233     241\n",
      "1566    180\n",
      "486     251\n",
      "799     261\n",
      "1233    256\n",
      "Name: enrollment_count, dtype: int64, Predicted: [ 29.31420876  25.32497986 105.5214747   56.06762134  27.75250076]\n",
      "KNN Regression - Actual: 233     241\n",
      "1566    180\n",
      "486     251\n",
      "799     261\n",
      "1233    256\n",
      "Name: enrollment_count, dtype: int64, Predicted: [233.  231.  230.6 202.4 230.8]\n",
      "XGBoost - Actual: 233     241\n",
      "1566    180\n",
      "486     251\n",
      "799     261\n",
      "1233    256\n",
      "Name: enrollment_count, dtype: int64, Predicted: [241.22815 180.03592 250.9956  260.98306 256.09564]\n",
      "Huber Regression - Actual: 233     241\n",
      "1566    180\n",
      "486     251\n",
      "799     261\n",
      "1233    256\n",
      "Name: enrollment_count, dtype: int64, Predicted: [240.3699346  171.75702019 252.91814533 261.33089976 247.11830512]\n",
      "Theil-Sen Regression - Actual: 233     241\n",
      "1566    180\n",
      "486     251\n",
      "799     261\n",
      "1233    256\n",
      "Name: enrollment_count, dtype: int64, Predicted: [245.2535184  166.66928215 250.09124201 261.01063094 243.53549689]\n"
     ]
    }
   ],
   "source": [
    "num_values_to_print = 5\n",
    "\n",
    "for clf_name, clf in regressors:\n",
    "    # Fit clf to the training set\n",
    "    clf.fit(X_train, y_train)\n",
    "\n",
    "    # Predict y_pred\n",
    "    y_pred = clf.predict(X_test)\n",
    "    \n",
    "    # Print actual and predicted values for each model\n",
    "    print(f'{clf_name} - Actual: {y_test[:num_values_to_print]}, Predicted: {y_pred[:num_values_to_print]}')"
   ]
  },
  {
   "cell_type": "code",
   "execution_count": 101,
   "id": "819b8a88-9946-4e34-8b77-746235330c94",
   "metadata": {
    "executionCancelledAt": null,
    "executionTime": 10939,
    "lastExecutedAt": 1691831547120,
    "lastScheduledRunId": null,
    "lastSuccessfullyExecutedCode": "dfs = []\n\nfor clf_name, clf in regressors:\n    # Fit clf to the training set\n    clf.fit(X_train, y_train)\n\n    # Predict y_pred\n    y_pred = clf.predict(X_test)\n    \n    # Create DataFrame for each model\n    model_df = pd.DataFrame({'Actual': y_test, 'Predicted': y_pred})\n    model_df['Model'] = clf_name  \n    \n    dfs.append(model_df)\n\n# Concatenate all DataFrames into a single DataFrame\ncomparison_df = pd.concat(dfs, ignore_index=True)\n\n# Display the DataFrame\nprint(comparison_df.sample(20))",
    "outputsMetadata": {
     "0": {
      "height": 435,
      "type": "stream"
     }
    }
   },
   "outputs": [
    {
     "name": "stdout",
     "output_type": "stream",
     "text": [
      "      Actual   Predicted                 Model\n",
      "2235     232  250.899633                   SVR\n",
      "5076     251  250.215176  Theil-Sen Regression\n",
      "51       261  261.030141     Linear Regression\n",
      "125      165  165.068184     Linear Regression\n",
      "2483     175  250.899559                   SVR\n",
      "2393     261  250.900504                   SVR\n",
      "1019     241  240.938119      Ridge Regression\n",
      "3888     261  252.000000        KNN Regression\n",
      "289      246  246.161853     Linear Regression\n",
      "1677     251  251.000000         Random Forest\n",
      "2611     251  251.117589     Gradient Boosting\n",
      "776      261  260.975708      Ridge Regression\n",
      "4822     241  240.327923  Theil-Sen Regression\n",
      "417      251  248.685441      Lasso Regression\n",
      "1383     256  256.000000         Decision Tree\n",
      "959      261  260.997856      Ridge Regression\n",
      "3916     165  233.600000        KNN Regression\n",
      "1693     241  241.110000         Random Forest\n",
      "2903     251  251.117589     Gradient Boosting\n",
      "5024     256  256.393228  Theil-Sen Regression\n"
     ]
    }
   ],
   "source": [
    "dfs = []\n",
    "\n",
    "for clf_name, clf in regressors:\n",
    "    # Fit clf to the training set\n",
    "    clf.fit(X_train, y_train)\n",
    "\n",
    "    # Predict y_pred\n",
    "    y_pred = clf.predict(X_test)\n",
    "    \n",
    "    # Create DataFrame for each model\n",
    "    model_df = pd.DataFrame({'Actual': y_test, 'Predicted': y_pred})\n",
    "    model_df['Model'] = clf_name  \n",
    "    \n",
    "    dfs.append(model_df)\n",
    "\n",
    "# Concatenate all DataFrames into a single DataFrame\n",
    "comparison_df = pd.concat(dfs, ignore_index=True)\n",
    "\n",
    "# Display the DataFrame\n",
    "print(comparison_df.sample(20))"
   ]
  },
  {
   "cell_type": "code",
   "execution_count": 102,
   "id": "26198877-d373-42ac-80a1-2a0b620ca4ec",
   "metadata": {
    "executionCancelledAt": null,
    "executionTime": 48004,
    "lastExecutedAt": 1691831595124,
    "lastScheduledRunId": null,
    "lastSuccessfullyExecutedCode": "model_names = []\ncv_scores = []\n\n# Perform cross-validation for each model\nfor clf_name, clf in regressors:\n    # Calculate cross-validation scores using 5-fold cross-validation\n    scores = cross_val_score(clf, X_train, y_train, cv=5, scoring='neg_mean_squared_error')\n    \n    # Convert negative MSE scores to positive RMSE scores\n    rmse_scores = np.sqrt(-scores)\n    \n    # Calculate the mean RMSE score and store it\n    mean_rmse = np.mean(rmse_scores)\n    \n    # Append model name and cross-validation score to respective lists\n    model_names.append(clf_name)\n    cv_scores.append(mean_rmse)\n\n# Create a DataFrame to store model names and cross-validation scores\ncv_results = pd.DataFrame({'Model': model_names, 'Cross-Validation RMSE': cv_scores})\n\n# Display the cross-validation results\nprint(cv_results)",
    "outputsMetadata": {
     "0": {
      "height": 315,
      "type": "stream"
     }
    }
   },
   "outputs": [
    {
     "name": "stdout",
     "output_type": "stream",
     "text": [
      "                   Model  Cross-Validation RMSE\n",
      "0      Linear Regression               0.328879\n",
      "1       Lasso Regression               4.500847\n",
      "2       Ridge Regression               0.381293\n",
      "3          Decision Tree               0.501945\n",
      "4          Random Forest               0.380987\n",
      "5             ElasticNet              24.784805\n",
      "6                    SVR              42.099275\n",
      "7      Gradient Boosting               0.600848\n",
      "8         Neural Network              29.747490\n",
      "9    Bayesian Regression             195.619108\n",
      "10        KNN Regression              37.839340\n",
      "11               XGBoost               0.396033\n",
      "12      Huber Regression               6.143978\n",
      "13  Theil-Sen Regression               4.141870\n"
     ]
    }
   ],
   "source": [
    "model_names = []\n",
    "cv_scores = []\n",
    "\n",
    "# Perform cross-validation for each model\n",
    "for clf_name, clf in regressors:\n",
    "    # Calculate cross-validation scores using 5-fold cross-validation\n",
    "    scores = cross_val_score(clf, X_train, y_train, cv=5, scoring='neg_mean_squared_error')\n",
    "    \n",
    "    # Convert negative MSE scores to positive RMSE scores\n",
    "    rmse_scores = np.sqrt(-scores)\n",
    "    \n",
    "    # Calculate the mean RMSE score and store it\n",
    "    mean_rmse = np.mean(rmse_scores)\n",
    "    \n",
    "    # Append model name and cross-validation score to respective lists\n",
    "    model_names.append(clf_name)\n",
    "    cv_scores.append(mean_rmse)\n",
    "\n",
    "# Create a DataFrame to store model names and cross-validation scores\n",
    "cv_results = pd.DataFrame({'Model': model_names, 'Cross-Validation RMSE': cv_scores})\n",
    "\n",
    "# Display the cross-validation results\n",
    "print(cv_results)"
   ]
  },
  {
   "cell_type": "markdown",
   "id": "84fc2a09-ea39-4a6f-85b2-5d17957e1ac5",
   "metadata": {},
   "source": [
    "## Task 8\n",
    "## Comparison Model for Enrollment Prediction, Model Selection Rationale, Model Performance Comparison and Model Performance Analysis\n",
    "\n",
    "\n",
    "*Metrics Explanation:*\n",
    "- *Coefficient of Determination (R2):* R2 measures the proportion of variance in the target variable (enrollment count) that is explained by the linear relationship with the features. An R2 score of 1 indicates that the model perfectly predicts the target variable based on the features.\n",
    "\n",
    "- *Root Mean Squared Error (RMSE):* RMSE represents the average magnitude of the errors between predicted and actual values. A smaller RMSE value indicates that the model's predictions are closer to the actual values.\n",
    "\n",
    "*Applying Metrics to Linear Regression:*\n",
    "- *R2 Score Interpretation:* In the case of the Linear Regression model, the R2 score provides insight into how well the linear relationship between the features and the target variable fits the data. A higher R2 score indicates a better fit, meaning that a larger portion of the variance in enrollment count is explained by the linear relationship with the features.\n",
    "\n",
    "- *RMSE Interpretation:* RMSE quantifies the average magnitude of errors in the model's predictions. A lower RMSE indicates that the model's predictions are closer to the actual enrollment counts, suggesting that the model's fit is better and its predictions are more accurate.\n",
    "\n",
    "\n",
    "*Conclusion:*\n",
    "The chosen Linear Regression model aims to predict enrollment count based on linear relationships between features and the target variable. The metrics R2 and RMSE provide valuable insights into the model's performance. A higher R2 score and a lower RMSE score indicate that the model is effective at capturing the linear patterns in the data and producing accurate enrollment count predictions. However, it's important to note that Linear Regression's effectiveness may be limited when dealing with complex non-linear relationships or data with significant categorical variables."
   ]
  }
 ],
 "metadata": {
  "colab": {
   "name": "Welcome to DataCamp Workspaces.ipynb",
   "provenance": []
  },
  "kernelspec": {
   "display_name": "Python 3 (ipykernel)",
   "language": "python",
   "name": "python3"
  },
  "language_info": {
   "codemirror_mode": {
    "name": "ipython",
    "version": 3
   },
   "file_extension": ".py",
   "mimetype": "text/x-python",
   "name": "python",
   "nbconvert_exporter": "python",
   "pygments_lexer": "ipython3",
   "version": "3.11.4"
  }
 },
 "nbformat": 4,
 "nbformat_minor": 5
}
